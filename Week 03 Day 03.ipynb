{
  "cells": [
    {
      "cell_type": "markdown",
      "metadata": {},
      "source": [
        "# Week 03 Day 03 : Python For Everyone\n",
        "\n",
        "### Topics :Membership Testing & Sorting in Python\n",
        "---\n",
        "* [Youtube Playlist](https://www.youtube.com/playlist?list=PLAIRSMdFhzoKg8KZ5zIbH64wtV8bhshfT) \n",
        "* [GitHub Repo](https://github.com/muhammadfahd/python-for-everyone-course) \n",
        "* [Read me ](README.md) \n",
        "\n",
        "For previous check out\n",
        "* [Week 03 Day 01](./Week%2003%20Day%2001.ipynb)\n",
        "* [Week 03 Day 02](./Week%2003%20Day%2002.ipynb)\n",
        "\n",
        "Join Icodeguru For live Classes \n",
        "* [Join Now](https://icode.guru/join/)\n",
        "---"
      ]
    },
    {
      "cell_type": "markdown",
      "metadata": {
        "id": "LmnTWepT_DVm"
      },
      "source": [
        "## Membership Testing, Sorting Python**"
      ]
    },
    {
      "cell_type": "markdown",
      "metadata": {
        "id": "Ejr2cTsd_Yzc"
      },
      "source": [
        "### Membership\n",
        "**✅ Concept:**\n",
        "Membership testing is used to check if a value exists in a collection (like lists, sets, tuples, dicts, or strings) using the in and not in operators.\n",
        "\n",
        "**🧪 Syntax:**\n",
        "value in collection\n",
        "value not in collection"
      ]
    },
    {
      "cell_type": "code",
      "execution_count": null,
      "metadata": {},
      "outputs": [],
      "source": [
        "# in  Lists\n",
        "fruits = ['apple', 'banana', 'cherry']\n",
        "#print('apple' in fruits)     # True\n",
        "print('mango' not in fruits) # True"
      ]
    },
    {
      "cell_type": "code",
      "execution_count": null,
      "metadata": {},
      "outputs": [],
      "source": [
        "# in Strings\n",
        "text = \"hello world\"\n",
        "print('t' in text)           # True"
      ]
    },
    {
      "cell_type": "code",
      "execution_count": null,
      "metadata": {},
      "outputs": [],
      "source": [
        "# in Sets\n",
        "num_set = {1, 2, 3}\n",
        "print(3 in num_set)          # False\n"
      ]
    },
    {
      "cell_type": "code",
      "execution_count": null,
      "metadata": {
        "colab": {
          "base_uri": "https://localhost:8080/"
        },
        "id": "rdGMBo0g_CEE",
        "outputId": "9f9bde4f-09b1-490b-be79-c55eb0d23dc3"
      },
      "outputs": [
        {
          "name": "stdout",
          "output_type": "stream",
          "text": [
            "False\n"
          ]
        }
      ],
      "source": [
        "# Dictionary: only checks keys\n",
        "student = {'name': 'Alice', 'age': 21, 'address':'ISB'}\n",
        "#print('name' in student)     # True\n",
        "#print('address' in student)\n",
        "print('Alice' in student)    # False"
      ]
    },
    {
      "cell_type": "markdown",
      "metadata": {
        "id": "vTKKI2dq_lij"
      },
      "source": [
        "⚠️ **Notes**:\n",
        "For **dictionaries**, in checks keys, not values.\n",
        "in is case-sensitive in strings and lists."
      ]
    },
    {
      "cell_type": "code",
      "execution_count": null,
      "metadata": {
        "colab": {
          "base_uri": "https://localhost:8080/"
        },
        "id": "M2mivE2T_uxp",
        "outputId": "3401d0a4-46bc-47dc-a71a-db8e8df670a9"
      },
      "outputs": [
        {
          "data": {
            "text/plain": [
              "False"
            ]
          },
          "execution_count": 6,
          "metadata": {},
          "output_type": "execute_result"
        }
      ],
      "source": [
        "d = {'a': 1, 'b': 2}\n",
        "# 'a' in d      # ✅ True (checks keys)\n",
        "1 in d        # ❌ False (1 is a value, not a key)\n"
      ]
    },
    {
      "cell_type": "code",
      "execution_count": null,
      "metadata": {
        "colab": {
          "base_uri": "https://localhost:8080/"
        },
        "id": "nnir_EtX_xr8",
        "outputId": "923f63fb-abea-44ed-dc15-c6e057e83b88"
      },
      "outputs": [
        {
          "data": {
            "text/plain": [
              "True"
            ]
          },
          "execution_count": 26,
          "metadata": {},
          "output_type": "execute_result"
        }
      ],
      "source": [
        "#'a' in 'Apple'    # ❌ False (case-sensitive)\n",
        "#'A' in 'Apple'    # ✅ True\n",
        "\n",
        "#'x' in ['X', 'y'] # ❌ False\n",
        "'X' in ['X', 'y'] # ✅ True\n"
      ]
    },
    {
      "cell_type": "markdown",
      "metadata": {
        "id": "viN-WA0t_hA-"
      },
      "source": [
        "## **2. Sorting in Python**\n",
        "\n",
        "Built-in sorted() vs .sort()\n",
        "* sorted(iterable): returns a new sorted list\n",
        "* .sort(): sorts the list in place"
      ]
    },
    {
      "cell_type": "code",
      "execution_count": null,
      "metadata": {
        "id": "w8q-28Kk_9Gx"
      },
      "outputs": [],
      "source": [
        "nums = [4, 2, 9, 1]\n",
        "print(sorted(nums))  # [1, 2, 4, 9]\n",
        "print(nums)          # [4, 2, 9, 1] (unchanged)\n",
        "\n",
        "nums.sort()\n",
        "print(nums)          # [1, 2, 4, 9] (modified)"
      ]
    },
    {
      "cell_type": "code",
      "execution_count": null,
      "metadata": {
        "colab": {
          "base_uri": "https://localhost:8080/"
        },
        "id": "BDc6i_5OzQut",
        "outputId": "e2053ecd-e240-43d0-fd14-a718ea67f349"
      },
      "outputs": [
        {
          "name": "stdout",
          "output_type": "stream",
          "text": [
            "[0, 2, 3, 5, 6, 7, 7, 8]\n",
            "return the list1: [7, 6, 3, 5, 0, 2, 7, 8]\n"
          ]
        }
      ],
      "source": [
        "list1=[7,6,3,5,0,2,7,8]\n",
        "print(sorted(list1))\n",
        "print(f\"return the list1: {list1}\")"
      ]
    },
    {
      "cell_type": "code",
      "execution_count": null,
      "metadata": {
        "colab": {
          "base_uri": "https://localhost:8080/"
        },
        "id": "BfZaP1j5zrgN",
        "outputId": "2cadd060-5c57-4b11-a6dd-4de17f37284c"
      },
      "outputs": [
        {
          "name": "stdout",
          "output_type": "stream",
          "text": [
            "return the list1: [0, 2, 3, 5, 6, 7, 7, 8, 15]\n"
          ]
        }
      ],
      "source": [
        "list1=[7,6,3,5,0,2,7,8]\n",
        "list1.append(15)\n",
        "list1.sort()\n",
        "print(f\"return the list1: {list1}\")\n"
      ]
    },
    {
      "cell_type": "markdown",
      "metadata": {
        "id": "h_kRkwJ7AFQ7"
      },
      "source": [
        "**Descending Order:**"
      ]
    },
    {
      "cell_type": "code",
      "execution_count": null,
      "metadata": {
        "id": "vKipJ_yo_5Yr"
      },
      "outputs": [],
      "source": [
        "data = [5, 2, 8, 1]\n",
        "print(sorted(data, reverse=True))  # [8, 5, 2, 1]"
      ]
    },
    {
      "cell_type": "markdown",
      "metadata": {
        "id": "stGGY3_drmX-"
      },
      "source": [
        "**✅ What is lambda**\n",
        "It's a function that:\n",
        "Takes one input: x\n",
        "Returns the same thing: x\n",
        "\n",
        "An **inline function** is a function that is defined and used directly within the expression — instead of defining it separately with def.\n",
        "In Python, lambda functions are the most common form of inline functions."
      ]
    },
    {
      "cell_type": "code",
      "execution_count": null,
      "metadata": {
        "id": "-mruWklCrt2E"
      },
      "outputs": [],
      "source": [
        "def identity(x):\n",
        "    return x\n",
        "#lambda x: x is the same as the above identity function — it returns the input as-is."
      ]
    },
    {
      "cell_type": "markdown",
      "metadata": {
        "id": "0cWmeB2WuqY8"
      },
      "source": [
        "**❓Why use it?**\n",
        "In below case,\n",
        "lambda x: x does nothing — so the result is just a copy of the original list.\n",
        "But map() becomes powerful when the function does something useful, like:"
      ]
    },
    {
      "cell_type": "code",
      "execution_count": null,
      "metadata": {
        "id": "HaaJ8cb_up83"
      },
      "outputs": [],
      "source": [
        "list(map(lambda x: x * 2, numbers))\n",
        "# Output: [2, 4, 6, 8]\n"
      ]
    },
    {
      "cell_type": "markdown",
      "metadata": {
        "id": "5oPlyTHCr27I"
      },
      "source": [
        "**🎯 When do we use it?**\n",
        "We use it when we need a function just to return the value itself, especially in sorting or mapping operations.\n",
        "\n"
      ]
    },
    {
      "cell_type": "code",
      "execution_count": null,
      "metadata": {
        "id": "Lmxs6fa2sHry"
      },
      "outputs": [],
      "source": [
        "words = ['apple', 'banana', 'grape']\n",
        "sorted_words = sorted(words, key=lambda x: x)  # Sorts alphabetically (default)\n",
        "print(sorted_words)\n"
      ]
    },
    {
      "cell_type": "code",
      "execution_count": null,
      "metadata": {
        "colab": {
          "base_uri": "https://localhost:8080/"
        },
        "id": "MbXjuj_ysUC9",
        "outputId": "f63815e7-1192-4a22-9921-06051ed92d8d"
      },
      "outputs": [
        {
          "name": "stdout",
          "output_type": "stream",
          "text": [
            "[1, 2, 3, 4]\n"
          ]
        }
      ],
      "source": [
        "numbers = [1, 2, 3, 4]\n",
        "new_numbers = list(map(lambda x: x, numbers))\n",
        "print(new_numbers)\n"
      ]
    },
    {
      "cell_type": "markdown",
      "metadata": {
        "id": "ylKGkYxjAJIl"
      },
      "source": [
        "**Sorting with key function:**"
      ]
    },
    {
      "cell_type": "code",
      "execution_count": null,
      "metadata": {
        "colab": {
          "base_uri": "https://localhost:8080/"
        },
        "id": "f4Kf51L4AS7H",
        "outputId": "e05f81db-841b-4c82-a9a5-2c19862f0c9b"
      },
      "outputs": [
        {
          "name": "stdout",
          "output_type": "stream",
          "text": [
            "['fig', 'apple', 'banana', 'cherry']\n"
          ]
        }
      ],
      "source": [
        "words = ['apple', 'banana', 'fig', 'cherry']\n",
        "print(sorted(words, key=len ))  # ['fig', 'apple', 'banana', 'cherry']"
      ]
    },
    {
      "cell_type": "markdown",
      "metadata": {
        "id": "jISNKQmoAVO5"
      },
      "source": [
        "**Sorting list of dictionaries:**"
      ]
    },
    {
      "cell_type": "code",
      "execution_count": null,
      "metadata": {
        "id": "9IuZtpwPAYHG"
      },
      "outputs": [],
      "source": [
        "students = [\n",
        "    {'name': 'Ali', 'score': 90},\n",
        "    {'name': 'Sara', 'score': 95},\n",
        "    {'name': 'John', 'score': 85}\n",
        "]\n",
        "sorted_students = sorted(students, key=lambda x: x['score'])\n",
        "print(sorted_students)"
      ]
    },
    {
      "cell_type": "code",
      "execution_count": null,
      "metadata": {
        "id": "hWVTCZtlnUjO"
      },
      "outputs": [],
      "source": [
        "students_scores = [(1, 90), (2, 95), (3, 85)]  # each tuple could represent (ID, score)\n",
        "sorted_scores = sorted(students_scores, key=lambda x: x[1])\n",
        "print(sorted_scores)\n"
      ]
    },
    {
      "cell_type": "code",
      "execution_count": null,
      "metadata": {
        "id": "lDAh4wjdov-9"
      },
      "outputs": [],
      "source": [
        "students_scores = [[1, 90], [2, 95], [3, 85]]\n",
        "sorted_scores = sorted(students_scores, key=lambda x: x[1])\n",
        "print(sorted_scores)\n"
      ]
    },
    {
      "cell_type": "code",
      "execution_count": null,
      "metadata": {
        "id": "-zfz2vJao87q"
      },
      "outputs": [],
      "source": [
        "sorted_scores = sorted(students_scores, key=lambda x: x[1], reverse=True)\n"
      ]
    },
    {
      "cell_type": "code",
      "execution_count": null,
      "metadata": {
        "id": "QpHFO_d7pER_"
      },
      "outputs": [],
      "source": []
    },
    {
      "cell_type": "markdown",
      "metadata": {
        "id": "tc4EBRTNqBla"
      },
      "source": [
        "# **Custom sorting (e.g., vowel count)**"
      ]
    },
    {
      "cell_type": "code",
      "execution_count": null,
      "metadata": {
        "id": "kGiv4BuGqC2V"
      },
      "outputs": [],
      "source": [
        "# words = ['apple', 'banana', 'grape']\n",
        "\n",
        "# def count_vowels(word):\n",
        "#     return sum(1 for letter in word if letter in 'aeiou')\n",
        "\n",
        "# sorted_words = sorted(words, key=count_vowels)\n",
        "# print(sorted_words)\n"
      ]
    },
    {
      "cell_type": "code",
      "execution_count": null,
      "metadata": {
        "id": "gQa3rJt7qD2D"
      },
      "outputs": [],
      "source": [
        "words = ['apple', 'banana', 'grape']\n",
        "\n",
        "def count_vowels(word):\n",
        "    vowels = 0\n",
        "    for letter in word:\n",
        "        if letter in 'aeiou':\n",
        "            vowels += 1\n",
        "    return vowels\n",
        "\n",
        "sorted_words = sorted(words, key=count_vowels)\n",
        "print(sorted_words)\n"
      ]
    },
    {
      "cell_type": "markdown",
      "metadata": {
        "id": "g5sjnpcnBPGd"
      },
      "source": [
        "## **📝 4. Practice Questions**"
      ]
    },
    {
      "cell_type": "markdown",
      "metadata": {
        "id": "VTDGCsZuA0y3"
      },
      "source": [
        "\n",
        "**💡 Membership Testing**\n",
        "Write a program that checks if a word exists in a sentence.\n",
        "Use in to test if a key exists in a dictionary and return its value.\n",
        "\n",
        "**💡 Sorting**\n",
        "Sort a list of strings by their last character.\n",
        "Sort a list of dictionaries based on a 'price' field.\n",
        "\n"
      ]
    },
    {
      "cell_type": "markdown",
      "metadata": {
        "id": "kIPDVOARBelz"
      },
      "source": [
        "### **Write a program that:**\n",
        "\n",
        "Takes a list of names and scores\n",
        "Sorts them in descending order of scores\n",
        "Checks if a specific name is in the top 3"
      ]
    },
    {
      "cell_type": "code",
      "execution_count": null,
      "metadata": {
        "id": "Rd8eWckoEZU4"
      },
      "outputs": [],
      "source": [
        "# Sample data: list of (name, score) tuples\n",
        "data = [\n",
        "    (\"Alice\", 88),\n",
        "    (\"Bob\", 95),\n",
        "    (\"Charlie\", 82),\n",
        "    (\"David\", 90),\n",
        "    (\"Eve\", 87)\n",
        "]\n",
        "\n",
        "# Name to check\n",
        "name_to_check = \"David\"\n",
        "\n",
        "# Define a function to get the score from each tuple\n",
        "def get_score(item):\n",
        "    return item[1]\n",
        "\n",
        "# Sort the data in descending order of scores using the function\n",
        "sorted_data = sorted(data, key=get_score, reverse=True)\n",
        "\n",
        "# Get the top 3 names\n",
        "top_3 = [entry[0] for entry in sorted_data[:3]]\n",
        "\n",
        "# Check if the name is in the top 3\n",
        "if name_to_check in top_3:\n",
        "    print(f\"{name_to_check} is in the top 3.\")\n",
        "else:\n",
        "    print(f\"{name_to_check} is not in the top 3.\")\n"
      ]
    },
    {
      "cell_type": "markdown",
      "metadata": {
        "id": "H93w10MJEnPV"
      },
      "source": [
        "### **Solution of the practice questions:**"
      ]
    },
    {
      "cell_type": "code",
      "execution_count": null,
      "metadata": {
        "id": "4Iy7VsjTErjG"
      },
      "outputs": [],
      "source": [
        "# Check if a word exists in a sentence\n",
        "sentence = \"Python is a powerful and easy-to-learn language.\"\n",
        "word = \"powerful\"\n",
        "\n",
        "if word in sentence:\n",
        "    print(f\"'{word}' exists in the sentence.\")\n",
        "else:\n",
        "    print(f\"'{word}' does not exist in the sentence.\")\n",
        "\n",
        "# Use 'in' to check if a key exists in a dictionary and return its value\n",
        "student_scores = {\"Alice\": 85, \"Bob\": 90, \"Charlie\": 78}\n",
        "key = \"Bob\"\n",
        "\n",
        "if key in student_scores:\n",
        "    print(f\"{key}'s score is {student_scores[key]}\")\n",
        "else:\n",
        "    print(f\"{key} not found in the dictionary.\")\n"
      ]
    },
    {
      "cell_type": "markdown",
      "metadata": {
        "id": "FmO2cqYzExwY"
      },
      "source": [
        "**💡 Sorting**"
      ]
    },
    {
      "cell_type": "code",
      "execution_count": null,
      "metadata": {
        "id": "oe6YLRrSE1Th"
      },
      "outputs": [],
      "source": [
        "# Sort a list of strings by their last character\n",
        "words = [\"apple\", \"banana\", \"cherry\", \"date\"]\n",
        "sorted_by_last_char = sorted(words, key=lambda w: w[-1])\n",
        "print(\"Sorted by last character:\", sorted_by_last_char)\n",
        "\n",
        "# Sort a list of dictionaries based on a 'price' field\n",
        "products = [\n",
        "    {\"name\": \"pen\", \"price\": 1.2},\n",
        "    {\"name\": \"book\", \"price\": 5.0},\n",
        "    {\"name\": \"notebook\", \"price\": 2.5}\n",
        "]\n",
        "sorted_by_price = sorted(products, key=lambda item: item[\"price\"])\n",
        "print(\"Sorted by price:\", sorted_by_price)\n"
      ]
    }
  ],
  "metadata": {
    "colab": {
      "provenance": []
    },
    "kernelspec": {
      "display_name": "Python 3",
      "name": "python3"
    },
    "language_info": {
      "name": "python"
    }
  },
  "nbformat": 4,
  "nbformat_minor": 0
}
