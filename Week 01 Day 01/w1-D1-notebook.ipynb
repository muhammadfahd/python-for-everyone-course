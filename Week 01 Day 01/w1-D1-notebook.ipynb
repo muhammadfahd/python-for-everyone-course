{
 "cells": [
  {
   "cell_type": "markdown",
   "id": "a4613784",
   "metadata": {},
   "source": [
    "# Python For Everyone\n",
    "## Day 1 -19 May 2025"
   ]
  },
  {
   "cell_type": "markdown",
   "id": "55eabef3",
   "metadata": {},
   "source": [
    "Table of Content\n",
    "1. [Agenda](#agenda)\n",
    "2. [Resources](#resources)\n",
    "3. Print Function & Comments in Python\n",
    "   1. [Printing on screen](#printing-on-screen)\n",
    "   2. [Comments](#comments-in-python)"
   ]
  },
  {
   "cell_type": "markdown",
   "id": "c26436b6",
   "metadata": {},
   "source": [
    "## Agenda\n",
    "For slides [check out](./W1-D1-Basic-and-intro-Python-for-Everyone.pdf)\n",
    "* Course Introduction\n",
    "* What is Programming?\n",
    "* Why Learn Python?\n",
    "* Key Programming Concepts\n",
    "* Setting Up Python\n",
    "* Your First Python Program\n"
   ]
  },
  {
   "cell_type": "markdown",
   "id": "e38ab586",
   "metadata": {},
   "source": [
    "## Resources\n",
    "* [Google Colab](https://colab.research.google.com/)\n",
    "* [VS Code](https://code.visualstudio.com/download#)\n",
    "* Important Extension \n",
    "  * Python\n",
    "  * Jupyter"
   ]
  },
  {
   "cell_type": "markdown",
   "id": "a4235212",
   "metadata": {},
   "source": [
    "## Printing on screen \n",
    "The `print() `function is one of the most basic and important functions in Python.\n",
    "It is used to display messages, values, or results on the screen.\n",
    "* The text inside quotation marks is called a string\n",
    "* Python will show this exact message in the output\n"
   ]
  },
  {
   "cell_type": "code",
   "execution_count": 1,
   "id": "1d814ea3",
   "metadata": {},
   "outputs": [
    {
     "name": "stdout",
     "output_type": "stream",
     "text": [
      "Hello World\n",
      "Hello World\n"
     ]
    }
   ],
   "source": [
    "print(\"Hello World\")\n",
    "print('Hello World')"
   ]
  },
  {
   "cell_type": "markdown",
   "id": "3c2a9681",
   "metadata": {},
   "source": [
    "🔧 Key Points:\n",
    "* You can print text, numbers, variables, or results of calculations\n",
    "* Use commas to separate multiple values in a single print()\n",
    "* Strings must be inside quotes (\" \" or ' ')"
   ]
  },
  {
   "cell_type": "markdown",
   "id": "1918efc6",
   "metadata": {},
   "source": [
    "## Comments in Python\n",
    "Comments are notes or explanations written in your code that are ignored by Python when the program runs.\n",
    "They help:\n",
    "* Explain what the code does\n",
    "* Make your code easier to read\n",
    "* Temporarily disable lines of code\n",
    "\n",
    "**Single-Line Comments**\n",
    "1. Use the # symbol\n",
    "2. Everything after # on that line is ignored by Python\n",
    "\n",
    "**Multi-Line Comments**\n",
    "There’s no official multi-line comment in Python, but we can use triple quotes (''' or \"\"\") as a workaround for multi-line descriptions.\n"
   ]
  },
  {
   "cell_type": "code",
   "execution_count": 2,
   "id": "766b97a9",
   "metadata": {},
   "outputs": [
    {
     "name": "stdout",
     "output_type": "stream",
     "text": [
      "Hello!\n"
     ]
    }
   ],
   "source": [
    "# This is a single-line comment\n",
    "print(\"Hello!\")  # This prints a message\n"
   ]
  },
  {
   "cell_type": "code",
   "execution_count": 3,
   "id": "faa61bf8",
   "metadata": {},
   "outputs": [
    {
     "name": "stdout",
     "output_type": "stream",
     "text": [
      "Welcome to Python\n"
     ]
    }
   ],
   "source": [
    "'''\n",
    "This is a multi-line comment.\n",
    "Python ignores this block.\n",
    "Used for documentation or notes.\n",
    "'''\n",
    "print(\"Welcome to Python\")\n"
   ]
  },
  {
   "cell_type": "markdown",
   "id": "ba5cf1f3",
   "metadata": {},
   "source": [
    "**Best Practices:**\n",
    "* Use comments to explain why, not just what the code is doing\n",
    "* Don't overuse – keep comments clear and relevant\n",
    "* Keep your code clean and readable"
   ]
  }
 ],
 "metadata": {
  "kernelspec": {
   "display_name": "Python 3",
   "language": "python",
   "name": "python3"
  },
  "language_info": {
   "codemirror_mode": {
    "name": "ipython",
    "version": 3
   },
   "file_extension": ".py",
   "mimetype": "text/x-python",
   "name": "python",
   "nbconvert_exporter": "python",
   "pygments_lexer": "ipython3",
   "version": "3.12.3"
  }
 },
 "nbformat": 4,
 "nbformat_minor": 5
}
