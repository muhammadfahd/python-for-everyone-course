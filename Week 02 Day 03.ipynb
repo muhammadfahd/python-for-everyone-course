{
  "cells": [
    {
      "cell_type": "markdown",
      "metadata": {},
      "source": [
        "# Week 2 Day 03 : Python For Everyone\n",
        "## Topics\n",
        "* **Tuples**: An ordered, immutable collection of elements, defined using parentheses () :\n",
        "* **Sets** : An unordered, mutable collection of unique elements, defined using curly brackets {} or the set() function\n",
        "---\n",
        "[Youtube Playlist](https://www.youtube.com/playlist?list=PLAIRSMdFhzoKg8KZ5zIbH64wtV8bhshfT)\n",
        "\n",
        "For previous check out \n",
        "* [Week 01 Day 01](./Week%2001%20Day%2001/w1-D1-notebook.ipynb)\n",
        "* [Week 01 Day 02](./week%2001%20Day%2002.ipynb) \n",
        "* [Week 01 Day 03](./week%2001%20Day%2003.ipynb)\n",
        "* [Week 01 Day 04](./week%2001%20Day%2004.ipynb)\n",
        "* [Week 01 Day 05](./week%2001%20Day%2005.ipynb)\n",
        "* [Week 02 Day 01](./Week%2002%20Day%2001.ipynb)\n",
        "* [Week 02 Day 02](./week%2001%20Day%2002.ipynb)"
      ]
    },
    {
      "cell_type": "markdown",
      "metadata": {
        "id": "oavPD4Mpndny"
      },
      "source": [
        "# **Tuples and Sets: Basic,Immutability, set Operations**"
      ]
    },
    {
      "cell_type": "markdown",
      "metadata": {
        "id": "96ptC0xhpNz8"
      },
      "source": [
        "Tuples and Sets are two important built-in data types in Python used for storing collections of items.\n",
        "*   Tuples are ordered and immutable.\n",
        "*   Sets are unordered, mutable, and do not allow duplicates.\n",
        "\n",
        "\n",
        "\n"
      ]
    },
    {
      "cell_type": "markdown",
      "metadata": {
        "id": "0R3nrEQEpmnJ"
      },
      "source": [
        "## **Tuples - Basics**\n",
        "A tuple is a collection which is ordered and unchangeable (immutable).\n",
        "Tuples allow duplicate values and support indexing and slicing."
      ]
    },
    {
      "cell_type": "code",
      "execution_count": null,
      "metadata": {
        "id": "G3D9w7s8pxKw"
      },
      "outputs": [],
      "source": [
        "# # A tuple is an immutable, ordered collection of elements\n",
        "# my_tuple = (1, 2, 3, \"Python\", 3.14)\n",
        "# print(\"My tuple:\", my_tuple)"
      ]
    },
    {
      "cell_type": "code",
      "execution_count": 2,
      "metadata": {},
      "outputs": [
        {
          "data": {
            "text/plain": [
              "tuple"
            ]
          },
          "execution_count": 2,
          "metadata": {},
          "output_type": "execute_result"
        }
      ],
      "source": [
        "t=(1,24,\"fahd\")\n",
        "type(t)"
      ]
    },
    {
      "cell_type": "code",
      "execution_count": null,
      "metadata": {
        "colab": {
          "base_uri": "https://localhost:8080/"
        },
        "id": "dAVlakVZkQ8U",
        "outputId": "18b06f0b-3c13-4b70-917b-36d9f62553ec"
      },
      "outputs": [
        {
          "name": "stdout",
          "output_type": "stream",
          "text": [
            "(4, 7, 'python', 5.4)\n"
          ]
        }
      ],
      "source": [
        "t=(4,7,\"python\",5.4)\n",
        "print(t)"
      ]
    },
    {
      "cell_type": "code",
      "execution_count": null,
      "metadata": {
        "colab": {
          "base_uri": "https://localhost:8080/"
        },
        "id": "sg5DNWjSkivZ",
        "outputId": "937af46e-d7fb-4ed1-88e3-b3dfa3fd7400"
      },
      "outputs": [
        {
          "name": "stdout",
          "output_type": "stream",
          "text": [
            "print the 2nd index value:  python\n"
          ]
        }
      ],
      "source": [
        "print(\"print the 3rd index value: \", t[2])"
      ]
    },
    {
      "cell_type": "code",
      "execution_count": null,
      "metadata": {
        "colab": {
          "base_uri": "https://localhost:8080/"
        },
        "id": "HqX7cdimk2j3",
        "outputId": "3eb38864-1a93-4d6e-ea09-7be0adeb3d34"
      },
      "outputs": [
        {
          "name": "stdout",
          "output_type": "stream",
          "text": [
            "Last two elements: ('python', 5.4)\n"
          ]
        }
      ],
      "source": [
        "print(\"Last two elements:\", t[2:])"
      ]
    },
    {
      "cell_type": "code",
      "execution_count": null,
      "metadata": {
        "id": "euXaSElLp6g5"
      },
      "outputs": [],
      "source": [
        "# Tuple indexing and slicing\n",
        "print(\"First element:\", my_tuple[0])\n",
        "print(\"Last two elements:\", my_tuple[-2:])"
      ]
    },
    {
      "cell_type": "markdown",
      "metadata": {
        "id": "9V1esCQsp0J9"
      },
      "source": [
        "### **Tuples - Immutability**\n",
        "Tuples are immutable, meaning their elements cannot be changed after creation.\n",
        "However, if a tuple contains a mutable object (like a list), the object itself can be changed."
      ]
    },
    {
      "cell_type": "code",
      "execution_count": null,
      "metadata": {
        "colab": {
          "base_uri": "https://localhost:8080/"
        },
        "id": "YwBrnNJ0lXPY",
        "outputId": "ba8a9233-2d87-420b-e332-65d9395dba4a"
      },
      "outputs": [
        {
          "name": "stdout",
          "output_type": "stream",
          "text": [
            "Error: 'tuple' object does not support item assignment\n"
          ]
        }
      ],
      "source": [
        "\n",
        "try:\n",
        "  t[0]=100\n",
        "except TypeError as e:\n",
        "  print(\"Error:\", e)"
      ]
    },
    {
      "cell_type": "code",
      "execution_count": null,
      "metadata": {
        "id": "6hOJc5BltKfG"
      },
      "outputs": [],
      "source": [
        "t1=(4,7,\"python\",5.4,[5,6,8])\n",
        "# t1.add()\n",
        "# t1.append()\n",
        "# t1.insert()\n",
        "\n",
        "# t1.remove()\n",
        "# t1.pop()\n",
        "# t1.clear()"
      ]
    },
    {
      "cell_type": "code",
      "execution_count": null,
      "metadata": {
        "id": "LkWHno4jpjGV"
      },
      "outputs": [],
      "source": [
        "# # Tuples are immutable: You can't change them\n",
        "# try:\n",
        "#     my_tuple[0] = 100\n",
        "# except TypeError as e:\n",
        "#     print(\"Error:\", e)\n"
      ]
    },
    {
      "cell_type": "code",
      "execution_count": null,
      "metadata": {
        "colab": {
          "base_uri": "https://localhost:8080/"
        },
        "id": "YTPb_YNdlz28",
        "outputId": "6fdde70c-013f-4848-ab28-273f2f4f2794"
      },
      "outputs": [
        {
          "name": "stdout",
          "output_type": "stream",
          "text": [
            "(4, 7, 'python', 5.4, [5, 6, 8])\n"
          ]
        }
      ],
      "source": [
        "t1=(4,7,\"python\",5.4,[5,6,8])\n",
        "print(t1)"
      ]
    },
    {
      "cell_type": "code",
      "execution_count": null,
      "metadata": {
        "colab": {
          "base_uri": "https://localhost:8080/"
        },
        "id": "f4wKBjR6l-9p",
        "outputId": "df2122d2-d35c-4df2-8124-5c11da6573b1"
      },
      "outputs": [
        {
          "name": "stdout",
          "output_type": "stream",
          "text": [
            "(4, 7, 'python', 5.4, [5, 6, 8, 14, 14, 13])\n"
          ]
        }
      ],
      "source": [
        "t1[4].append(13)\n",
        "print(t1)"
      ]
    },
    {
      "cell_type": "code",
      "execution_count": null,
      "metadata": {
        "id": "RW-9QvZBpbXO"
      },
      "outputs": [],
      "source": [
        "# # However, tuples can contain mutable elements like lists\n",
        "# mutable_inside = ([1, 2], 3)\n",
        "# mutable_inside[0].append(3)\n",
        "# print(\"Tuple with list:\", mutable_inside)\n"
      ]
    },
    {
      "cell_type": "markdown",
      "metadata": {
        "id": "DRPw92mDqI9u"
      },
      "source": [
        "Tuple Methods & Use-Cases\n",
        "Tuples support a few basic methods:\n",
        "\n",
        "*   .count(x) returns the number of occurrences of x.\n",
        "*   .index(x) returns the first index of x.\n",
        "\n",
        "Tuples are often used to return multiple values from functions."
      ]
    },
    {
      "cell_type": "code",
      "execution_count": null,
      "metadata": {
        "colab": {
          "base_uri": "https://localhost:8080/"
        },
        "id": "vJhvyv_4qWdw",
        "outputId": "bafb2480-87f0-4205-dbac-d503faece11f"
      },
      "outputs": [
        {
          "name": "stdout",
          "output_type": "stream",
          "text": [
            "Index of 9: 2\n"
          ]
        }
      ],
      "source": [
        "# Tuple methods: count and index\n",
        "t = (1, 2, 9, 2, 3, 6)\n",
        "# print(\"Count of 2:\", t.count(2)) # count/ occurance\n",
        "\n",
        "print(\"Index of 9:\", t.index(9)) # find the index\n"
      ]
    },
    {
      "cell_type": "code",
      "execution_count": null,
      "metadata": {
        "id": "e71SlCpiqYJ8"
      },
      "outputs": [],
      "source": [
        "# Use-case: Returning multiple values from a function\n",
        "def min_max(numbers):\n",
        "    return (min(numbers), max(numbers))\n",
        "\n",
        "result = min_max([10, 3, 5, 100])\n",
        "print(\"Min and Max:\", result)\n"
      ]
    },
    {
      "cell_type": "code",
      "execution_count": null,
      "metadata": {
        "colab": {
          "base_uri": "https://localhost:8080/"
        },
        "id": "q6-h1HcrndXX",
        "outputId": "96b5e3c9-bd28-418b-91ef-9251e6df93ec"
      },
      "outputs": [
        {
          "name": "stdout",
          "output_type": "stream",
          "text": [
            "3 83\n"
          ]
        }
      ],
      "source": [
        "list1=[5,8,3,7,22,66,83]\n",
        "\n",
        "\n",
        "print(min(list1), max(list1))"
      ]
    },
    {
      "cell_type": "code",
      "execution_count": null,
      "metadata": {
        "colab": {
          "base_uri": "https://localhost:8080/"
        },
        "id": "kA66rFlFihCR",
        "outputId": "bb0a2910-7922-4054-95e2-841639a74ec3"
      },
      "outputs": [
        {
          "name": "stdout",
          "output_type": "stream",
          "text": [
            "0 ali\n",
            "1 ahmed\n",
            "2 sara\n"
          ]
        }
      ],
      "source": [
        "#Using enumerate() with tuples helps when you need both index and value in a loop.\n",
        "# names = [\"Ali\", \"Sara\", \"John\"]\n",
        "\n",
        "t = (\"ali\",\"ahmed\",\"sara\")\n",
        "for index, name in enumerate(t):\n",
        "    print(index, name)"
      ]
    },
    {
      "cell_type": "code",
      "execution_count": null,
      "metadata": {
        "colab": {
          "base_uri": "https://localhost:8080/"
        },
        "id": "UL7rF06hioNP",
        "outputId": "ee64c05f-c212-4f44-d933-9344864550d5"
      },
      "outputs": [
        {
          "name": "stdout",
          "output_type": "stream",
          "text": [
            "('Ali', 'Sara', 'ahmed') 85\n",
            "('Ali', 'Sara', 'ahmed') 90\n",
            "('Ali', 'Sara', 'ahmed') 87\n"
          ]
        }
      ],
      "source": [
        "#Using in zip(): zip() returns tuples, useful for pairing elements.\n",
        "names = (\"Ali\", \"Sara\", \"ahmed\")\n",
        "scores = [85, 90,87]\n",
        "\n",
        "for name, score in zip(names, scores):\n",
        "    print(names, score)\n"
      ]
    },
    {
      "cell_type": "code",
      "execution_count": null,
      "metadata": {
        "colab": {
          "base_uri": "https://localhost:8080/"
        },
        "id": "TV8zoCBsjHEi",
        "outputId": "fbdabd56-ad2e-4f4f-f080-07e9b3476f11"
      },
      "outputs": [
        {
          "name": "stdout",
          "output_type": "stream",
          "text": [
            "('Ali', 'Math')\n"
          ]
        }
      ],
      "source": [
        "#Tuples can be used as keys in dictionaries when the key is a combination of values.\n",
        "#grades = {(\"Ali\", \"Math\"): 90, (\"Ali\", \"Physics\"): 85}\n",
        "\n",
        "grades = {90:(\"Ali\", \"Math\") , 85:(\"Ali\", \"Physics\")}\n",
        "\n",
        "#print(grades[(\"Ali\", \"Math\")])\n",
        "print(grades[90])\n"
      ]
    },
    {
      "cell_type": "markdown",
      "metadata": {
        "id": "Gby5M24dqeLE"
      },
      "source": [
        "## **Sets - Basics**\n",
        "A set is a collection which is unordered, unchangeable*, and unindexed.\n",
        "It is useful for membership tests, removing duplicates, and performing mathematical set operations.\n",
        "\n",
        "**Note:** Set items are unchangeable, but you can remove items and add new items."
      ]
    },
    {
      "cell_type": "code",
      "execution_count": null,
      "metadata": {
        "colab": {
          "base_uri": "https://localhost:8080/"
        },
        "id": "doQtAT0eqhw9",
        "outputId": "8e35fcf0-541b-406e-cfba-6f6f3affc5b6"
      },
      "outputs": [
        {
          "name": "stdout",
          "output_type": "stream",
          "text": [
            "My Set: {1, 2, 3}\n"
          ]
        }
      ],
      "source": [
        "# A set is an unordered, unchangeable collection of unique elements\n",
        "my_set = {1, 2, 3, 2, 1}\n",
        "print(\"My Set:\", my_set)  # Duplicates are removed\n"
      ]
    },
    {
      "cell_type": "markdown",
      "metadata": {
        "id": "XLxPWEtiXUaV"
      },
      "source": [
        "### **Duplicates Not Allowed**\n",
        "Sets cannot have two items with the same value."
      ]
    },
    {
      "cell_type": "code",
      "execution_count": null,
      "metadata": {
        "colab": {
          "base_uri": "https://localhost:8080/"
        },
        "id": "JeYEn3uZXZvl",
        "outputId": "b01e4564-c834-4b28-9bad-8ea0111abb37"
      },
      "outputs": [
        {
          "name": "stdout",
          "output_type": "stream",
          "text": [
            "{'banana', 'apple', 'cherry'}\n"
          ]
        }
      ],
      "source": [
        "fruits_set = {\"apple\", \"banana\", \"cherry\", \"apple\"}\n",
        "\n",
        "print(fruits_set)"
      ]
    },
    {
      "cell_type": "markdown",
      "metadata": {
        "id": "Qfxh1y3pXlQ6"
      },
      "source": [
        "**Note:** The values True and 1 are considered the same value in sets, and are treated as duplicates:"
      ]
    },
    {
      "cell_type": "code",
      "execution_count": null,
      "metadata": {
        "id": "UkdnZV6UXoB2"
      },
      "outputs": [],
      "source": [
        "thisset = {\"apple\", \"banana\", \"cherry\", True, 1, 2,False,0}\n",
        "\n",
        "print(thisset)"
      ]
    },
    {
      "cell_type": "code",
      "execution_count": null,
      "metadata": {
        "colab": {
          "base_uri": "https://localhost:8080/"
        },
        "id": "kq5oUoWLt7Z8",
        "outputId": "baa4ae04-2453-420d-c5c6-0b697fcf1a7d"
      },
      "outputs": [
        {
          "name": "stdout",
          "output_type": "stream",
          "text": [
            "{False, 1, 'apple', 'banna'}\n"
          ]
        }
      ],
      "source": [
        "sets ={\"apple\",1,\"banna\",False,0,True}\n",
        "print(sets)"
      ]
    },
    {
      "cell_type": "markdown",
      "metadata": {
        "id": "KIqKGrMUX48d"
      },
      "source": [
        "### **Set Items - Data Types**\n",
        "Set items can be of any data type:"
      ]
    },
    {
      "cell_type": "code",
      "execution_count": null,
      "metadata": {
        "colab": {
          "base_uri": "https://localhost:8080/"
        },
        "id": "VJbH2iwvYAgv",
        "outputId": "c5eccd54-6933-48d9-cb56-287724fd33fa"
      },
      "outputs": [
        {
          "name": "stdout",
          "output_type": "stream",
          "text": [
            "{'banana', 'apple', 'cherry'}\n",
            "{1, 3, 5, 7, 9}\n",
            "{False, True}\n"
          ]
        }
      ],
      "source": [
        "set1 = {\"apple\", \"banana\", \"cherry\"}\n",
        "set2 = {1, 5, 7, 9, 3}\n",
        "set3 = {True, False, False}\n",
        "print(set1)\n",
        "print(set2)\n",
        "print(set3)"
      ]
    },
    {
      "cell_type": "code",
      "execution_count": null,
      "metadata": {
        "colab": {
          "base_uri": "https://localhost:8080/"
        },
        "id": "p4KA3teCYRke",
        "outputId": "493db004-0005-4359-a8cb-faaea0cf9cde"
      },
      "outputs": [
        {
          "name": "stdout",
          "output_type": "stream",
          "text": [
            "{True, 34, 'male', 40, 'abc'}\n"
          ]
        }
      ],
      "source": [
        "# A set with strings, integers and boolean values:\n",
        "\n",
        "set1 = {\"abc\", 34, True, 40, \"male\"}\n",
        "print(set1)"
      ]
    },
    {
      "cell_type": "markdown",
      "metadata": {
        "id": "mtIObr4bZOKO"
      },
      "source": [
        "### **The set() Constructor**\n",
        "It is also possible to use the set() constructor to make a set."
      ]
    },
    {
      "cell_type": "code",
      "execution_count": null,
      "metadata": {
        "colab": {
          "base_uri": "https://localhost:8080/"
        },
        "id": "9DMT_QMxZTtO",
        "outputId": "9c8ea826-351b-4c97-cf36-1ea3e7e951d5"
      },
      "outputs": [
        {
          "name": "stdout",
          "output_type": "stream",
          "text": [
            "{'banana', 'apple', 'cherry'}\n"
          ]
        }
      ],
      "source": [
        "thisset = set((\"apple\", \"banana\", \"cherry\")) # note the double round-brackets\n",
        "print(thisset)"
      ]
    },
    {
      "cell_type": "markdown",
      "metadata": {
        "id": "zBgj-yP5aPs_"
      },
      "source": [
        "### Access Items\n",
        "You **cannot** access items in a set by referring to an index or a key.\n",
        "\n",
        "But you can loop through the set items using a for loop, or ask if a specified value is present in a set, by using the in keyword."
      ]
    },
    {
      "cell_type": "code",
      "execution_count": null,
      "metadata": {
        "colab": {
          "base_uri": "https://localhost:8080/"
        },
        "id": "Bj_jLQsfabjg",
        "outputId": "61b3f0d5-a552-4216-cb87-e9e139fc3f2f"
      },
      "outputs": [
        {
          "name": "stdout",
          "output_type": "stream",
          "text": [
            "banana\n",
            "apple\n",
            "cherry\n"
          ]
        }
      ],
      "source": [
        "# access items of set using loop\n",
        "fruits = {\"apple\", \"banana\", \"cherry\"}\n",
        "\n",
        "for x in fruits:\n",
        "  print(x)"
      ]
    },
    {
      "cell_type": "code",
      "execution_count": null,
      "metadata": {
        "colab": {
          "base_uri": "https://localhost:8080/"
        },
        "id": "QNNO1loTai2Y",
        "outputId": "dea99b00-a0f6-45ee-eec5-f249aacfe283"
      },
      "outputs": [
        {
          "name": "stdout",
          "output_type": "stream",
          "text": [
            "False\n"
          ]
        }
      ],
      "source": [
        "# using in keyword\n",
        "fruits = {\"apple\", \"banana\", \"cherry\"}\n",
        "\n",
        "print(\"mango\" in fruits)"
      ]
    },
    {
      "cell_type": "code",
      "execution_count": null,
      "metadata": {
        "colab": {
          "base_uri": "https://localhost:8080/"
        },
        "id": "ZPiZ-9pra4uH",
        "outputId": "dc84c4fc-16d9-445f-ce7d-5d49ae3306c3"
      },
      "outputs": [
        {
          "name": "stdout",
          "output_type": "stream",
          "text": [
            "True\n"
          ]
        }
      ],
      "source": [
        "fruits = {\"apple\", \"banana\", \"cherry\"}\n",
        "\n",
        "print(\"mango\" not in fruits)"
      ]
    },
    {
      "cell_type": "markdown",
      "metadata": {
        "id": "Qepylm-abI8X"
      },
      "source": [
        "### Add Items\n",
        "Once a set is created, you cannot change its items, but you can add new items.\n",
        "\n",
        "To add one item to a set use the add() method."
      ]
    },
    {
      "cell_type": "code",
      "execution_count": null,
      "metadata": {
        "colab": {
          "base_uri": "https://localhost:8080/"
        },
        "id": "nGMV2Lwbbl-4",
        "outputId": "fae9f375-11d1-434b-f83b-ed4592eb2cfc"
      },
      "outputs": [
        {
          "name": "stdout",
          "output_type": "stream",
          "text": [
            "{'banana', 'apple', 'cherry', 'orange'}\n"
          ]
        }
      ],
      "source": [
        "# Add an item to a set, using the add() method:\n",
        "\n",
        "fruits = {\"apple\", \"banana\", \"cherry\"}\n",
        "\n",
        "fruits.add(\"orange\")\n",
        "\n",
        "print(fruits)"
      ]
    },
    {
      "cell_type": "markdown",
      "metadata": {
        "id": "gpMpxDUhbvan"
      },
      "source": [
        "### Add Sets\n",
        "To add items from another set into the current set, use the update() method."
      ]
    },
    {
      "cell_type": "code",
      "execution_count": null,
      "metadata": {
        "colab": {
          "base_uri": "https://localhost:8080/"
        },
        "id": "5s2cvjWcb04A",
        "outputId": "9571e879-7c0d-41c1-f6a0-ec9c74fb2262"
      },
      "outputs": [
        {
          "name": "stdout",
          "output_type": "stream",
          "text": [
            "{'mango', 'papaya', 'apple', 'pineapple', 'banana', 'cherry'}\n"
          ]
        }
      ],
      "source": [
        "# Add elements from fruitset2 into fruitset1:\n",
        "\n",
        "fruitset1 = {\"apple\", \"banana\", \"cherry\"}\n",
        "fruitset2 = {\"pineapple\", \"mango\", \"papaya\",\"apple\"}\n",
        "\n",
        "fruitset1.update(fruitset2)\n",
        "\n",
        "print(fruitset1)"
      ]
    },
    {
      "cell_type": "markdown",
      "metadata": {
        "id": "HcwKhRPGcd05"
      },
      "source": [
        "### Add Any Iterable\n",
        "The object in the update() method does not have to be a set, it can be any iterable object (tuples, lists, dictionaries etc.)."
      ]
    },
    {
      "cell_type": "code",
      "execution_count": null,
      "metadata": {
        "colab": {
          "base_uri": "https://localhost:8080/"
        },
        "id": "jkxR3gp_cjwY",
        "outputId": "22c6a0dc-eeac-44d8-95ae-033b5198a567"
      },
      "outputs": [
        {
          "name": "stdout",
          "output_type": "stream",
          "text": [
            "{'apple', 'kiwi', 'orange', 'banana', 'cherry'}\n"
          ]
        }
      ],
      "source": [
        "# Add elements of a list to at set:\n",
        "\n",
        "thisset = {\"apple\", \"banana\", \"cherry\"}\n",
        "mylist = [\"kiwi\", \"orange\"]\n",
        "\n",
        "thisset.update(mylist)\n",
        "\n",
        "print(thisset)"
      ]
    },
    {
      "cell_type": "markdown",
      "metadata": {
        "id": "gX8pG4Ricu8A"
      },
      "source": [
        "### Remove Item\n",
        "To remove an item in a set, use the remove(), or the discard() method."
      ]
    },
    {
      "cell_type": "markdown",
      "metadata": {
        "id": "Vh6JdEuLc_Q4"
      },
      "source": [
        "**Note:** If the item to remove does not exist, remove() will raise an error."
      ]
    },
    {
      "cell_type": "code",
      "execution_count": null,
      "metadata": {
        "colab": {
          "base_uri": "https://localhost:8080/"
        },
        "id": "XrEohwexc09y",
        "outputId": "f79eec7d-96a7-4819-b6cc-c9a0f38f714b"
      },
      "outputs": [
        {
          "name": "stdout",
          "output_type": "stream",
          "text": [
            "{'apple', 'cherry'}\n"
          ]
        }
      ],
      "source": [
        "# Remove \"banana\" by using the remove() method:\n",
        "\n",
        "fruits = {\"apple\", \"banana\", \"cherry\"}\n",
        "\n",
        "fruits.remove(\"banana\")\n",
        "\n",
        "print(fruits)"
      ]
    },
    {
      "cell_type": "markdown",
      "metadata": {
        "id": "8uHEj9THdNyY"
      },
      "source": [
        "**Note:** If the item to remove does not exist, discard() will NOT raise an error."
      ]
    },
    {
      "cell_type": "code",
      "execution_count": null,
      "metadata": {
        "colab": {
          "base_uri": "https://localhost:8080/"
        },
        "id": "Afa90OypdEe5",
        "outputId": "9b3a5661-b322-4ad2-ba52-2bd3d0621e0b"
      },
      "outputs": [
        {
          "name": "stdout",
          "output_type": "stream",
          "text": [
            "{'apple', 'cherry'}\n"
          ]
        }
      ],
      "source": [
        "# Remove \"banana\" by using the discard() method:\n",
        "\n",
        "fruits = {\"apple\", \"banana\", \"cherry\"}\n",
        "\n",
        "fruits.discard(\"mango\")\n",
        "\n",
        "print(fruits)"
      ]
    },
    {
      "cell_type": "markdown",
      "metadata": {
        "id": "80sBfwfmdePR"
      },
      "source": [
        "You can also use the pop() method to remove an item, but this method will remove a random item, so you cannot be sure what item that gets removed.\n",
        "\n",
        "The return value of the pop() method is the removed item."
      ]
    },
    {
      "cell_type": "code",
      "execution_count": null,
      "metadata": {
        "colab": {
          "base_uri": "https://localhost:8080/"
        },
        "id": "G4hS3g2idiMo",
        "outputId": "61ae5edc-4da4-453c-c87d-c1401d1c9a66"
      },
      "outputs": [
        {
          "name": "stdout",
          "output_type": "stream",
          "text": [
            "banana\n",
            "{'apple', 'cherry'}\n"
          ]
        }
      ],
      "source": [
        "fruits = {\"apple\", \"banana\", \"cherry\"}\n",
        "\n",
        "x = fruits.pop()\n",
        "\n",
        "print(x)\n",
        "\n",
        "print(fruits)"
      ]
    },
    {
      "cell_type": "markdown",
      "metadata": {
        "id": "ozwv3eHJdtf4"
      },
      "source": [
        "**Note:** Sets are unordered, so when using the pop() method, you do not know which item that gets removed."
      ]
    },
    {
      "cell_type": "code",
      "execution_count": null,
      "metadata": {
        "colab": {
          "base_uri": "https://localhost:8080/"
        },
        "id": "K5gGlgvid6nS",
        "outputId": "ce96a4b5-b426-4556-ef5a-a422a2f3ebf6"
      },
      "outputs": [
        {
          "name": "stdout",
          "output_type": "stream",
          "text": [
            "set()\n"
          ]
        }
      ],
      "source": [
        "# The clear() method empties the set:\n",
        "\n",
        "fruits = {\"apple\", \"banana\", \"cherry\"}\n",
        "\n",
        "fruits.clear()\n",
        "\n",
        "print(fruits)"
      ]
    },
    {
      "cell_type": "code",
      "execution_count": null,
      "metadata": {
        "id": "h6s3krmDeDVY"
      },
      "outputs": [],
      "source": [
        "# The del keyword will delete the set completely:\n",
        "\n",
        "fruits = {\"apple\", \"banana\", \"cherry\"}\n",
        "\n",
        "del fruits\n",
        "\n"
      ]
    },
    {
      "cell_type": "markdown",
      "metadata": {
        "id": "VeNnubPDq-68"
      },
      "source": [
        "## **Set Operations**\n",
        "Python sets support standard set theory operations:\n",
        "\n",
        "*   Union (|): Combines all unique elements.\n",
        "*   Intersection (&): Common elements.\n",
        "*   Difference (-): Elements in one set, not the other.\n",
        "*   Symmetric Difference (^): Elements in either set, but not both( Keeps only those elements that are unique to each set.)."
      ]
    },
    {
      "cell_type": "code",
      "execution_count": null,
      "metadata": {
        "id": "x3lnm3APrSYi"
      },
      "outputs": [],
      "source": [
        "A = {1, 2, 3, 4}\n",
        "B = {3, 4, 5, 6}\n",
        "\n",
        "print(\"Union:\", A | B)\n",
        "print(\"Intersection:\", A & B)\n",
        "print(\"Difference A - B:\", A - B)\n",
        "print(\"Symmetric Difference:\", A ^ B)\n"
      ]
    },
    {
      "cell_type": "markdown",
      "metadata": {
        "id": "3Y_-mNrrhIMN"
      },
      "source": [
        "### Join Sets\n",
        "There are several ways to join two or more sets in Python.\n",
        "\n",
        "The union() and update() methods joins all items from both sets.\n",
        "\n",
        "The intersection() method keeps ONLY the duplicates.\n",
        "\n",
        "The difference() method keeps the items from the first set that are not in the other set(s).\n",
        "\n",
        "The symmetric_difference() method keeps all items EXCEPT the duplicates."
      ]
    },
    {
      "cell_type": "markdown",
      "metadata": {
        "id": "0sionff5hOXS"
      },
      "source": [
        "### Union\n",
        "The union() method returns a new set with all items from both sets."
      ]
    },
    {
      "cell_type": "code",
      "execution_count": null,
      "metadata": {
        "colab": {
          "base_uri": "https://localhost:8080/"
        },
        "id": "bszPPhlThRlL",
        "outputId": "481b1dda-f6da-4540-d65a-d255f98d8a16"
      },
      "outputs": [
        {
          "name": "stdout",
          "output_type": "stream",
          "text": [
            "{'c', 1, 2, 3, 4, 5, 'b', 'a'}\n"
          ]
        }
      ],
      "source": [
        "# Join set1 and set2 into a new set:\n",
        "\n",
        "set1 = {\"a\", \"b\", \"c\"}\n",
        "tuple1 = ( 1, 2, 3, 4, 5)\n",
        "\n",
        "set3 = set1.union(tuple1)\n",
        "print(set3)"
      ]
    },
    {
      "cell_type": "markdown",
      "metadata": {
        "id": "ykU0BeT-hbAO"
      },
      "source": [
        "You can use the | operator instead of the union() method, and you will get the same result."
      ]
    },
    {
      "cell_type": "code",
      "execution_count": null,
      "metadata": {
        "colab": {
          "base_uri": "https://localhost:8080/"
        },
        "id": "mLTB2NMPhdRq",
        "outputId": "5e5ff755-5cee-4de4-f36a-094b90c94f12"
      },
      "outputs": [
        {
          "name": "stdout",
          "output_type": "stream",
          "text": [
            "{'c', 1, 2, 3, 'a', 'b'}\n"
          ]
        }
      ],
      "source": [
        "# Use | to join two sets:\n",
        "\n",
        "set1 = {\"a\", \"b\", \"c\"}\n",
        "set2 = {1, 2, 3}\n",
        "\n",
        "set3 = set1 | set2\n",
        "print(set3)"
      ]
    },
    {
      "cell_type": "markdown",
      "metadata": {
        "id": "7YGyX0xsiFwj"
      },
      "source": [
        "### Join Multiple Sets\n",
        "All the joining methods and operators can be used to join multiple sets.\n",
        "\n",
        "When using a method, just add more sets in the parentheses, separated by commas:"
      ]
    },
    {
      "cell_type": "code",
      "execution_count": null,
      "metadata": {
        "colab": {
          "base_uri": "https://localhost:8080/"
        },
        "id": "gPhSUEjViO5d",
        "outputId": "2fb03a5d-81a0-48c9-ce5d-b34bf74fa982"
      },
      "outputs": [
        {
          "name": "stdout",
          "output_type": "stream",
          "text": [
            "{'c', 1, 2, 3, 'b', 'John', 'bananas', 'apple', 'a', 'Elena', 'cherry'}\n"
          ]
        }
      ],
      "source": [
        "# Join multiple sets with the union() method:\n",
        "\n",
        "set1 = {\"a\", \"b\", \"c\"}\n",
        "set2 = {1, 2, 3}\n",
        "set3 = {\"John\", \"Elena\"}\n",
        "set4 = {\"apple\", \"bananas\", \"cherry\"}\n",
        "\n",
        "myset = set1.union(set2, set3, set4)\n",
        "print(myset)"
      ]
    },
    {
      "cell_type": "markdown",
      "metadata": {
        "id": "D2hBMuWuiY4b"
      },
      "source": [
        "## Join a Set and a Tuple\n",
        "The union() method allows you to join a set with other data types, like lists or tuples.\n",
        "\n",
        "The result will be a set."
      ]
    },
    {
      "cell_type": "code",
      "execution_count": null,
      "metadata": {
        "id": "lHekQhSIid5D"
      },
      "outputs": [],
      "source": [
        "# Join a set with a tuple:\n",
        "\n",
        "x = {\"a\", \"b\", \"c\"}\n",
        "y = (1, 2, 3)\n",
        "\n",
        "z = x.union(y)\n",
        "print(z)"
      ]
    },
    {
      "cell_type": "markdown",
      "metadata": {
        "id": "Oj4K0GDZilUb"
      },
      "source": [
        "**Note:** The  | operator only allows you to join sets with sets, and not with other data types like you can with the  union() method."
      ]
    },
    {
      "cell_type": "markdown",
      "metadata": {
        "id": "7YUFQEzci0Xr"
      },
      "source": [
        "### Update\n",
        "The update() method inserts all items from one set into another.\n",
        "\n",
        "The update() changes the original set, and does not return a new set."
      ]
    },
    {
      "cell_type": "code",
      "execution_count": null,
      "metadata": {
        "colab": {
          "base_uri": "https://localhost:8080/"
        },
        "id": "HHfkmr45i3sM",
        "outputId": "f3157886-8556-49e7-a204-97d9face2b12"
      },
      "outputs": [
        {
          "name": "stdout",
          "output_type": "stream",
          "text": [
            "{'c', 1, 2, 3, 'b', 'a'}\n"
          ]
        }
      ],
      "source": [
        "# The update() method inserts the items in set2 into set1:\n",
        "\n",
        "set1 = {\"a\", \"b\" , \"c\"}\n",
        "set2 = {1, 2, 3,\"a\",\"b\"}\n",
        "\n",
        "set1.update(set2)\n",
        "print(set1)"
      ]
    },
    {
      "cell_type": "markdown",
      "metadata": {
        "id": "aupG0enljAGL"
      },
      "source": [
        "**Note:** Both union() and update() will exclude any duplicate items."
      ]
    },
    {
      "cell_type": "markdown",
      "metadata": {
        "id": "rP1eRLz2jV-U"
      },
      "source": [
        "### Intersection\n",
        "Keep ONLY the duplicates\n",
        "\n",
        "The intersection() method will return a new set, that only contains the items that are present in both sets."
      ]
    },
    {
      "cell_type": "code",
      "execution_count": null,
      "metadata": {
        "colab": {
          "base_uri": "https://localhost:8080/"
        },
        "id": "SogolAP9jdMT",
        "outputId": "63409578-bdda-4c14-b530-80ad2b1200a0"
      },
      "outputs": [
        {
          "name": "stdout",
          "output_type": "stream",
          "text": [
            "{'apple'}\n"
          ]
        }
      ],
      "source": [
        "# Join set1 and set2, but keep only the duplicates:\n",
        "\n",
        "set1 = {\"apple\", \"banana\", \"cherry\"}\n",
        "set2 = {\"google\", \"microsoft\", \"apple\"}\n",
        "\n",
        "set3 = set1 & set2\n",
        "print(set3)"
      ]
    },
    {
      "cell_type": "markdown",
      "metadata": {
        "id": "-FOLzPsZjnOb"
      },
      "source": [
        "You can use the & operator instead of the intersection() method, and you will get the same result.\n",
        "\n",
        "**Note:** The & operator only allows you to join sets with sets, and not with other data types like you can with the intersection() method.\n",
        "\n",
        "The intersection_update() method will also keep ONLY the duplicates, but it will change the original set instead of returning a new set."
      ]
    },
    {
      "cell_type": "code",
      "execution_count": null,
      "metadata": {
        "colab": {
          "base_uri": "https://localhost:8080/"
        },
        "id": "2J7kn_OOkHlE",
        "outputId": "3ba38c2b-ced1-4600-8f74-b9c60964fd27"
      },
      "outputs": [
        {
          "name": "stdout",
          "output_type": "stream",
          "text": [
            "{'apple'}\n"
          ]
        }
      ],
      "source": [
        "# Keep the items that exist in both set1, and set2:\n",
        "\n",
        "set1 = {\"apple\", \"banana\", \"cherry\"}\n",
        "set2 = {\"google\", \"microsoft\", \"apple\"}\n",
        "\n",
        "set1.intersection_update(set2)\n",
        "\n",
        "print(set1)"
      ]
    },
    {
      "cell_type": "code",
      "execution_count": null,
      "metadata": {
        "colab": {
          "base_uri": "https://localhost:8080/"
        },
        "id": "PHN1a_kCkOSM",
        "outputId": "9b1d5e08-251b-411b-e246-762218651282"
      },
      "outputs": [
        {
          "name": "stdout",
          "output_type": "stream",
          "text": [
            "{False, 1, 'apple'}\n"
          ]
        }
      ],
      "source": [
        "# Join sets that contains the values True, False, 1, and 0, and see what is considered as duplicates:\n",
        "\n",
        "set1 = {\"apple\", 1,  \"banana\", 0, \"cherry\"}\n",
        "set2 = {False, \"google\", 1, \"apple\", 2, True}\n",
        "\n",
        "set3 = set1.intersection(set2)\n",
        "\n",
        "print(set3)"
      ]
    },
    {
      "cell_type": "markdown",
      "metadata": {
        "id": "rdoZ0u05lIUu"
      },
      "source": [
        "### Difference\n",
        "The difference() method will return a new set that will contain only the items from the first set that are not present in the other set."
      ]
    },
    {
      "cell_type": "code",
      "execution_count": null,
      "metadata": {
        "colab": {
          "base_uri": "https://localhost:8080/"
        },
        "id": "8MDwsj5ZlSmw",
        "outputId": "475a0ff2-4ee9-4b12-c5d4-42aece4cb2e0"
      },
      "outputs": [
        {
          "name": "stdout",
          "output_type": "stream",
          "text": [
            "{'banana', 'cherry'}\n"
          ]
        }
      ],
      "source": [
        "# Keep all items from set1 that are not in set2:\n",
        "\n",
        "set1 = {\"apple\", \"banana\", \"cherry\"}\n",
        "set2 = [\"google\", \"microsoft\", \"apple\"]\n",
        "\n",
        "set3 = set1.difference(set2)\n",
        "\n",
        "print(set3)"
      ]
    },
    {
      "cell_type": "markdown",
      "metadata": {
        "id": "_lHPBEb2lbAf"
      },
      "source": [
        "You can use the - operator instead of the difference() method, and you will get the same result."
      ]
    },
    {
      "cell_type": "code",
      "execution_count": null,
      "metadata": {
        "colab": {
          "base_uri": "https://localhost:8080/"
        },
        "id": "IkhPjtdgldee",
        "outputId": "4174df59-1a24-43f6-a349-23e0b75b9aad"
      },
      "outputs": [
        {
          "name": "stdout",
          "output_type": "stream",
          "text": [
            "{'banana', 'cherry'}\n"
          ]
        }
      ],
      "source": [
        "# Use - to join two sets:\n",
        "\n",
        "set1 = {\"apple\", \"banana\", \"cherry\"}\n",
        "set2 = {\"google\", \"microsoft\", \"apple\"}\n",
        "\n",
        "set3 = set1 - set2\n",
        "print(set3)"
      ]
    },
    {
      "cell_type": "markdown",
      "metadata": {
        "id": "19JcN_3Pm7uJ"
      },
      "source": [
        "The **difference_update()** method will also keep the items from the first set that are not in the other set, but it will change the original set instead of returning a new set."
      ]
    },
    {
      "cell_type": "code",
      "execution_count": null,
      "metadata": {
        "id": "20dlbvSZnB5m"
      },
      "outputs": [],
      "source": [
        "# Use the difference_update() method to keep the items that are not present in both sets:\n",
        "\n",
        "set1 = {\"apple\", \"banana\", \"cherry\"}\n",
        "set2 = {\"google\", \"microsoft\", \"apple\"}\n",
        "\n",
        "set1.difference_update(set2)\n",
        "\n",
        "print(set1)"
      ]
    },
    {
      "cell_type": "markdown",
      "metadata": {
        "id": "S7tJq8xHnSgl"
      },
      "source": [
        "The **symmetric_difference()** method will keep only the elements that are NOT present in both sets."
      ]
    },
    {
      "cell_type": "code",
      "execution_count": null,
      "metadata": {
        "colab": {
          "base_uri": "https://localhost:8080/"
        },
        "id": "HCcEWmzyncK9",
        "outputId": "b00d3b4f-86bb-42db-ebcf-88e4bb55f641"
      },
      "outputs": [
        {
          "name": "stdout",
          "output_type": "stream",
          "text": [
            "{'microsoft', 'google', 'banana', 'cherry'}\n"
          ]
        }
      ],
      "source": [
        "# Keep the items that are not present in both sets:\n",
        "\n",
        "set1 = {\"apple\", \"banana\", \"cherry\"}\n",
        "set2 = {\"google\", \"microsoft\", \"apple\"}\n",
        "\n",
        "set3 = set1.symmetric_difference(set2)\n",
        "\n",
        "print(set3)"
      ]
    },
    {
      "cell_type": "markdown",
      "metadata": {
        "id": "2yci3fgTnnRO"
      },
      "source": [
        "You can use the ^ operator instead of the symmetric_difference() method, and you will get the same result."
      ]
    },
    {
      "cell_type": "code",
      "execution_count": null,
      "metadata": {
        "colab": {
          "base_uri": "https://localhost:8080/"
        },
        "id": "ZgJ76_S2nm9X",
        "outputId": "b327c0aa-36aa-4846-ffaf-b22778e7a79b"
      },
      "outputs": [
        {
          "name": "stdout",
          "output_type": "stream",
          "text": [
            "{'microsoft', 'google', 'banana', 'cherry'}\n"
          ]
        }
      ],
      "source": [
        "# Use ^ to join two sets:\n",
        "\n",
        "set1 = {\"apple\", \"banana\", \"cherry\"}\n",
        "set2 = {\"google\", \"microsoft\", \"apple\"}\n",
        "\n",
        "set3 = set1 ^ set2\n",
        "print(set3)"
      ]
    },
    {
      "cell_type": "markdown",
      "metadata": {
        "id": "w8Pz4hjFnul-"
      },
      "source": [
        "**Note:** The ^ operator only allows you to join sets with sets, and not with other data types like you can with the symmetric_difference() method."
      ]
    },
    {
      "cell_type": "markdown",
      "metadata": {
        "id": "6BXvZSWin5t1"
      },
      "source": [
        "The **symmetric_difference_update()** method will also keep all but the duplicates, but it will change the original set instead of returning a new set"
      ]
    },
    {
      "cell_type": "code",
      "execution_count": null,
      "metadata": {
        "id": "S5Myuh6moAJW"
      },
      "outputs": [],
      "source": [
        "# Use the symmetric_difference_update() method to keep the items that are not present in both sets:\n",
        "\n",
        "set1 = {\"apple\", \"banana\", \"cherry\"}\n",
        "set2 = {\"google\", \"microsoft\", \"apple\"}\n",
        "\n",
        "set1.symmetric_difference_update(set2)\n",
        "\n",
        "print(set1)"
      ]
    },
    {
      "cell_type": "markdown",
      "metadata": {
        "id": "0DoGtMmroSg3"
      },
      "source": [
        "![pic1.PNG](data:image/png;base64,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)"
      ]
    },
    {
      "cell_type": "markdown",
      "metadata": {
        "id": "fCHN4B9KpC73"
      },
      "source": [
        "![pic2.PNG](data:image/png;base64,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)"
      ]
    },
    {
      "cell_type": "markdown",
      "metadata": {
        "id": "KGWVKlzApfbW"
      },
      "source": [
        "## Tuple Practice Questions\n",
        "**Basic Operations**\n",
        "\n",
        "* Create a tuple of five elements (integers, strings, or mixed).\n",
        "\n",
        "* Try changing a value in the tuple. What happens?\n",
        "\n",
        "* Access the 3rd element in a tuple.\n",
        "\n",
        "**Tuple Unpacking**\n",
        "\n",
        "* Unpack a tuple of 3 elements into three variables and print them.\n",
        "\n",
        "**Nested Tuples**\n",
        "\n",
        "* Create a tuple that contains two tuples and access the second element of the second tuple.\n",
        "\n",
        "**Tuple Functions**\n",
        "\n",
        "* Count how many times a value appears in a tuple.\n",
        "\n",
        "* Find the index of a value in a tuple."
      ]
    },
    {
      "cell_type": "code",
      "execution_count": null,
      "metadata": {
        "colab": {
          "base_uri": "https://localhost:8080/"
        },
        "id": "yCBc7Pdq3joH",
        "outputId": "59fa3c67-5a9f-4309-e99b-b774bf11cfca"
      },
      "outputs": [
        {
          "name": "stdout",
          "output_type": "stream",
          "text": [
            "1\n"
          ]
        }
      ],
      "source": [
        "tuple1=(1,2,3,4,2,4,2,3,2,4)\n",
        "print(tuple1.index(2))"
      ]
    },
    {
      "cell_type": "markdown",
      "metadata": {
        "id": "5q2XVNFtqEpW"
      },
      "source": [
        "## Set Practice Questions\n",
        "**Basic Set Operations**\n",
        "\n",
        "* Create a set with repeated values and print it.\n",
        "\n",
        "* Add a new element to the set.\n",
        "\n",
        "* Remove an element from the set.\n",
        "\n",
        "**Set Operations**\n",
        "\n",
        "* Given two sets, find their:\n",
        "\n",
        "* Union\n",
        "\n",
        "* Intersection\n",
        "\n",
        "* Difference\n",
        "\n",
        "* Symmetric Difference\n",
        "\n",
        "**Set Applications**\n",
        "\n",
        "* Find unique characters in a string using a set.\n",
        "\n",
        "* Remove duplicates from a list using a set.\n",
        "\n",
        "**Set Comparisons**\n",
        "\n",
        "* Check if one set is a subset or superset of another.\n",
        "\n",
        "* Check if two sets are disjoint."
      ]
    },
    {
      "cell_type": "markdown",
      "metadata": {
        "id": "l7G8ZxRnsrLy"
      },
      "source": [
        "## **Set Methods**\n",
        "Sets have powerful built-in methods like:\n",
        "\n",
        "\n",
        "*   add(x) : Adds an element.\n",
        "*   discard(x) : Removes an element if it exists.\n",
        "\n",
        "\n",
        "\n",
        "\n",
        "\n",
        "\n",
        "Membership testing using in."
      ]
    },
    {
      "cell_type": "code",
      "execution_count": null,
      "metadata": {
        "colab": {
          "base_uri": "https://localhost:8080/",
          "height": 193
        },
        "id": "IRtIL_pc5Nda",
        "outputId": "5cefd4e0-59c4-49e0-caf7-d18581453a17"
      },
      "outputs": [
        {
          "ename": "TypeError",
          "evalue": "'list' object is not callable",
          "output_type": "error",
          "traceback": [
            "\u001b[0;31m---------------------------------------------------------------------------\u001b[0m",
            "\u001b[0;31mTypeError\u001b[0m                                 Traceback (most recent call last)",
            "\u001b[0;32m<ipython-input-94-3df0a9f19331>\u001b[0m in \u001b[0;36m<cell line: 0>\u001b[0;34m()\u001b[0m\n\u001b[1;32m      1\u001b[0m \u001b[0mlist1\u001b[0m \u001b[0;34m=\u001b[0m \u001b[0;34m[\u001b[0m\u001b[0;34m'Hello'\u001b[0m\u001b[0;34m,\u001b[0m \u001b[0;36m2\u001b[0m\u001b[0;34m,\u001b[0m \u001b[0;36m3\u001b[0m\u001b[0;34m,\u001b[0m \u001b[0;36m2\u001b[0m\u001b[0;34m,\u001b[0m \u001b[0;36m3\u001b[0m\u001b[0;34m]\u001b[0m\u001b[0;34m\u001b[0m\u001b[0;34m\u001b[0m\u001b[0m\n\u001b[1;32m      2\u001b[0m \u001b[0mlist2\u001b[0m \u001b[0;34m=\u001b[0m \u001b[0mset\u001b[0m\u001b[0;34m(\u001b[0m\u001b[0mlist1\u001b[0m\u001b[0;34m)\u001b[0m         \u001b[0;31m# Convert to set (removes duplicates)\u001b[0m\u001b[0;34m\u001b[0m\u001b[0;34m\u001b[0m\u001b[0m\n\u001b[0;32m----> 3\u001b[0;31m \u001b[0mlist3\u001b[0m \u001b[0;34m=\u001b[0m \u001b[0mlist\u001b[0m\u001b[0;34m(\u001b[0m\u001b[0mlist2\u001b[0m\u001b[0;34m)\u001b[0m        \u001b[0;31m# Convert set back to list\u001b[0m\u001b[0;34m\u001b[0m\u001b[0;34m\u001b[0m\u001b[0m\n\u001b[0m\u001b[1;32m      4\u001b[0m \u001b[0mprint\u001b[0m\u001b[0;34m(\u001b[0m\u001b[0mlist3\u001b[0m\u001b[0;34m)\u001b[0m\u001b[0;34m\u001b[0m\u001b[0;34m\u001b[0m\u001b[0m\n",
            "\u001b[0;31mTypeError\u001b[0m: 'list' object is not callable"
          ]
        }
      ],
      "source": [
        "list1 = ['Hello', 2, 3, 2, 3]\n",
        "list2 = set(list1)         # Convert to set (removes duplicates)\n",
        "list3 = list(list2)        # Convert set back to list\n",
        "print(list3)"
      ]
    },
    {
      "cell_type": "code",
      "execution_count": null,
      "metadata": {
        "id": "TRCYfbHXsqop"
      },
      "outputs": [],
      "source": [
        "s = {1, 2, 3}\n",
        "s.add(4)\n",
        "s.discard(2)\n",
        "print(\"Updated Set:\", s)\n",
        "\n",
        "# Check membership\n",
        "print(\"Is 3 in set?\", 3 in s)\n"
      ]
    },
    {
      "cell_type": "markdown",
      "metadata": {
        "id": "Xo9MokP7tYu9"
      },
      "source": [
        "Set Immutability (Frozenset)\n",
        "\n",
        "*   A frozenset is an immutable version of a set.\n",
        "*   Once created, you cannot modify it.\n",
        "\n",
        "\n",
        "\n"
      ]
    },
    {
      "cell_type": "code",
      "execution_count": null,
      "metadata": {
        "id": "yRIpFtWvtgVn"
      },
      "outputs": [],
      "source": [
        "# Frozenset is an immutable version of set\n",
        "f = frozenset([1, 2, 3])\n",
        "print(\"Frozen set:\", f)\n",
        "\n",
        "# Cannot modify frozenset\n",
        "try:\n",
        "    f.add(4)\n",
        "except AttributeError as e:\n",
        "    print(\"Error:\", e)\n"
      ]
    },
    {
      "cell_type": "markdown",
      "metadata": {
        "id": "lUFsphsDtqQH"
      },
      "source": [
        "## **Practice: Tricky Scenarios**"
      ]
    },
    {
      "cell_type": "code",
      "execution_count": null,
      "metadata": {
        "colab": {
          "base_uri": "https://localhost:8080/"
        },
        "id": "Ku0zxq6tscRM",
        "outputId": "f15c9652-3366-4d62-bbad-6d0e936ab548"
      },
      "outputs": [
        {
          "name": "stdout",
          "output_type": "stream",
          "text": [
            "(5, 3, ['python', 7, 10])\n"
          ]
        }
      ],
      "source": [
        "list1=[\"python\", 1,2,1,5]\n",
        "\n",
        "\n",
        "t=(5,3,[\"python\",7,9])\n",
        "t[2].pop()\n",
        "t[2].append(10)\n",
        "print(t)\n"
      ]
    },
    {
      "cell_type": "code",
      "execution_count": null,
      "metadata": {
        "id": "NiKX97W4t1vb"
      },
      "outputs": [],
      "source": [
        "# Tuple unpacking trick\n",
        "a, b, c = (10, 20, 30)\n",
        "print(\"a:\", a, \"b:\", b, \"c:\", c)\n",
        "\n",
        "# Swapping with tuples\n",
        "x, y = 5, 10\n",
        "x, y = y, x\n",
        "print(\"Swapped: x =\", x, \"y =\", y)\n"
      ]
    },
    {
      "cell_type": "code",
      "execution_count": null,
      "metadata": {
        "id": "kMUvZMD3t3M3"
      },
      "outputs": [],
      "source": [
        "# Set puzzle - What will be the length?\n",
        "s = set(\"hello\")\n",
        "print(\"Set from 'hello':\", s)\n",
        "print(\"Length:\", len(s))  # Unique letters only\n"
      ]
    },
    {
      "cell_type": "code",
      "execution_count": null,
      "metadata": {
        "id": "WojVAI9it5UB"
      },
      "outputs": [],
      "source": [
        "# Nested mutable element inside a tuple\n",
        "t = ([1, 2], [3, 4])\n",
        "t[0].append(5)\n",
        "print(\"Modified Tuple with lists:\", t)\n"
      ]
    },
    {
      "cell_type": "code",
      "execution_count": null,
      "metadata": {
        "id": "3A1Nk_fDhVs4"
      },
      "outputs": [],
      "source": [
        "#zip() returns tuples, useful for pairing elements.\n",
        "names = [\"Ali\", \"Sara\"]\n",
        "scores = [85, 90]\n",
        "for name, score in zip(names, scores):\n",
        "    print(name, score)"
      ]
    },
    {
      "cell_type": "code",
      "execution_count": null,
      "metadata": {
        "id": "sZQq0D7UhlL8"
      },
      "outputs": [],
      "source": [
        "#Using enumerate() with tuples helps when you need both index and value in a loop.\n",
        "names = [\"Ali\", \"Sara\", \"John\"]\n",
        "for index, name in enumerate(names):\n",
        "    print(index, name)\n"
      ]
    },
    {
      "cell_type": "code",
      "execution_count": null,
      "metadata": {
        "id": "B1XweP2Uhw_Z"
      },
      "outputs": [],
      "source": [
        "#Tuples can be used as keys in dictionaries when the key is a combination of values.\n",
        "grades = {(\"Ali\", \"Math\"): 90, (\"Ali\", \"Physics\"): 85}\n",
        "print(grades[(\"Ali\", \"Math\")])\n"
      ]
    },
    {
      "cell_type": "markdown",
      "metadata": {
        "id": "vVfuINkot_t4"
      },
      "source": [
        "## **Final Tricky Practice Problems**"
      ]
    },
    {
      "cell_type": "code",
      "execution_count": null,
      "metadata": {
        "colab": {
          "base_uri": "https://localhost:8080/"
        },
        "id": "BlSTJ0XMwR4Q",
        "outputId": "e2d03a93-f492-46c4-c3b3-6a0287d87be0"
      },
      "outputs": [
        {
          "name": "stdout",
          "output_type": "stream",
          "text": [
            "False\n",
            "True\n"
          ]
        }
      ],
      "source": [
        "x = (1, 2, 3)\n",
        "y = (1, 2, 3)\n",
        "print(x is y)     # Identity check\n",
        "print(x == y)     # Equality check"
      ]
    },
    {
      "cell_type": "code",
      "execution_count": null,
      "metadata": {
        "id": "oLHNp0MxwHhI"
      },
      "outputs": [],
      "source": [
        "set1 = {1, 2, 3}\n",
        "set2 = {3, 2, 1}\n",
        "print(set1 == set2)  # Order doesn't matter in sets\n"
      ]
    },
    {
      "cell_type": "code",
      "execution_count": null,
      "metadata": {
        "id": "4q63eNNSt-_M"
      },
      "outputs": [],
      "source": [
        "def find_duplicates(lst):\n",
        "    seen = set()\n",
        "    dupes = set()\n",
        "    for item in lst:\n",
        "        if item in seen:\n",
        "            dupes.add(item)\n",
        "        seen.add(item)\n",
        "    return dupes\n",
        "\n",
        "print(find_duplicates([1, 2, 3, 2, 4, 5, 1]))\n"
      ]
    }
  ],
  "metadata": {
    "colab": {
      "provenance": []
    },
    "kernelspec": {
      "display_name": "Python 3",
      "name": "python3"
    },
    "language_info": {
      "codemirror_mode": {
        "name": "ipython",
        "version": 3
      },
      "file_extension": ".py",
      "mimetype": "text/x-python",
      "name": "python",
      "nbconvert_exporter": "python",
      "pygments_lexer": "ipython3",
      "version": "3.12.3"
    }
  },
  "nbformat": 4,
  "nbformat_minor": 0
}
