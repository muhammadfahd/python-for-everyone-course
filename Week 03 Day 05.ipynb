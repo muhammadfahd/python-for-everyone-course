{
  "cells": [
    {
      "cell_type": "markdown",
      "id": "4e74a568",
      "metadata": {},
      "source": [
        "# Week 03 Day 05 : Python For Everyone\n",
        "\n",
        "### Topics : OOP Introduction, Classes , Attributes & Objects\n",
        "---\n",
        "* [Youtube Playlist](https://www.youtube.com/playlist?list=PLAIRSMdFhzoKg8KZ5zIbH64wtV8bhshfT) \n",
        "* [GitHub Repo](https://github.com/muhammadfahd/python-for-everyone-course) \n",
        "* [Read me ](README.md) \n",
        "\n",
        "For previous check out\n",
        "* [Week 03 Day 01](./Week%2003%20Day%2001.ipynb)\n",
        "* [Week 03 Day 02](./Week%2003%20Day%2002.ipynb)\n",
        "* [Week 03 Day 03](./Week%2003%20Day%2003.ipynb)\n",
        "* [Week 03 Day 04](./Week%2003%20Day%2004.ipynb)\n",
        "\n",
        "Join Icodeguru For live Classes \n",
        "* [Join Now](https://icode.guru/join/)\n",
        "---"
      ]
    },
    {
      "cell_type": "markdown",
      "id": "JSaXqd-UJ03o",
      "metadata": {
        "id": "JSaXqd-UJ03o"
      },
      "source": [
        "## Introduction to Object-Oriented Programming (OOP)\n",
        "Welcome to Day 1 of our OOP journey! In this lecture, we will cover the following:\n",
        "### ✅ Learning Objectives\n",
        "- Understand the core concepts of Object-Oriented Programming (OOP)\n",
        "- Learn why OOP was introduced in programming languages\n",
        "- Distinguish between OOP and non-OOP (procedural) styles\n",
        "- Implement examples using Python"
      ]
    },
    {
      "cell_type": "markdown",
      "id": "08e4da37",
      "metadata": {},
      "source": [
        "\n",
        "## 🔷 Why was OOP added to programming languages?\n",
        "\n",
        "### 1. Manage Complexity\n",
        "OOP organizes code into small reusable units called **objects**, making large programs easier to manage.\n",
        "\n",
        "### 2. Represent Real-World Problems\n",
        "OOP models real-world entities, like `Car`, `User`, `BankAccount`, etc., making code more intuitive.\n",
        "\n",
        "### 3. Promote Reusability\n",
        "Using **inheritance** and **polymorphism**, you can reuse and extend code easily.\n",
        "\n",
        "---\n",
        "\n",
        "## 🔄 OOP vs Non-OOP\n",
        "\n",
        "| Feature | OOP (Object-Oriented Programming) | Non-OOP (Procedural Programming) |\n",
        "|--------|----------------------------------|----------------------------------|\n",
        "| Focus | Objects (data + behavior) | Functions and procedures |\n",
        "| Structure | Uses **classes and objects** | Uses **functions and variables** |\n",
        "| Data Security | Encapsulation protects data | Data is global and open |\n",
        "| Code Reuse | Inheritance & polymorphism | Harder, function-level reuse |\n",
        "| Example | Python (with classes), Java, C++ | C, early Python scripts |"
      ]
    },
    {
      "cell_type": "markdown",
      "id": "9oCD9sicK2sl",
      "metadata": {
        "id": "9oCD9sicK2sl"
      },
      "source": [
        "## Example:\n",
        "\n",
        "### Non-OOP (Procedural):"
      ]
    },
    {
      "cell_type": "code",
      "execution_count": null,
      "id": "IryvkQgFK3P9",
      "metadata": {
        "id": "IryvkQgFK3P9"
      },
      "outputs": [],
      "source": [
        "def deposit(balance, amount):\n",
        "    return balance + amount\n",
        "\n",
        "balance = 100\n",
        "balance = deposit(balance, 50)\n",
        "print(\"Balance:\", balance)\n"
      ]
    },
    {
      "cell_type": "markdown",
      "id": "yhmm4DEdKznm",
      "metadata": {
        "id": "yhmm4DEdKznm"
      },
      "source": [
        "### OOP:"
      ]
    },
    {
      "cell_type": "code",
      "execution_count": null,
      "id": "I2BfzJnu1F8H",
      "metadata": {
        "colab": {
          "base_uri": "https://localhost:8080/"
        },
        "id": "I2BfzJnu1F8H",
        "outputId": "2f35936b-6a4c-4956-dfc8-6b1fb6d8e550"
      },
      "outputs": [
        {
          "name": "stdout",
          "output_type": "stream",
          "text": [
            "7\n"
          ]
        }
      ],
      "source": [
        "def car(window,tire):\n",
        "  return window+tire\n",
        "\n",
        "tire=3\n",
        "window=4\n",
        "parts=car(window,tire)\n",
        "print(parts)\n",
        "\n",
        "\n"
      ]
    },
    {
      "cell_type": "code",
      "execution_count": null,
      "id": "T3RjIbdi8HED",
      "metadata": {
        "colab": {
          "base_uri": "https://localhost:8080/"
        },
        "id": "T3RjIbdi8HED",
        "outputId": "877324a3-09cc-4299-b6cb-9b756a5aadfd"
      },
      "outputs": [
        {
          "name": "stdout",
          "output_type": "stream",
          "text": [
            "<__main__.Car object at 0x78b6105c5050>\n"
          ]
        }
      ],
      "source": [
        "class Car:\n",
        "  def __init__(self):\n",
        "    pass\n",
        "    #self.parts=parts\n",
        "\n",
        "  # def total(self, tire):\n",
        "  #   self.parts+=tire\n",
        "  #   return self.parts\n",
        "\n",
        "car1=Car()\n",
        "#car1.total(3)\n",
        "print(car1)"
      ]
    },
    {
      "cell_type": "code",
      "execution_count": null,
      "id": "Dmz6nX7P-Yv6",
      "metadata": {
        "colab": {
          "base_uri": "https://localhost:8080/"
        },
        "id": "Dmz6nX7P-Yv6",
        "outputId": "484f415d-51d7-425e-e3e6-36a8fdce4035"
      },
      "outputs": [
        {
          "name": "stdout",
          "output_type": "stream",
          "text": [
            "Student ID:3,Student Name: Ali, Student Percentage:67.5 and Student CGPA 3.6\n"
          ]
        }
      ],
      "source": [
        "class Student:\n",
        "  schoolName=\"Abc\"\n",
        "  def __init__(self,id,name,percentage,cgpa):\n",
        "    # Attributes\n",
        "\n",
        "    self.id=id\n",
        "    self.name=name\n",
        "    self.percentage=percentage\n",
        "    self.cgpa=cgpa\n",
        "\n",
        "\n",
        "  def display(self):\n",
        "    print(f\"Student ID:{self.id},Student Name: {self.name}, Student Percentage:{self.percentage} and Student CGPA {self.cgpa}\")\n",
        "\n",
        "\n",
        "student1=Student(3,\"Ali\", 67.5,3.6)\n",
        "student1.display()\n",
        "print(schoolName)\n",
        "\n",
        "\n",
        "\n",
        "\n"
      ]
    },
    {
      "cell_type": "code",
      "execution_count": null,
      "id": "6ThTzh39KuLa",
      "metadata": {
        "colab": {
          "base_uri": "https://localhost:8080/"
        },
        "id": "6ThTzh39KuLa",
        "outputId": "184396c6-3975-40cb-e745-404f7a47cf1a"
      },
      "outputs": [
        {
          "name": "stdout",
          "output_type": "stream",
          "text": [
            "Balance: 150\n"
          ]
        }
      ],
      "source": [
        "class BankAccount:\n",
        "    def __init__(self, balance):\n",
        "        self.balance = balance\n",
        "\n",
        "    def deposit(self, amount):\n",
        "        self.balance += amount\n",
        "\n",
        "account = BankAccount(100)\n",
        "account.deposit(50)\n",
        "print(\"Balance:\", account.balance)\n"
      ]
    },
    {
      "cell_type": "markdown",
      "id": "SOG0zSupMQW8",
      "metadata": {
        "id": "SOG0zSupMQW8"
      },
      "source": [
        "## **🧱 2. The class and object**\n",
        "\n",
        "📌 A class is a blueprint. Class contain the properties and attributes of the objects.\n",
        "\n",
        "📌 An object is an actual thing created from that blueprint."
      ]
    },
    {
      "cell_type": "markdown",
      "id": "qcyLogKgMgco",
      "metadata": {
        "id": "qcyLogKgMgco"
      },
      "source": [
        "## ✅ Example 1: Creating a Class"
      ]
    },
    {
      "cell_type": "code",
      "execution_count": null,
      "id": "00xJgSiQMhJ6",
      "metadata": {
        "id": "00xJgSiQMhJ6"
      },
      "outputs": [],
      "source": [
        "class Dog:\n",
        "    pass\n"
      ]
    },
    {
      "cell_type": "code",
      "execution_count": null,
      "id": "gRIPMdQo2xVW",
      "metadata": {
        "id": "gRIPMdQo2xVW"
      },
      "outputs": [],
      "source": [
        "class Car:\n",
        "  pass"
      ]
    },
    {
      "cell_type": "code",
      "execution_count": null,
      "id": "-LnGMAe4MyLi",
      "metadata": {
        "colab": {
          "base_uri": "https://localhost:8080/"
        },
        "id": "-LnGMAe4MyLi",
        "outputId": "1748db6b-61b7-401f-d283-bb3ef6dcb36e"
      },
      "outputs": [
        {
          "name": "stdout",
          "output_type": "stream",
          "text": [
            "<__main__.Dog object at 0x78b6136db010>\n"
          ]
        }
      ],
      "source": [
        "# Create the object of the class Dog\n",
        "dog1 = Dog()\n",
        "print(dog1)"
      ]
    },
    {
      "cell_type": "code",
      "execution_count": null,
      "id": "WzioJ8ma2zLW",
      "metadata": {
        "colab": {
          "base_uri": "https://localhost:8080/"
        },
        "id": "WzioJ8ma2zLW",
        "outputId": "35d8fad6-ce7a-4a19-a8ea-864815967dad"
      },
      "outputs": [
        {
          "name": "stdout",
          "output_type": "stream",
          "text": [
            "<__main__.Car object at 0x78b6136a9990>\n"
          ]
        }
      ],
      "source": [
        "car1=Car()\n",
        "print(car1)"
      ]
    },
    {
      "cell_type": "markdown",
      "id": "7WXpSowJNH6g",
      "metadata": {
        "id": "7WXpSowJNH6g"
      },
      "source": [
        "## **🔧 3. The __init__ method (Constructor)**\n",
        "\n",
        "This is like a setup function that runs when you create an object.\n",
        "🧠 The __init__ method helps assign properties when we create objects."
      ]
    },
    {
      "cell_type": "code",
      "execution_count": null,
      "id": "4Xmv2MTHM3Am",
      "metadata": {
        "id": "4Xmv2MTHM3Am"
      },
      "outputs": [],
      "source": [
        "class Dog:\n",
        "    def __init__(self, name, age):\n",
        "        self.name = name # intance varaible\n",
        "        self.age = age #instance varaible\n"
      ]
    },
    {
      "cell_type": "code",
      "execution_count": null,
      "id": "RK6m-dCkNsrq",
      "metadata": {
        "colab": {
          "base_uri": "https://localhost:8080/"
        },
        "id": "RK6m-dCkNsrq",
        "outputId": "8cb79e56-b503-4517-aafb-70132b10179f"
      },
      "outputs": [
        {
          "name": "stdout",
          "output_type": "stream",
          "text": [
            "Buddy 3\n",
            "Charlie 2\n"
          ]
        }
      ],
      "source": [
        "#create the object\n",
        "dog1 = Dog(\"Buddy\", 3)\n",
        "dog2 = Dog(\"Charlie\", 2)\n",
        "\n",
        "print(dog1.name, dog1.age)\n",
        "print(dog2.name, dog2.age)\n"
      ]
    },
    {
      "cell_type": "code",
      "execution_count": null,
      "id": "ibM2AY9Y3veN",
      "metadata": {
        "colab": {
          "base_uri": "https://localhost:8080/"
        },
        "id": "ibM2AY9Y3veN",
        "outputId": "2c41ecdc-8274-4f3b-a22f-fcefb0084149"
      },
      "outputs": [
        {
          "name": "stdout",
          "output_type": "stream",
          "text": [
            "Car color:red,Car Model:Yaris\n",
            "Car color:blue,Car Model:Civic\n"
          ]
        }
      ],
      "source": [
        "class Car:\n",
        "  def __init__(self,model,color):\n",
        "    self.model=model\n",
        "    self.color=color\n",
        "    #print(\"Car is created\")\n",
        "\n",
        "toyota=Car(\"Yaris\",\"red\")\n",
        "honda=Car(\"Civic\",\"blue\")\n",
        "print(f\"Car color:{toyota.color},Car Model:{toyota.model}\")\n",
        "print(f\"Car color:{honda.color},Car Model:{honda.model}\")\n"
      ]
    },
    {
      "cell_type": "markdown",
      "id": "_rq5D5mWNf7A",
      "metadata": {
        "id": "_rq5D5mWNf7A"
      },
      "source": [
        "**'self' Keyword**\n",
        "\n",
        "self is used to access attributes and methods of the current object.\n",
        "\n",
        "It must be the first parameter of methods inside a class.\n",
        "\n",
        "**'self' refers to the current object.**"
      ]
    },
    {
      "cell_type": "code",
      "execution_count": null,
      "id": "pdTbyd2lOJPZ",
      "metadata": {
        "id": "pdTbyd2lOJPZ"
      },
      "outputs": [],
      "source": [
        "class Dog:\n",
        "    def __init__(self, name):\n",
        "        self.name = name\n",
        "\n",
        "    def bark(self):\n",
        "        print(f\"{self.name} says Woof!\")\n"
      ]
    },
    {
      "cell_type": "markdown",
      "id": "IHfjQTQcODoW",
      "metadata": {
        "id": "IHfjQTQcODoW"
      },
      "source": [
        "call a method using object.method()"
      ]
    },
    {
      "cell_type": "code",
      "execution_count": null,
      "id": "dRNnm-5xNcfa",
      "metadata": {
        "id": "dRNnm-5xNcfa"
      },
      "outputs": [],
      "source": [
        "dog1 = Dog(\"Max\")\n",
        "dog1.bark()"
      ]
    },
    {
      "cell_type": "markdown",
      "id": "pAMSWx18OT4R",
      "metadata": {
        "id": "pAMSWx18OT4R"
      },
      "source": [
        "**Instance vs Class Variables**\n",
        "\n",
        "Instance variable → Unique to each object.\n",
        "\n",
        "Class variable → Shared by all objects."
      ]
    },
    {
      "cell_type": "code",
      "execution_count": null,
      "id": "yx3NgdiNOfcy",
      "metadata": {
        "id": "yx3NgdiNOfcy"
      },
      "outputs": [],
      "source": [
        "class Dog:\n",
        "    species = \"Canine\"  # class variable\n",
        "\n",
        "    def __init__(self, name):\n",
        "        self.name = name  # instance variable\n"
      ]
    },
    {
      "cell_type": "code",
      "execution_count": null,
      "id": "3LbTEzO9OgIc",
      "metadata": {
        "id": "3LbTEzO9OgIc"
      },
      "outputs": [],
      "source": [
        "d1 = Dog(\"Rocky\")\n",
        "d2 = Dog(\"Tommy\")\n",
        "\n",
        "print(d1.name, d1.species)\n",
        "print(d2.name, d2.species)\n"
      ]
    },
    {
      "cell_type": "markdown",
      "id": "1UxOse_pQKi_",
      "metadata": {
        "id": "1UxOse_pQKi_"
      },
      "source": [
        "## **Summary**"
      ]
    },
    {
      "cell_type": "markdown",
      "id": "c7QF8k1BQEVO",
      "metadata": {
        "id": "c7QF8k1BQEVO"
      },
      "source": [
        "![image.png](data:image/png;base64,iVBORw0KGgoAAAANSUhEUgAAAosAAAGXCAYAAADbFhpqAAAAAXNSR0IArs4c6QAAAARnQU1BAACxjwv8YQUAAAAJcEhZcwAADsMAAA7DAcdvqGQAAC6BSURBVHhe7d3dix3ZWj9w/4EoKhMRVFSOhgiKIA4YQVBHJaIi400UNOpFREZBGNArPZxk9MKXKCqIGhG9UBKVIEoQ3xgjDooXiaJR8QxC8BAMyVGTqGDE+vFsf0+flafXqr073b1f0p8PLHrvelm1qjr11HdX7Z75uGng44CNqOciAGzS8MJUL2DAetRzEQA2aXhhqhcwYD3quQgAmzS8MNULGLAe9VwEgE0aXpjqBQxYj3ouAsAmDS9M9QIGrEc9FwFgk4YXpnoBA9ajnosAsEnDC1O9gAHrUc9FANik4YWpXsCA9ajnIgBs0vDCVC9gwHrUcxEANml4YaoXMGA96rkIAJs0vDDVCxiwHvVcBIBNGl6Y6gUMWI96LgLAJg0vTPUCBqxHPRcBYJOGF6Z6AQPWo56LALBJwwtTvYAB61HPRQDYpOGFqV7AgPWo5yIAbNLwwlQvYMB61HMRADZpeGGqFzBgPeq5CACbNLww1QsYsB71XASATRpemOoFDFiPei4CwCYNL0z1AgasRz0XAWCTXJgAABgSFgEAGBIWAQAYEhYBABgSFgEAGBIWAQAYEhYBABgSFgEAGBIWAQAYEhYBABgSFgEAGNpYWHzy5Mn0gz/4g9Nnf/ZnT6dOnVq0r/3ar50eP35cFwXYSVevXt2rb9E+4RM+Yfqqr/qq6fd+7/em//mf/6mLH6vf+Z3fmb76q796+sd//Mc6a2VH0QewezYSFu/fvz+9/vrri+L5rd/6rdP169enX/iFX5i+8zu/c/qXf/mXuvjW+dmf/dnpK77iK6YHDx7UWQB7Iix+4id+4uLnzZs3F3Uua9/3fd/3Tf/93/9dVzk2P/3TPz19+qd/+nT37t06q+vf/u3fpm//9m9fjDMdtA/g1bD2sBjF8du+7dumT/u0T5v+/M//vM7eCZcuXZrOnj0rLAKzIiSePn16unPnzt60qIHf+73fu7jL+Md//McvLL9Nor5FnYt6B5xsaw+LUTSjeP7Ij/xInfWCeMzxTd/0TYuCGp/C49P4n/7pny7mZRGLT70/+qM/ulgm+vzFX/zF6X//938Xy8Qjnt/4jd+YPvdzP3exfsz/sz/7s72+v+ZrvmYx/ZM+6ZOmD33oQ3uf8DMI/u7v/u70RV/0RYtl4i5irPPs2bPp/PnzLzxWUkiBkV5YDH//938/fcZnfMai9oSoP3HXLj5EZ737q7/6q8W8//zP/5w++MEPLmpVzPvCL/zCvcfA//zP/zxdvHhxr05+x3d8x/Rf//Vfi7p05syZvfViHHUsc7Uu63Rb627durWvjxj3z//8z+/V2djWD/zAD0z/8R//sZif/Vy5cmV66623Fst81md91vT7v//7//9IALtg7WExCk4WnpF4TB0F8Uu/9EunP/iDP1iEvHgdhTQef2RYjML0Ez/xE4uC9JVf+ZWL4htFOETh/fiP//jpu7/7u6e//uu/nn7lV35l0U/2HWExlv2lX/qlxWOia9euLdaLAhrrfcM3fMP03nvvTb/+67++2G6ExKdPny6+UxmPzqM4Rr/xqAagp4ar1N61iw+4P/mTP7moQ1GPoi5FfYrA+PDhw8W0qEnxCDvq1w/90A8t6mAExQh50U98MI5txPYiqEW/UWcjoEXY7I1lrtb967/+66K+RZ2LehfjjRDa9tGOO8Lg3/7t3y5uAkRwjUfXz58/3wuL0e+v/dqvTbdv354+//M/f/riL/7i6dGjRy8cE2B7bWVY/Jmf+Znpkz/5k6e/+Iu/2JsWhSgKTnwSz0L7jd/4jXuF8Ld/+7f3+o0iFMXom7/5m/d9Jyj6jn6ivxAFMO5gfv3Xf/1ekW3nh9jmp37qpy6KZ/AYGlhFDWipDYvxPe0IUG+//fbek5F4PB2hK+7AtWEx6lUsE09O8oPun/zJn7zQd4h+2w/PoY5lWa3rPYZu+8hxx93MCIYhxhb78YEPfGD6p3/6p72w2O7bj/3Yj3WPCbC91h4W4xNsFLh4dDESn4ZrGGsLV6+ItSE0Cl0UvChsVX7iri0+Tcdj5l4Q7BXZugxAVWtHyhAV8/N1rUlZz+JD7Pd///cvwmO0+K9IxIfkXp1MvRpVx7JsmV6dbeeP6my7TLufvfnAblh7WPz3f//36cu//MsXn0g//OEP19kLc3cWo9D0ilgbFnufeFP0HZ+4o+/oJ1s8Xo5PvtFnfioO+Um5/ZTeK7IAVS8YRdD7ru/6rulzPudzpvfff/+FO4ttTYoWdxJThMZ43Bt3GeOxc69Opl6NqmNZVut6dXbVO4uf93mfN33kIx8RFuEVsfawGP7wD/9wUSziO4fxV4FR+OIRSzw2jgJ079696TM/8zP3vrMYfzUd30mMaTGvV8TasBgFKz6Jx/vv+Z7veeE7i/Fdnwid8eg5psd3gOJ7j/FdmpB3Hr/lW75l+pu/+Zvpl3/5lxdjbQtifKKPafGf/PFFbWAkglH7n875uZ/7uUXtitoXX50JUVfiO35RU6LexHcRo1b98A//8OJpx6/+6q9Ov/Vbv7Woe1En4+5i1Mysk1/wBV/Q/c7iKmFxrtZlGPyyL/uyRR2OZdo+ss7GePI7iz/1Uz+1eB/TY76wCK+GjYTF8Hd/93cv/LVzFM/46+b8g5GYn3+xHC1ex7SwLCyG+PQeX7bOvy6ML2r/5V/+5WJe/FV1/rfOosVfALZ3DeOvCH/8x398UdBifhTPj370o3vbir9SjAId8+JTNEBPBKOsM9E+5VM+ZfEBNgJhKwJe/BVx/sVz1K34Lz1EaPvN3/zNvToWP+OP9/K72PHhN+pXzMs/LMm/hl4lLM7Vugh7EU5jTNH3H/3RH+3rI+psBMR2fPE+v0suLMKrYWNhcVv1iizAq0atA1YlLBYKKHASqHXAqoTFQgEFTgK1DliVsAgAwJCwCADAkLAIAMCQsAgAwJCwCADAkLAIAMCQsAgAwJCwCADA0NrD4j/8wz9omqZpmqZpO9LWHhYBANgdwiIAAEPCIgAAQ8IiAABDwiIAAEPCIgAAQ8IiAABDwiIAAEPCIgAAQ8IiAABDwiIAAEPCIgAAQ8IiAABDwiIAAEMbCYvPnz+fnjx5Mj1+/Hh69OjR1rQYT4wrxgcAwAbCYgSxbQuJtcX4BEYAgA2ExbhzV8PZNrYYJwDASbf2sLjtdxWzxTgBDuPWrVvTqVOnXmgxLV29enW6dOnSC+usy4MHD6azZ8++MJ7Devbs2XT+/PnFfsa+rcOyYxjzY0wxNuDlrD0s1lC2zQ3gMCKItUEl3kdAi6AWlgWdbXLnzp3p3Llze2Pv2cT+rGubsY11BWDYNlsfFq9fv773ifydd97ZN/84G8Bh1LAYQSsCVwSvsK6gcxRWCYubCFTrOoab2DfYFlsfFrNFUBQWgV1Sw2INNu37Oi8f6baPidvH2qdPn94LnRlC885lnZ99Xb58eTE9Xj98+PCF/nP70XIbGY7q4/QaztrHz3Xb0Ue7bhu48vhcuHBhMW/0SHyujxx3u0w7vvo7qGOt+1L39ebNm919y8f4vTHBq2ZrwuK9e/emM2fO7J14cUexnd8Li+1dx7pOO++1116b3n333Rf6ynmxzdh2HU80gMOowaN9BB0OEhbrI+w2BGVwqfPzffbVC01tWIwxtttrQ9/L3FmM1+2Y6vck8/iMQmJY1keOO7eb+9UG3dzvOq8eg3qMY59v3769eF33rX0f/eRy8CrairB4//796Y033tgXENvWC4tti8AXfcTP6O/NN998ISD2lqvzagM4jDaohAgfEUZ6j6GXhcUaVmJ+3JHLu1zt4+26fu2rzg/Ltn/QsFjXT+126vGpVumjjju0/bave/sQ82P90bZSPf7xvm4XXlVbERYj1EW4i5BX52XrhcVYL+4a9u4SXrx4cd/dxmgZTOvdxl4DOIxeGIrAkaFjLvT0wl57lzJbzO+FxRD9bSosjsY0CnI9q/RRxx1i+QjSdRvxuh6/aDH//fff724r1bCY03L90T7Aq2Bnw2KGvpw2umN4mNAIcBi9MNSGjlXDYq43uuvVC1W9sLnOsFjXT/E+t9M7Pq1V+qjjzvm9QNqGyGq0rdQLiymmz+0H7LqtCIv5fcUa6No2Cou5Tswbff+wrtu2CJOj7QIcRg1Dc4+hY9n6n9XJO4e9+a38Hl8bmtoA0wtCdVoNXXX+QcNiiNdz3zesx6dnWR8xv/6xz2gbuU9zoW+V7yxGP/HHQjnuVfYDdtlWhMVo9ZFyGwLrI4Oc1/4Ry1tvvbV3Z7H+sUwbIut2Yp3RHU2Aw4gQUetXG9hqQIvXuVyEkRrwMkBmy4CSdxZjnZzXhp4a/HrT6ljq/JDjq3fyUg2LoY657W/VkDXXR8yLu4XRT85vx1C3kWFyrr+cXv/AJ97ntPZ3NQrx8KrYmrC4jQ1gF/QeQ/N/aggGDk5YnGkAu0BY7OvdHQUObu1h0f8bGuBoCYsvypA498gcWN3aw+KTJ0/2BbNtbDFOAICTbu1h8fnz51t/dzHGF+MEADjp1h4WQwSxuHO3baExxhPjEhQBAP7PRsIiAAC7QVgEAGBIWAQAYEhYBABgSFgEAGBIWAQAYEhYBABgSFgEAGBIWAQAYEhYBABgSFgEAGBo7WHx6dOnmqZpmqZp2o60tYdFAAB2h7AIAMCQsAgAwJCwCADAkLAIAMCQsAgAwJCwCADAkLAIAMCQsAgAwJCwCADAkLAIAMCQsAgAwJCwCADAkLAIAMDQRsLi8+fPpydPnkyPHz+eHj16tBMtxhpjjrEDAJwUaw+LEbZ2KSTWFmMXGAGAk2LtYTHuztUAtmst9gEA4CRYe1jc5buK2WIfAJa5devWdP78+enZs2d11olw586d6fTp04sWr49aHNc4vnGcgeOz9rBYg9dRtHfffXd67bXXpuvXr++bd1wNYJmjCouXLl2arl69WidvtXUEuXVsA9iBsPjOO+8sWp3etqMMi6tsLxrAMic5LD548GA6d+7csdxRTMIirMcrERaPsq26PYBl2rCYwebatWvT2bNnp1OnTu17PBuhMKZHi2UfPny4+JnTcvnsK6dHfxHOQoa02E4sX+eHfDyc62cQrf3GeObEerls20/tvxeY67bqGKvaZ2yrhsW5PuNnHvd2rKPpwMdsTViMgJYn6xtvvDHdv39/b/pbb701nTlzZjHv4sWLe+vE61wnWntnMe82xvRY9969e3vz4nX2l+u1y2eL9zG9jjUawDK9sNgGmAhjOb/ehbx9+/be63pnMYJThMGQ/dbwU7ebwS/WjfkZUmP5Gzdu7OunBrEqluuFsVx+2Z3FuX2olo05tznXZ3sMY14c37npwMdsRViMsFYDYobCeJ1hL+bHcr3HzbF8To9lY7kMiG3/c33k9txZBI5CLyy24SvCTQSqCD8xfXR3rYbFKuZlGOyFtHYco77asaRYr3d3sbcvYdk45rTrVqMxj8aR2j7jZ6//0XTgY7YiLNaAFnfz3nzzzUWwq/Pq+2xtWIyf7R3C9m5l23ftY67/2gCWOUhYzOWjXvUeT9ewFNPaGjcX0nIc+Vi7F65y27Xl+Fu9bYR2f0fLtEb70Oodt7l5c33mvLpPo+nA/9m5sNiGwrbVsNg+rm6bsAisy0HDYju9fexaw2J9v+yO3qp3Fi9cuLBSWOrtS2jvRPbG0arjOIo7i3W5UZ8xvRcMR9PhpNuKsFgfQ0fQax9DZ3iLx8qvv/5693uE9TH0aLn8vmIvcOb2RkGzbQDLHCQsxnftMljVoNWGoNpPvp8Lae044nV757J+/68XynpiuZf9zuKyfaiWjTnmz/UZry9fvrwXAvN4xJ3W3nRhEV60FWExWvvHKvX7i+0jhVHIq3cc66Poeuey/WOWdr32j1/8gQtwGAcJizG9rVl1ufY/bt0uG9PijuCqYTHf97aVga83rycC42jZ3jhac/vQ0xtzPaZzfcbPnFf/yKg3HfiYrQmLh2kRLOPR8ijYHUcDADgJdjYs1v/8zSrfMzzKBgBwEqw9LPp/QwMA7I61h8UnT57sC1+71mIfAABOgrWHxefPn+/03cUYe+wDAMBJsPawGCJsxd25XQqNMdYYs6AIAJwkGwmLAADsBmERAIAhYREAgCFhEQCAIWERAIAhYREAgCFhEQCAIWERAIAhYREAgCFhEQCAIWERAIChtYfFp0+fapqmaZqmaTvS1h4WAQDYHcIiAABDwiIAAEPCIgAAQ8IiAABDwiIAAEPCIgAAQ8IiAABDwiIAAEPCIgAAQ8IiAABDwiIAAEPCIgAAQ8IiAABDGwmLz58/n548eTI9fvx4evTokVZaHJc4PnGcAAA2ae1hMQKQkLhai+MkMAIAm7T2sBh3zGoo0sYtjhcAwKasPSy6q3iwFscL2G23bt2aTp06tdfOnj07PXjwoC7GCXX16tXp0qVLdfKemH/+/Pnp2bNnddYr4c6dO4tzIn6yndYeFmsYOmy7d+/edObMmen69ev75s21d955Z3rjjTem+/fv75t3HO3dd9+d3nzzzb3txc94H9PrsrUBuytCQA2HER6jHadlAeSwjrv/k2RdxzK2EdvatHXtL0dHWCxhMaZHq8sfpsUYX3/99X3BMN7H9Jhf12kbsJs2eUfouC/Ix93/SbKuYyks8rJ2PiwedTuOsHjx4sVhnzE95tfpbQN2TwTECIrL7iDGHce489h7RJ19XLt2bW+Z06dPv/C4Li68dd24ELePvWMMMf3cuXPT5cuXF9MyOLQX7d6YY1uxzewr16n9h7l96W1/TvQZY7lw4cLeNpaNN9fJbdTt1H0Z/W6y31yud8yj3/Y4zIWwVftrf5ftuHO/8kNH7a8ey/q1h5s3b85uv1XXHf3bqcvWPms/eXx6/3ay/3pMeuvnvIMcfw5vp8NiBK38h9LeWYw7dRHA4jFvzHvttdf27urlnciY3t5ZjPmxXPuPs13vZVtsL7Yzunu4bH40YPf0LoBVhqt6IcxgkKGgDV1xgcz50XdsI+fdvXt373UNVrmtdlpdpoav+l2y6OPGjRvddZftS2/7czJstIGubrOON9fJMWQ4jOl12RhPHK8ql6thrf0dZJBpt1vDUjpIfznuXCffx/L130Rdth1L23eM6fbt24vXGUhHRuv2fnd12XaM4cqVKy/Mq/tb/+2050rMrx804n3u40GOP0djp8NitgiGNSxGIMy7eb27d/U7hNmO+s5ijKtuu22x/QiLc4/Rgd1TL4A99QIb2vVqEAhtQKxhrrXsgtxbpm5vLlzUdZftS2/7c3r91W3W8fbWyX2oIWukPb6pbmfZOFov019o96V93esv5sf6td9q7vc5t27vd1f7ivXjLnDv91vXr/u77N98XaeuP1qHo/PKhsX2bl0vsG1LWIxWx18bsHtWuYDVi15o1+v1UcNCvM9Hq+1yte96we4ts2zbrbpufR/aPnrbn9MGpFS3UcfYW6cNNbl8HKs61tTrI7T9LBtH62X6C3GcInzFem0f8bp9ApYt5r///vuzx7gGvNbc76fOa49jbXkM2n+X0do7f3V/V/lQ0R6Duv7c8edoCIsbDour/FU0sJvqRa3qBYl4nXdoehfBGhZTvK+P6kYX5FSXqdubCxd13WX70tv+nF5/dZt1vL11RvsQ03u/m9HxjWVHx7aOo/Uy/YUaEPN1GyKruXGE0bEIc+v2fnft+Ku6z3X9ur/t/NE44n2uU9cfrcPRERY7YbEue5hWx1LbsvnRgN2UAa4GmLioRcv57QU8XufyvYtgeyHOfkJdtl5Q6wU7xLL1u2Rz3wWL5Q7zncXe9uuxmZu3ynjrOhmQYp34Hl2q4095HNt5ve2uGlZW7a8e5zb4t/uV/Y1CX0zvfe8wzIXFMFp39Ltrl23V30P9d1SPX+2/jqMej7r+3PHnaOx0WIxQ197+zj9IqQGsDYu9P2Rpw2F+37Htr273oC36H92tXCWcArstLmxtzWkvpHkh7M3rXQTbsBiv618qp7bfWL9ekFM7tvhr17q9eN2OPefV/uu0ui+97cd4R+GlBo40N97eOhmQ8lj2xlbVZWsoOmhYWaW/uFvYLtMel7pf9Ti3v4PsL6e3IS3/vcz9MUhv3d7vri7bHtO6v/G6Xb/+2+n1X/uu+3eQ48/h7XRY3JUWAdR/ZxHgY+ICHxf8NjTRV8MRrNvGw2LvTl+2r/u6r9s3LdpR3fFbtdU7mNk+8IEPLFqdHq3eLayPvVf5rmI2AE4md83YBmsPi/7f0Adr/t/QACdP+yjXXUU2be1h8cmTJ/sCkTZucbwAADZl7WHx+fPn7i6u2OI4xfECANiUtYfFEAEo7pgJjf0WxyWOj6AIAGzaRsIiAAC7QVgEAGBIWAQAYEhYBABgSFgEAGBIWAQAYEhYBABgSFgEAGBIWAQAYEhYBABgSFgEAGBo7WHx6dOnmqZpmqZp2o60tYdFAAB2h7AIAMCQsAgAwJCwCADAkLAIAMCQsAgAwJCwCADAkLAIAMCQsAgAwJCwCADAkLAIAMCQsAgAwJCwCADAkLAIAMDQRsLi8+fPpydPnkyPHz+eHj16tPYW243txzgAABhbe1iMgLapkFhbjENgBAAYW3tYjDt6NbRtssV4AADoW3tY3Ja7itliPADH4datW9OpU6deaFevXq2LDd25c2c6ffr0osXrXRL7eenSpTqZjvh3cv78+enZs2d11kL87s+ePbtz/wZ4daw9LNawtg0N4DjUEJDhL6YvE+vEuqsse1gR6g4SYqsHDx5M586deyHMnKSweNjjV/+dHJeT9DvhaO10WHznnXf2Pq1fv3593/x79+5NZ86cWcx/7bXXpnfffXffMtEAjkMvBKwaLHoB7LisOqaR3lhPUjA57PHr/Ts5Difpd8LR2umwmO3ixYvdsBhhMlqdXhvAceiFgBos4nV+6I1HjRG88g5kTs8+Yl4s03ukHa8vXLiwWDYfW/f6buXdy1ymfdxdH6GPQsZorBlMovXGG5aNr1W3E+v2Qmp7zHP+5cuX9/ahNy3X6x2HXP7atWt728+xzh2/qt3XeixyzDdu3Nib3/676e3n3LHrHav29xBtHXeseXVsTVhs7xLG3cC4K5jzIgzmvF74G4XF0fTaAI5DDYvxvr2wx0W8nd/e+akBIYNiXuTr/Fi3DSvxM+bntu7evTsMYzXAxjbavjIU1bCX6lhChpkcb+1zbt+rWKf9zl5sL4JVb7s1LMZ6bb+9afX30usj3+exaNevx6+KeW3/9XeZQbX2Ofq3MHfsRseqLgcHsRVhMYLhG2+88UJAzNbeHbx///5iuRoAayhsg2e2WKb2nQ3gOMzdncvQ0d7hiQt7TIufNSDU4Bni4p8hpQaBGhrm1LBT34fe9lMda6jjafd32b5XvfGE3nZr0Kvze9Nq/7Fu3KWNZXrL12NR12/19jW0x6f2F2J7GfbbMfT6a4/d3Fjq7wRWtRVhMUNg/V5hTq/Bb1lYXDa9NoDjUINLvTMY72t9y7tvNaTEhb4u2wbQXhCIdfNxZA0rrTZg9MJIaMNLVcca6njafpfte2s0ntDbbj3mdX6dlv3XseQxq8vXbYS5gNZbP7R91P5yvQyAbR9zx+69994bHqtQfyewqq0Ii9lqaIz3b7755vAPU7KNQuFoem0Ax6GGgHifjyPbu1c9NWTEunMX+rkgkAFjFCJq2KnvQ4wjxtsGmlTHGup42tC3bN+r3nhCb7sHDYsh+h8dm97y9fc6Gl8Yhd3291n7C7G9DOftGJYdu7mx1N8JrGqrwmK2NuTFI+W5R8h1+VWm1wZwHHohIC7WecGOi3edn2pIWRb4ahCI5XLZUWBJNWDEckfxncVRWMz5o32v6nhie/E9vDquPEYHDYvRf/udwtZo+VXDYoh5q3xnsf6+2v1qxzB37EbHKtTfCaxqK8Ji3DmMu4l5Oz3uLsZdxZhXH0W3f/zS/uFLtPoYW1gENqmGipBBIYNAXLzbOpYX8xoQQrxu/8q1/sFIGwTqsnNhJpdt+8sAs8r6IebHcrm/dTw1LIbRvvfU8WQ/7X7GcY2/Wj5oWAw5/mxzfdTfa+/4VbX/9jhkf3HHsHcsemOYO3ajY5X/9ur2YZmtCIubbgCwrSIk5iNp2ARhUVgEYIvVu7SwbmsPi/7f0ACwXD66Hn2fEtZl7WHxyZMn+wLbJluMBwCAvrWHxefPn2/N3cUYR4wHAIC+tYfFEAEt7uhtKjTGdmP7giIAwLyNhEUAAHaDsAgAwJCwCADAkLAIAMCQsAgAwJCwCADAkLAIAMCQsAgAwJCwCADAkLAIAMCQsAgAwNDaw+LTp081TdM0TdO0HWlrD4sAAOwOYREAgCFhEQCAIWERAIAhYREAgCFhEQCAIWERAIAhYREAgCFhEQCAIWERAIAhYREAgCFhEQCAIWERAIAhYREAgCFhEQCAIWERAIAhYREAgKGNhMVLly5NZ8+enR48eFBnLdy6dWs6derU4ufLiH7PnTs33blzp856adFX9DkaM0CVtaxtUf/WKWpW1NuXracv4+rVqwfaz1g2j02se/78+enZs2d1sUObuzZs4jhVc+ODTdpYWPySL/mSRVGookBEoThIWKyF6ThOOGEROKioYccVfEa2oVbVmjxnncfoOK4NR2nbx8fJtdGw2CsQUTjiZIkmLAK7bJ1BKG1Drao1ec5Blj2s47g2HKVtHx8n18bC4uXLlxdFtAbCmHfjxo1989rHOadPn947mfLxRbZYLk+4a9euLZaN6fWxd308VItVPpLI+THeTRdgYLeMwmIvFLTL5hOWqGFZh9q6F9qnMNHi9c2bN/fVtVxuVE9r/VulflZtf7Hs22+/va/Ptp7mU6Ve/W6PwypjGfUd6jGKcdXjXpfN45TjiNrfO05VHUfv996qv4P22pXjq8u0+xbL5DHJ9UMsk9PqsYKXtbGwGP+gayHNT8Qf/vCH95207T/6ul79ZJonbS28uUys3xbenJ8nYq6f28/5TjzgIGqtSjUU1GV7NSfqV53fhocIVDG93lnshaBV6l/d1igo1fqcISaXr/W07nut3+1xWDaWub7rfoVYr4bu1DtObUDL/cr5VUxvx9GOq+ods9u3b+87NleuXNlbpl2njjWm3b17d9/vPqblaziMjYbFemLk9Hoi5PQU8y9cuDAsNrXf0Bag2l+d375O9SQEWCYDx7I7SLlsDUVt2GhrUK9G9ZYLta9l9W/Z2Kpef21N7q0b83OdWr8PMpa5vutxCL3+Uj1Ovb57+zoyWrZupzU3vnZe9lH7j3kRKHvrw2FsNCyGLBS9EyFOpnxdC2697b5qWHz48GH3RG0LS+2vzgdYRS9whLkaFcv2AsWyGpVqrerV07n6t2xsrVF/7fjida3d0dr5LxsW5/rujbnXX6r70lt/FABD71rVW3ZuDHVe/GwfNffuCLfHsq5Tfy/wsjYeFuPkiH/w7Xdc6kmbJ/5ILTb1hAvtid874WPZuFsZ83tFIqZ5DA0cRK+WhGU1qtbA0Aa6Ub91uVD7Wlb/lo2t6vUX07Imx7qjYBtq/W63tWwsc33X45DTRnfe6nHq7XNvX0NdNxxk2dTubx1/71ik9ninWH7uUTgcxMbDYr7vfWJqT9q5oFaLTe+kqgWmt70cU0xvv5uS8+fGAFD1AkeoNScv7LlsrYGhDQ+5fFtHj/I7i3P1s4r16vfv5r6zWNX63W5r2Vjm+u4do3qtafWOU93neu1KdZy9bbd6x6x+Z7Fuv/29xXLxfca2vxhbLFOvW71jAwe1FWEx/vHnp9rQ+0cey7e399uTKE/MvO1eT9zQO/HmHhdkwctb/1GI66dUgDm17rTaGhP1K2rMqmExtHWvPoqM1zmt19dc/VulflZtfY7l4i+I2/G0+5o1Nfs/TFhc1nc9RlnHjzoshvYYZPAfLRva5dsQmOPL8bTHdW5eTKvHYm77cBAbCYsAAOwGYREAgCFhEQCAIWERAIAhYREAgCFhEQCAIWERAIAhYREAgCFhEQCAIWERAIAhYREAgCFhEQCAIWERAIAhYREAgCFhEQCAIWERAIAhYREAgKG1h8WnT59qmqZpmqZpO9LWHhYBANgdwiIAAEPCIgAAQ8IiAABDwiIAAEPCIgAAQ8IiAABDwiIAAEPCIgAAQ8IiAABDwiIAAEPCIgAAQ8IiAABDwiIAAEPCIgAAQ8IiAABDwiIAAEMbCYuXLl2arl69WifTuHPnznT27NnFz2XiWMYxHbl169Z0/vz56dmzZ3UWcIxG5+ZBzsmD1IJdtOxYvOr7D7tgZ8PigwcPpnPnzikgMxektKwYA8djdG7uyjm5jjq7rmNxFNcdOKmExVfA6IKU1lWMgReNzs1dOSfXUWfXdSyO4roDJ9XGw2IWo2vXrk2nT5+eTp06tXjkENPb5WN6tCgq77333t6yOS0KTawT69bpIQvS5cuX9+bXIh4Fse23HWPb76jg9IpROy1+Zh/RYkwhj0GOLdapRTqWbddtt5MXpLb/dt9qMV51f4DDWSUsLquBtRbEOrFunr9vv/32C/NrHarrh7ZW1Hqbaj1sa0itZctqyNzyeSxu3LjR3VYdf93/enxrrbx58+YLy8c+HWf4hVfRVoTFKFZZHLIQZAGoQef27dsvFNj2pI9l2wAW/eb7LCC53SyEOb9+LybWj+JV++ltN9WxxjKxbKwT0yIMtsW2hty26NXtXLlyZa+gx3baAp+FOPctj2G+rxemVfcHOJxVw+JcDWzP0Xpuh1iuDUDLwmJbe/J9b4yhrhti+Rpm25pSLVs+a3M7hni9yv7n+7avdluxTlwzss/2uACr24qwWItRW0jryZ9661XtdmqQq/NHhaS3XizXW7aOaa4It0Gyrhd600bzetupx7D3Oo32Bzic3rkZalis5/pofls3Ul2/1rJe2GqDXcyPabXG5ry27976YbSfqyzfq0mj+tjb/1g/+hptK9XjAqxu68Nivq+PD3rrZbHoPe6ofYYcx1yRifltf9l6hTFk8Io+L1y4sG+/2j4yBPf2pU6Ln+0jofZY9Ap1zIvt14B40P0BXl7v3AwZcEI913N+Lyz26lhdv4aidn68jrpTz//Ro9nad32feuMKqyzfWzfWywBb97+OPVos+/7773e3lepxAVa3E2ExxTL5qLiu1wt87XZ6fbbzR4WkLeqryJAWjz4yrIW6/VguPyHXfQnttHbZOi/0LkijYnzQ/QFeXj3vU3vO1vM5jMJirQWhrYuh1rJ2/eivfoidU8fWq7NhVFdWWb53jEb1MetrPZ5htK1Ujwuwuq0Pi/Gl75zXLlvX672PArpqWIz59c5l7zuLy2QxjtYWphro4v2qdxbr2OtYo6869vqdoPbCc5D9AV5erUMhztM23PXO/3rOtnWv9hd1pdaDtl4smz+nN7a2duUyczVl2fLxM+4O5vsMfb1rRJ1X1W3FOr6zCIe39WExC0m2tiBFH/kIIpbN99GiYLRFpQauUIvHaFsxttEj4J5asEIWyOwjwmTvk3O7fC2Q7SOXdvnYXvTXLlP3q933g+4P8PLquV/Pt975PwqLvf7iA3U7v9aLOj9E7cv50Xp3BVOts+20bKOgmOaWz32NGtYbz7L9r/2122qPdda9evyB5TYSFgE4GjVMvWpiv/KDNbAZwiLADnvVw2LcKZy78wkcP2ERYIe9qmExHyfXr/QA6ycsAgAwJCwCADAkLAIAMCQsAgAwJCwCADAkLAIAMCQsAgAwJCwCADAkLAIAMCQsAgAwJCwCADAkLAIAMCQsAgAwJCwCADC09rD49OlTTdM0TdM0bUfa2sMiAAC7Q1gEAGBIWAQAYEhYBABgSFgEAGBIWAQAYEhYBABgSFgEAGBIWAQAYEhYBABgSFgEAGBIWAQAYEhYBABgSFgEAGBIWAQAYEhYBABgSFgEAGBoo2Hx0qVL06lTp/ZavA8PHjyYzp07N925c6eusrWuXr06nT9/fnr27Fmd9YKYH8vdunWrztoTfeWxAHZbnM9tnYv3YdN1LrYb249xnDRRf+fqdRybs2fPbux3A9tmI2ExilOciDUQXblyZTFv00X0OAmLcHLEedyey3H+X7t2bfF603VOWByHxaOilvOqWHtYzLCUn657Nl1Ej5OwCCfDsnN903VOWBQWYVVrD4urFKhaROPE7j3GCbHM6dOn9+ZlYW4f/cRdzN724iSuoTWnZaHv9ZHju3z58t7j81p8RmPOfm/cuPFC/+0FpRaYvBNb+wK2W72z2Mo6Encas4a1deagNSi0dSf6bINorSOx7lwtXlbDYtzZX2y/HW/ddt2XOj9rXrS6vXaZnJfL1mVa7fK1v6zXUYdzflu/6zWo9levKfU6lPvTbj9rfDt9HYEVjsLaw2INVT31RM3H0yHWzxO1fnKPaXfv3t0XSGNaryDWsbTrxet8XFTvhmbRbS8Cta9lY26LZfxsvx/ThsXcVruPtYgB26kNSe0HwpDndtaNXDbP/ZepQW2IaWtSrSPZXw09rWU1LN9n321Na0Ny3a/aX8ggluOLn21/Mb+trzG/BsBWTG/7r/uf67djasdc62zdfluja/2OdSOE1uVCvU7cvn177zVss50Ii6N5tYCmevKO1O3UE7tVA1wd39x+9cZcLxzRd+5Hu61evzG/7jOwvTKs1ABzkDqyrAa1NSREHxcuXFgs0+s3ps/dWWwtq2Ft0Art9nrbqX3U2tvOr8umur9ptPyyutqOc9n+xvyYFj9H4wh1v6KPuYAO22rtYbFXOKpaCONne4u//cSZJ3L9lNiuU4tGK4NXW1hT9Nc+Rpgr1LX4jMbcKzyhDYBtgYnX7RjqWIDdEedz1olV6siqNaitg7VFnzW0hGW1+CA1rK1fod2Puk+pDVl1fO026r6mUUgbLb9sTG0AbPuI1xHw6nGN4/Hee+/tOxatul8hlm2PJ+yCtYfFXqGp2hO1FrRRIQhxUtYTM0/00fainwiJ8TggfrZFui1E7UnfG0NbfObGPNr/UeGM5eo+AbuprQ3L6shBa1DMq3Ul9cJRTBvd5TpoDZsLi7Wv1I63hqoaFmsNz/m9sNgbX2hrae94jH43sUy9kdCqv6dW3a9W9LfKEzDYBmsPiyFO1PhkVU+w3n86p57U8T4/kcVysU7KEzOWyUIxKhwpC0G0HE9dJ9/PFep2nHNjzr7q/Pr9nXZbtVAC2y/O7/gjkjaQxLmd5/5cHXn48OFL1aC58Bc1qPY3Wn6VGtbWpLmwWMee80c1L9RtxLw6nt41JMX0+si/raO5fj0e2V89vu3vrWqPTYh1R99ZjO+gtsvV3yFsq42ExZAnb3tbv3ei5kmcy8TruXkxLQtj7XekFpaQxSQfF0SYXFaoa3GcG3NcRHKM9XFELTB1f+rywHaK87itcW3gWFZHDlqDQtSO0fbaOhI/I7j07viFVWrYqmGx11+tt7Xm1W3U9WPZuTt6oR6Ldrw5vjimbZ+pd3zr77KG39622utcTBstB9tuY2ERAF5GDZNHLULiKEjDSSQsArBTek+DjlK90wknnbAIwFarj5SPKyjmdo6rf9hVwiIAAEPCIgAAQ8IiAABDwiIAAEPCIgAAQ8IiAABDwiIAAEPCIgAAQ8IiAABDwiIAAEPCIgAAQ8IiAABDwiIAAEPCIgAAQ8IiAABDwiIAAEPCIgAAQ8IiAABDwiIAAEPCIgAAQ8IiAABDwiIAAEPCIgAAQ8IiAABDwiIAAEPCIgAAQ8IiAABDwiIAAEPCIgAAQ8IiAABDwiIAAEPCIgAAQ8IiAABDwiIAAEPCIgAAQ8IiAABDwiIAAEPCIgAAQ8IiAABDwiIAAEPCIgAAQ8IiAABDwiIAAEPCIgAAQ8IiAABDwiIAAEPCIgAAQ8IiAABDwiIAAEPCIgAAQ8IiAABDwiIAAEP/D8S/VZBnfALoAAAAAElFTkSuQmCC)"
      ]
    },
    {
      "cell_type": "markdown",
      "id": "fy7q1weEKYzh",
      "metadata": {
        "id": "fy7q1weEKYzh"
      },
      "source": [
        "## 🔑 Four Pillars of OOP\n",
        "\n",
        "## 1. Encapsulation\n",
        "Hides internal object details and exposes only necessary features.\n"
      ]
    },
    {
      "cell_type": "code",
      "execution_count": null,
      "id": "rG7k4mR6KT8n",
      "metadata": {
        "id": "rG7k4mR6KT8n"
      },
      "outputs": [],
      "source": [
        "\n",
        "#### Python Example:\n",
        "\n",
        "class Account:\n",
        "    def __init__(self, owner, balance):\n",
        "        self.owner = owner\n",
        "        self.__balance = balance  # private attribute\n",
        "\n",
        "    def deposit(self, amount):\n",
        "        if amount > 0:\n",
        "            self.__balance += amount\n",
        "\n",
        "    def get_balance(self):\n",
        "        return self.__balance\n",
        "\n",
        "acc = Account(\"Samina\", 1000)\n",
        "acc.deposit(500)\n",
        "print(acc.get_balance())"
      ]
    },
    {
      "cell_type": "markdown",
      "id": "Fp9IDVPlKGr7",
      "metadata": {
        "id": "Fp9IDVPlKGr7"
      },
      "source": [
        "## 2. Inheritance\n",
        "Allows one class to inherit from another."
      ]
    },
    {
      "cell_type": "markdown",
      "id": "JagRJDeSJ-vz",
      "metadata": {
        "id": "JagRJDeSJ-vz"
      },
      "source": [
        "#### Python Example:\n",
        "\n",
        "class Vehicle:\n",
        "    def start_engine(self):\n",
        "        print(\"Engine started\")\n",
        "\n",
        "class Car(Vehicle):\n",
        "    def play_music(self):\n",
        "        print(\"Playing music\")\n",
        "\n",
        "my_car = Car()\n",
        "my_car.start_engine()\n",
        "my_car.play_music()"
      ]
    },
    {
      "cell_type": "markdown",
      "id": "5qkBvtzSJ7Tc",
      "metadata": {
        "id": "5qkBvtzSJ7Tc"
      },
      "source": [
        "## 3. Polymorphism\n",
        "Allows methods to behave differently based on the object."
      ]
    },
    {
      "cell_type": "code",
      "execution_count": null,
      "id": "LCtzxWMLJ6WD",
      "metadata": {
        "id": "LCtzxWMLJ6WD"
      },
      "outputs": [],
      "source": [
        "\n",
        "\n",
        "#### Python Example:\n",
        "class Animal:\n",
        "    def sound(self):\n",
        "        print(\"Some sound\")\n",
        "\n",
        "class Dog(Animal):\n",
        "    def sound(self):\n",
        "        print(\"Bark\")\n",
        "\n",
        "class Cat(Animal):\n",
        "    def sound(self):\n",
        "        print(\"Meow\")\n",
        "\n",
        "for animal in [Dog(), Cat()]:\n",
        "    animal.sound()"
      ]
    },
    {
      "cell_type": "markdown",
      "id": "37ae33cd",
      "metadata": {
        "id": "37ae33cd"
      },
      "source": [
        "## 4. Abstraction\n",
        "Hides complex logic and shows only the required functionality.\n"
      ]
    },
    {
      "cell_type": "code",
      "execution_count": null,
      "id": "B79jCORiJfis",
      "metadata": {
        "colab": {
          "base_uri": "https://localhost:8080/"
        },
        "id": "B79jCORiJfis",
        "outputId": "ffe695b9-c9f7-4cad-aab3-b01bb44ed92b"
      },
      "outputs": [
        {
          "name": "stdout",
          "output_type": "stream",
          "text": [
            "78.5\n"
          ]
        }
      ],
      "source": [
        "#### Python Example:\n",
        "from abc import ABC, abstractmethod\n",
        "\n",
        "class Shape(ABC):\n",
        "    @abstractmethod\n",
        "    def area(self):\n",
        "        pass\n",
        "\n",
        "class Circle(Shape):\n",
        "    def __init__(self, radius):\n",
        "        self.radius = radius\n",
        "\n",
        "    def area(self):\n",
        "        return 3.14 * self.radius ** 2\n",
        "\n",
        "c = Circle(5)\n",
        "print(c.area())"
      ]
    },
    {
      "cell_type": "markdown",
      "id": "XCQUyP7kJdeC",
      "metadata": {
        "id": "XCQUyP7kJdeC"
      },
      "source": [
        "## Mini Activity (Try it yourself!)\n",
        "Create a `Student` class with:\n",
        "- Private attribute `marks`\n",
        "- Method to update and get marks\n",
        "\n",
        "---\n",
        "\n",
        "### Summary:\n",
        "- OOP makes code more structured, reusable, and maintainable.\n",
        "- The four pillars — Encapsulation, Inheritance, Polymorphism, Abstraction — are key to writing efficient programs.\n",
        "\n",
        "---\n",
        "\n",
        "### Practice:\n",
        "1. Create a class `BankAccount` with methods `deposit`, `withdraw`, and `get_balance`.\n",
        "2. Identify 3 real-world objects and describe how OOP concepts apply to them.\n",
        "3. Read about `__init__()` and `self` for tomorrow's lesson.\n"
      ]
    }
  ],
  "metadata": {
    "colab": {
      "provenance": []
    },
    "kernelspec": {
      "display_name": "Python 3",
      "name": "python3"
    },
    "language_info": {
      "name": "python"
    }
  },
  "nbformat": 4,
  "nbformat_minor": 5
}
