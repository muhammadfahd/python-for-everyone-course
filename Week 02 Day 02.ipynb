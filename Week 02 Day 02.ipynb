{
  "cells": [
    {
      "cell_type": "markdown",
      "metadata": {},
      "source": [
        "# Week 2 Day 01 : Python For Everyone\n",
        "## Topics\n",
        "* **Tuples**: An ordered, immutable collection of elements, defined using parentheses () :\n",
        "* **Sets** : An unordered, mutable collection of unique elements, defined using curly brackets {} or the set() function\n",
        "---\n",
        "[Youtube Playlist](https://www.youtube.com/playlist?list=PLAIRSMdFhzoKg8KZ5zIbH64wtV8bhshfT)\n",
        "\n",
        "For previous check out \n",
        "* [Week 01 Day 01](./Week%2001%20Day%2001/w1-D1-notebook.ipynb)\n",
        "* [Week 01 Day 02](./week%2001%20Day%2002.ipynb) \n",
        "* [Week 01 Day 03](./week%2001%20Day%2003.ipynb)\n",
        "* [Week 01 Day 04](./week%2001%20Day%2004.ipynb)\n",
        "* [Week 01 Day 05](./week%2001%20Day%2005.ipynb)\n",
        "* [Week 02 Day 01](./Week%2002%20Day%2001.ipynb)"
      ]
    },
    {
      "cell_type": "markdown",
      "metadata": {
        "id": "oavPD4Mpndny"
      },
      "source": [
        "## **Tuples and Sets: Basic,Immutability, set Operations**\n",
        "Tuples and Sets are two important built-in data types in Python used for storing collections of items.\n",
        "*   Tuples are ordered and immutable.\n",
        "*   Sets are unordered, mutable, and do not allow duplicates.\n",
        "\n",
        "\n",
        "\n"
      ]
    },
    {
      "cell_type": "markdown",
      "metadata": {
        "id": "0R3nrEQEpmnJ"
      },
      "source": [
        "### **Tuples - Basics**\n",
        "A tuple is a collection which is ordered and unchangeable (immutable).\n",
        "Tuples allow duplicate values and support indexing and slicing."
      ]
    },
    {
      "cell_type": "code",
      "execution_count": null,
      "metadata": {
        "id": "G3D9w7s8pxKw"
      },
      "outputs": [],
      "source": [
        "# # A tuple is an immutable, ordered collection of elements\n",
        "# my_tuple = (1, 2, 3, \"Python\", 3.14)\n",
        "# print(\"My tuple:\", my_tuple)"
      ]
    },
    {
      "cell_type": "code",
      "execution_count": null,
      "metadata": {
        "colab": {
          "base_uri": "https://localhost:8080/"
        },
        "id": "dAVlakVZkQ8U",
        "outputId": "18b06f0b-3c13-4b70-917b-36d9f62553ec"
      },
      "outputs": [
        {
          "name": "stdout",
          "output_type": "stream",
          "text": [
            "(4, 7, 'python', 5.4)\n"
          ]
        }
      ],
      "source": [
        "t=(4,7,\"python\",5.4)\n",
        "print(t)"
      ]
    },
    {
      "cell_type": "code",
      "execution_count": null,
      "metadata": {
        "colab": {
          "base_uri": "https://localhost:8080/"
        },
        "id": "sg5DNWjSkivZ",
        "outputId": "937af46e-d7fb-4ed1-88e3-b3dfa3fd7400"
      },
      "outputs": [
        {
          "name": "stdout",
          "output_type": "stream",
          "text": [
            "print the 2nd index value:  python\n"
          ]
        }
      ],
      "source": [
        "print(\"print the 3rd index value: \", t[2])"
      ]
    },
    {
      "cell_type": "code",
      "execution_count": null,
      "metadata": {
        "colab": {
          "base_uri": "https://localhost:8080/"
        },
        "id": "HqX7cdimk2j3",
        "outputId": "3eb38864-1a93-4d6e-ea09-7be0adeb3d34"
      },
      "outputs": [
        {
          "name": "stdout",
          "output_type": "stream",
          "text": [
            "Last two elements: ('python', 5.4)\n"
          ]
        }
      ],
      "source": [
        "print(\"Last two elements:\", t[2:])"
      ]
    },
    {
      "cell_type": "code",
      "execution_count": null,
      "metadata": {
        "id": "euXaSElLp6g5"
      },
      "outputs": [],
      "source": [
        "# Tuple indexing and slicing\n",
        "print(\"First element:\", my_tuple[0])\n",
        "print(\"Last two elements:\", my_tuple[-2:])"
      ]
    },
    {
      "cell_type": "markdown",
      "metadata": {
        "id": "9V1esCQsp0J9"
      },
      "source": [
        "### **Tuples - Immutability**\n",
        "Tuples are immutable, meaning their elements cannot be changed after creation.\n",
        "However, if a tuple contains a mutable object (like a list), the object itself can be changed."
      ]
    },
    {
      "cell_type": "code",
      "execution_count": null,
      "metadata": {
        "colab": {
          "base_uri": "https://localhost:8080/"
        },
        "id": "YwBrnNJ0lXPY",
        "outputId": "ba8a9233-2d87-420b-e332-65d9395dba4a"
      },
      "outputs": [
        {
          "name": "stdout",
          "output_type": "stream",
          "text": [
            "Error: 'tuple' object does not support item assignment\n"
          ]
        }
      ],
      "source": [
        "\n",
        "try:\n",
        "  t[0]=100\n",
        "except TypeError as e:\n",
        "  print(\"Error:\", e)"
      ]
    },
    {
      "cell_type": "code",
      "execution_count": null,
      "metadata": {
        "id": "6hOJc5BltKfG"
      },
      "outputs": [],
      "source": [
        "t1=(4,7,\"python\",5.4,[5,6,8])\n",
        "# t1.add()\n",
        "# t1.append()\n",
        "# t1.insert()\n",
        "\n",
        "# t1.remove()\n",
        "# t1.pop()\n",
        "# t1.clear()"
      ]
    },
    {
      "cell_type": "code",
      "execution_count": null,
      "metadata": {
        "id": "LkWHno4jpjGV"
      },
      "outputs": [],
      "source": [
        "# # Tuples are immutable: You can't change them\n",
        "# try:\n",
        "#     my_tuple[0] = 100\n",
        "# except TypeError as e:\n",
        "#     print(\"Error:\", e)\n"
      ]
    },
    {
      "cell_type": "code",
      "execution_count": null,
      "metadata": {
        "colab": {
          "base_uri": "https://localhost:8080/"
        },
        "id": "YTPb_YNdlz28",
        "outputId": "6fdde70c-013f-4848-ab28-273f2f4f2794"
      },
      "outputs": [
        {
          "name": "stdout",
          "output_type": "stream",
          "text": [
            "(4, 7, 'python', 5.4, [5, 6, 8])\n"
          ]
        }
      ],
      "source": [
        "t1=(4,7,\"python\",5.4,[5,6,8])\n",
        "print(t1)"
      ]
    },
    {
      "cell_type": "code",
      "execution_count": null,
      "metadata": {
        "colab": {
          "base_uri": "https://localhost:8080/"
        },
        "id": "f4wKBjR6l-9p",
        "outputId": "df2122d2-d35c-4df2-8124-5c11da6573b1"
      },
      "outputs": [
        {
          "name": "stdout",
          "output_type": "stream",
          "text": [
            "(4, 7, 'python', 5.4, [5, 6, 8, 14, 14, 13])\n"
          ]
        }
      ],
      "source": [
        "t1[4].append(13)\n",
        "print(t1)"
      ]
    },
    {
      "cell_type": "code",
      "execution_count": null,
      "metadata": {
        "id": "RW-9QvZBpbXO"
      },
      "outputs": [],
      "source": [
        "# # However, tuples can contain mutable elements like lists\n",
        "# mutable_inside = ([1, 2], 3)\n",
        "# mutable_inside[0].append(3)\n",
        "# print(\"Tuple with list:\", mutable_inside)\n"
      ]
    },
    {
      "cell_type": "markdown",
      "metadata": {
        "id": "DRPw92mDqI9u"
      },
      "source": [
        "Tuple Methods & Use-Cases\n",
        "Tuples support a few basic methods:\n",
        "\n",
        "*   .count(x) returns the number of occurrences of x.\n",
        "*   .index(x) returns the first index of x.\n",
        "\n",
        "Tuples are often used to return multiple values from functions."
      ]
    },
    {
      "cell_type": "code",
      "execution_count": null,
      "metadata": {
        "colab": {
          "base_uri": "https://localhost:8080/"
        },
        "id": "vJhvyv_4qWdw",
        "outputId": "bafb2480-87f0-4205-dbac-d503faece11f"
      },
      "outputs": [
        {
          "name": "stdout",
          "output_type": "stream",
          "text": [
            "Index of 9: 2\n"
          ]
        }
      ],
      "source": [
        "# Tuple methods: count and index\n",
        "t = (1, 2, 9, 2, 3, 6)\n",
        "# print(\"Count of 2:\", t.count(2)) # count/ occurance\n",
        "\n",
        "print(\"Index of 9:\", t.index(9)) # find the index\n"
      ]
    },
    {
      "cell_type": "code",
      "execution_count": null,
      "metadata": {
        "id": "e71SlCpiqYJ8"
      },
      "outputs": [],
      "source": [
        "# Use-case: Returning multiple values from a function\n",
        "def min_max(numbers):\n",
        "    return (min(numbers), max(numbers))\n",
        "\n",
        "result = min_max([10, 3, 5, 100])\n",
        "print(\"Min and Max:\", result)\n"
      ]
    },
    {
      "cell_type": "code",
      "execution_count": null,
      "metadata": {
        "colab": {
          "base_uri": "https://localhost:8080/"
        },
        "id": "q6-h1HcrndXX",
        "outputId": "96b5e3c9-bd28-418b-91ef-9251e6df93ec"
      },
      "outputs": [
        {
          "name": "stdout",
          "output_type": "stream",
          "text": [
            "3 83\n"
          ]
        }
      ],
      "source": [
        "list1=[5,8,3,7,22,66,83]\n",
        "\n",
        "\n",
        "print(min(list1), max(list1))"
      ]
    },
    {
      "cell_type": "code",
      "execution_count": null,
      "metadata": {
        "colab": {
          "base_uri": "https://localhost:8080/"
        },
        "id": "kA66rFlFihCR",
        "outputId": "bb0a2910-7922-4054-95e2-841639a74ec3"
      },
      "outputs": [
        {
          "name": "stdout",
          "output_type": "stream",
          "text": [
            "0 ali\n",
            "1 ahmed\n",
            "2 sara\n"
          ]
        }
      ],
      "source": [
        "#Using enumerate() with tuples helps when you need both index and value in a loop.\n",
        "# names = [\"Ali\", \"Sara\", \"John\"]\n",
        "\n",
        "t = (\"ali\",\"ahmed\",\"sara\")\n",
        "for index, name in enumerate(t):\n",
        "    print(index, name)"
      ]
    },
    {
      "cell_type": "code",
      "execution_count": null,
      "metadata": {
        "colab": {
          "base_uri": "https://localhost:8080/"
        },
        "id": "UL7rF06hioNP",
        "outputId": "ee64c05f-c212-4f44-d933-9344864550d5"
      },
      "outputs": [
        {
          "name": "stdout",
          "output_type": "stream",
          "text": [
            "('Ali', 'Sara', 'ahmed') 85\n",
            "('Ali', 'Sara', 'ahmed') 90\n",
            "('Ali', 'Sara', 'ahmed') 87\n"
          ]
        }
      ],
      "source": [
        "#Using in zip(): zip() returns tuples, useful for pairing elements.\n",
        "names = (\"Ali\", \"Sara\", \"ahmed\")\n",
        "scores = [85, 90,87]\n",
        "\n",
        "for name, score in zip(names, scores):\n",
        "    print(names, score)\n"
      ]
    },
    {
      "cell_type": "code",
      "execution_count": null,
      "metadata": {
        "colab": {
          "base_uri": "https://localhost:8080/"
        },
        "id": "TV8zoCBsjHEi",
        "outputId": "fbdabd56-ad2e-4f4f-f080-07e9b3476f11"
      },
      "outputs": [
        {
          "name": "stdout",
          "output_type": "stream",
          "text": [
            "('Ali', 'Math')\n"
          ]
        }
      ],
      "source": [
        "#Tuples can be used as keys in dictionaries when the key is a combination of values.\n",
        "#grades = {(\"Ali\", \"Math\"): 90, (\"Ali\", \"Physics\"): 85}\n",
        "\n",
        "grades = {90:(\"Ali\", \"Math\") , 85:(\"Ali\", \"Physics\")}\n",
        "\n",
        "#print(grades[(\"Ali\", \"Math\")])\n",
        "print(grades[90])\n"
      ]
    },
    {
      "cell_type": "markdown",
      "metadata": {
        "id": "Gby5M24dqeLE"
      },
      "source": [
        "## **Sets - Basics**\n",
        "A set is a collection that is unordered, mutable, and contains only unique elements.\n",
        "It is useful for membership tests, removing duplicates, and performing mathematical set operations."
      ]
    },
    {
      "cell_type": "code",
      "execution_count": null,
      "metadata": {
        "id": "doQtAT0eqhw9"
      },
      "outputs": [],
      "source": [
        "# A set is an unordered, mutable collection of unique elements\n",
        "my_set = {1, 2, 3, 2, 1}\n",
        "print(\"My Set:\", my_set)  # Duplicates are removed\n"
      ]
    },
    {
      "cell_type": "code",
      "execution_count": null,
      "metadata": {
        "colab": {
          "base_uri": "https://localhost:8080/"
        },
        "id": "JWhT9Mbgqxt3",
        "outputId": "76b180fb-2332-4ba6-e468-abd73c9e51fa"
      },
      "outputs": [
        {
          "name": "stdout",
          "output_type": "stream",
          "text": [
            "Type of empty_set: <class 'set'>\n"
          ]
        }
      ],
      "source": [
        "# Creating an empty set\n",
        "empty_set = set()\n",
        "print(\"Type of empty_set:\", type(empty_set))\n"
      ]
    },
    {
      "cell_type": "markdown",
      "metadata": {
        "id": "VeNnubPDq-68"
      },
      "source": [
        "### **Set Operations**\n",
        "Python sets support standard set theory operations:\n",
        "\n",
        "*   Union (|): Combines all unique elements.\n",
        "*   Intersection (&): Common elements.\n",
        "*   Difference (-): Elements in one set, not the other.\n",
        "*   Symmetric Difference (^): Elements in either set, but not both( Keeps only those elements that are unique to each set.)."
      ]
    },
    {
      "cell_type": "code",
      "execution_count": null,
      "metadata": {
        "colab": {
          "base_uri": "https://localhost:8080/"
        },
        "id": "x3lnm3APrSYi",
        "outputId": "0e84028d-8878-4dfe-dec4-7a0328bcc0b7"
      },
      "outputs": [
        {
          "name": "stdout",
          "output_type": "stream",
          "text": [
            "Union: {1, 2, 3, 4, 5, 6}\n",
            "Intersection: {3, 4}\n",
            "Difference A - B: {1, 2}\n",
            "Symmetric Difference: {1, 2, 5, 6}\n"
          ]
        }
      ],
      "source": [
        "A = {1, 2, 3, 4}\n",
        "B = {3, 4, 5, 6}\n",
        "\n",
        "print(\"Union:\", A | B)\n",
        "print(\"Intersection:\", A & B)\n",
        "print(\"Difference A - B:\", A - B)\n",
        "print(\"Symmetric Difference:\", A ^ B)\n"
      ]
    },
    {
      "cell_type": "markdown",
      "metadata": {
        "id": "l7G8ZxRnsrLy"
      },
      "source": [
        "### **Set Methods**\n",
        "Sets have powerful built-in methods like:\n",
        "\n",
        "*   add(x) : Adds an element.\n",
        "*   discard(x) : Removes an element if it exists.\n",
        "\n",
        "Membership testing using in."
      ]
    },
    {
      "cell_type": "code",
      "execution_count": null,
      "metadata": {
        "id": "TRCYfbHXsqop"
      },
      "outputs": [],
      "source": [
        "s = {1, 2, 3}\n",
        "s.add(4)\n",
        "s.discard(2)\n",
        "print(\"Updated Set:\", s)\n",
        "\n",
        "# Check membership\n",
        "print(\"Is 3 in set?\", 3 in s)\n"
      ]
    },
    {
      "cell_type": "markdown",
      "metadata": {
        "id": "Xo9MokP7tYu9"
      },
      "source": [
        "### Set Immutability (Frozenset)\n",
        "\n",
        "*   A frozenset is an immutable version of a set.\n",
        "*   Once created, you cannot modify it.\n",
        "\n",
        "\n",
        "\n"
      ]
    },
    {
      "cell_type": "code",
      "execution_count": null,
      "metadata": {
        "id": "yRIpFtWvtgVn"
      },
      "outputs": [],
      "source": [
        "# Frozenset is an immutable version of set\n",
        "f = frozenset([1, 2, 3])\n",
        "print(\"Frozen set:\", f)\n",
        "\n",
        "# Cannot modify frozenset\n",
        "try:\n",
        "    f.add(4)\n",
        "except AttributeError as e:\n",
        "    print(\"Error:\", e)\n"
      ]
    },
    {
      "cell_type": "markdown",
      "metadata": {
        "id": "lUFsphsDtqQH"
      },
      "source": [
        "## **Practice: Tricky Scenarios**"
      ]
    },
    {
      "cell_type": "code",
      "execution_count": null,
      "metadata": {
        "colab": {
          "base_uri": "https://localhost:8080/"
        },
        "id": "Ku0zxq6tscRM",
        "outputId": "f15c9652-3366-4d62-bbad-6d0e936ab548"
      },
      "outputs": [
        {
          "name": "stdout",
          "output_type": "stream",
          "text": [
            "(5, 3, ['python', 7, 10])\n"
          ]
        }
      ],
      "source": [
        "list1=[\"python\", 1,2,1,5]\n",
        "\n",
        "\n",
        "t=(5,3,[\"python\",7,9])\n",
        "t[2].pop()\n",
        "t[2].append(10)\n",
        "print(t)\n"
      ]
    },
    {
      "cell_type": "code",
      "execution_count": null,
      "metadata": {
        "id": "NiKX97W4t1vb"
      },
      "outputs": [],
      "source": [
        "# Tuple unpacking trick\n",
        "a, b, c = (10, 20, 30)\n",
        "print(\"a:\", a, \"b:\", b, \"c:\", c)\n",
        "\n",
        "# Swapping with tuples\n",
        "x, y = 5, 10\n",
        "x, y = y, x\n",
        "print(\"Swapped: x =\", x, \"y =\", y)\n"
      ]
    },
    {
      "cell_type": "code",
      "execution_count": null,
      "metadata": {
        "id": "kMUvZMD3t3M3"
      },
      "outputs": [],
      "source": [
        "# Set puzzle - What will be the length?\n",
        "s = set(\"hello\")\n",
        "print(\"Set from 'hello':\", s)\n",
        "print(\"Length:\", len(s))  # Unique letters only\n"
      ]
    },
    {
      "cell_type": "code",
      "execution_count": null,
      "metadata": {
        "id": "WojVAI9it5UB"
      },
      "outputs": [],
      "source": [
        "# Nested mutable element inside a tuple\n",
        "t = ([1, 2], [3, 4])\n",
        "t[0].append(5)\n",
        "print(\"Modified Tuple with lists:\", t)\n"
      ]
    },
    {
      "cell_type": "code",
      "execution_count": null,
      "metadata": {
        "id": "3A1Nk_fDhVs4"
      },
      "outputs": [],
      "source": [
        "#zip() returns tuples, useful for pairing elements.\n",
        "names = [\"Ali\", \"Sara\"]\n",
        "scores = [85, 90]\n",
        "for name, score in zip(names, scores):\n",
        "    print(name, score)"
      ]
    },
    {
      "cell_type": "code",
      "execution_count": null,
      "metadata": {
        "id": "sZQq0D7UhlL8"
      },
      "outputs": [],
      "source": [
        "#Using enumerate() with tuples helps when you need both index and value in a loop.\n",
        "names = [\"Ali\", \"Sara\", \"John\"]\n",
        "for index, name in enumerate(names):\n",
        "    print(index, name)\n"
      ]
    },
    {
      "cell_type": "code",
      "execution_count": null,
      "metadata": {
        "id": "B1XweP2Uhw_Z"
      },
      "outputs": [],
      "source": [
        "#Tuples can be used as keys in dictionaries when the key is a combination of values.\n",
        "grades = {(\"Ali\", \"Math\"): 90, (\"Ali\", \"Physics\"): 85}\n",
        "print(grades[(\"Ali\", \"Math\")])\n"
      ]
    },
    {
      "cell_type": "markdown",
      "metadata": {
        "id": "vVfuINkot_t4"
      },
      "source": [
        "## **Final Tricky Practice Problems**"
      ]
    },
    {
      "cell_type": "code",
      "execution_count": null,
      "metadata": {
        "colab": {
          "base_uri": "https://localhost:8080/"
        },
        "id": "BlSTJ0XMwR4Q",
        "outputId": "e2d03a93-f492-46c4-c3b3-6a0287d87be0"
      },
      "outputs": [
        {
          "name": "stdout",
          "output_type": "stream",
          "text": [
            "False\n",
            "True\n"
          ]
        }
      ],
      "source": [
        "x = (1, 2, 3)\n",
        "y = (1, 2, 3)\n",
        "print(x is y)     # Identity check\n",
        "print(x == y)     # Equality check"
      ]
    },
    {
      "cell_type": "code",
      "execution_count": null,
      "metadata": {
        "id": "oLHNp0MxwHhI"
      },
      "outputs": [],
      "source": [
        "set1 = {1, 2, 3}\n",
        "set2 = {3, 2, 1}\n",
        "print(set1 == set2)  # Order doesn't matter in sets\n"
      ]
    },
    {
      "cell_type": "code",
      "execution_count": null,
      "metadata": {
        "id": "4q63eNNSt-_M"
      },
      "outputs": [],
      "source": [
        "def find_duplicates(lst):\n",
        "    seen = set()\n",
        "    dupes = set()\n",
        "    for item in lst:\n",
        "        if item in seen:\n",
        "            dupes.add(item)\n",
        "        seen.add(item)\n",
        "    return dupes\n",
        "\n",
        "print(find_duplicates([1, 2, 3, 2, 4, 5, 1]))\n"
      ]
    }
  ],
  "metadata": {
    "colab": {
      "provenance": []
    },
    "kernelspec": {
      "display_name": "Python 3",
      "name": "python3"
    },
    "language_info": {
      "name": "python"
    }
  },
  "nbformat": 4,
  "nbformat_minor": 0
}
