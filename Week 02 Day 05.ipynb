{
  "cells": [
    {
      "cell_type": "markdown",
      "metadata": {},
      "source": [
        "# Week 2 Day 5 : Python For Everyone\n",
        "\n",
        "### Topics : Built in Function , Nested Loops , Loops with Functions & Practise Examples \n",
        "---\n",
        "[Youtube Playlist](https://www.youtube.com/playlist?list=PLAIRSMdFhzoKg8KZ5zIbH64wtV8bhshfT)\n",
        "[GitHub Repo](https://github.com/muhammadfahd/python-for-everyone-course)\n",
        "For previous check out <br>\n",
        "\n",
        "* [Week 02 Day 01](./Week%2002%20Day%2001.ipynb)\n",
        "* [Week 02 Day 02](./week%2001%20Day%2002.ipynb)\n",
        "* [Week 02 Day 03](./Week%2002%20Day%2003.ipynb)\n",
        "* [Week 02 Day 04](./Week%2002%20Day%2004.ipynb)\n",
        "\n",
        "Join Icodeguru For live Classes \n",
        "* [Join Now](https://icode.guru/join/)"
      ]
    },
    {
      "cell_type": "markdown",
      "metadata": {
        "id": "07VugER6WUhx"
      },
      "source": [
        "## Built-in Functions in Python\n",
        "Built-in functions are pre-defined functions provided by Python to perform common tasks without writing extra code."
      ]
    },
    {
      "cell_type": "markdown",
      "metadata": {
        "id": "EjFMKzZSXdEt"
      },
      "source": [
        "### For Examples:\n",
        "* print() – displays output\n",
        "* len() – returns the length of a string, list, etc.\n",
        "* type() – returns the data type of a variable\n",
        "* max() / min() – finds the largest/smallest value\n",
        "* sum() – adds all elements in a list"
      ]
    },
    {
      "cell_type": "markdown",
      "metadata": {
        "id": "Dgdm-efBX0r1"
      },
      "source": [
        "### Real-life Example:\n",
        "Imagine you have a list of students' marks and you want to find the average:\n"
      ]
    },
    {
      "cell_type": "code",
      "execution_count": null,
      "metadata": {
        "colab": {
          "base_uri": "https://localhost:8080/"
        },
        "id": "hjXx1EAqVYmc",
        "outputId": "c1da0766-e342-48ed-8ba3-45493b05e785"
      },
      "outputs": [
        {
          "name": "stdout",
          "output_type": "stream",
          "text": [
            "Average Marks: 86.25\n"
          ]
        }
      ],
      "source": [
        "marks = [90, 85, 78, 92]\n",
        "average = sum(marks) / len(marks)\n",
        "print(\"Average Marks:\", average)"
      ]
    },
    {
      "cell_type": "markdown",
      "metadata": {
        "id": "_LIqqUMiYO99"
      },
      "source": [
        "## Nested Loops\n",
        "A nested loop is a loop inside another loop. The inner loop completes all its iterations for each iteration of the outer loop."
      ]
    },
    {
      "cell_type": "code",
      "execution_count": null,
      "metadata": {
        "colab": {
          "base_uri": "https://localhost:8080/"
        },
        "id": "ymMCmPyWYkit",
        "outputId": "2bf4d45f-7cc5-4dc7-bddc-85e28406ae0d"
      },
      "outputs": [
        {
          "name": "stdout",
          "output_type": "stream",
          "text": [
            "0 0\n",
            "0 1\n",
            "1 0\n",
            "1 1\n",
            "2 0\n",
            "2 1\n",
            "3 0\n",
            "3 1\n",
            "4 0\n",
            "4 1\n"
          ]
        }
      ],
      "source": [
        "for i in range(5):\n",
        "    for j in range(2):\n",
        "        print(i, j)"
      ]
    },
    {
      "cell_type": "markdown",
      "metadata": {},
      "source": [
        "### Patterns \n",
        "* Right Angle \n",
        "* Half Number \n"
      ]
    },
    {
      "cell_type": "code",
      "execution_count": null,
      "metadata": {
        "colab": {
          "base_uri": "https://localhost:8080/"
        },
        "id": "WNyxFIH2fQAq",
        "outputId": "775a5c48-904b-4e43-c6d8-f6588f761b13"
      },
      "outputs": [
        {
          "name": "stdout",
          "output_type": "stream",
          "text": [
            "* \n",
            "* * \n",
            "* * * \n",
            "* * * * \n",
            "* * * * * \n"
          ]
        }
      ],
      "source": [
        "# Right-Angle Triangle Pattern\n",
        "rows = 5\n",
        "for i in range(1, rows + 1):\n",
        "    for j in range(i):\n",
        "        print(\"*\", end=\" \")\n",
        "    print()"
      ]
    },
    {
      "cell_type": "code",
      "execution_count": null,
      "metadata": {
        "colab": {
          "base_uri": "https://localhost:8080/"
        },
        "id": "g6G5FQqUhOrL",
        "outputId": "2956d75a-e8af-4238-da32-62d0d48b4fb3"
      },
      "outputs": [
        {
          "name": "stdout",
          "output_type": "stream",
          "text": [
            "1 \n",
            "1 2 \n",
            "1 2 3 \n",
            "1 2 3 4 \n",
            "1 2 3 4 5 \n"
          ]
        }
      ],
      "source": [
        "# Half Number Pyramid\n",
        "rows = 5\n",
        "for i in range(1, rows + 1):\n",
        "    for j in range(1,i+1):\n",
        "        print(j, end=\" \")\n",
        "    print()"
      ]
    },
    {
      "cell_type": "markdown",
      "metadata": {
        "id": "9ffRu-SjYoTr"
      },
      "source": [
        "### Real-life Example:\n",
        "Imagine you’re arranging seats in a movie theater with 3 rows and 2 seats per row:"
      ]
    },
    {
      "cell_type": "code",
      "execution_count": null,
      "metadata": {
        "colab": {
          "base_uri": "https://localhost:8080/"
        },
        "id": "fjM_l1pcZFBV",
        "outputId": "a670e5dd-64e5-466d-cf5c-6881b66ec91a"
      },
      "outputs": [
        {
          "name": "stdout",
          "output_type": "stream",
          "text": [
            "Number of row 1 in seats 1\n",
            "Number of row 1 in seats 2\n",
            "Number of row 1 in seats 3\n",
            "Number of row 1 in seats 4\n",
            "Number of row 2 in seats 1\n",
            "Number of row 2 in seats 2\n",
            "Number of row 2 in seats 3\n",
            "Number of row 2 in seats 4\n",
            "Number of row 3 in seats 1\n",
            "Number of row 3 in seats 2\n",
            "Number of row 3 in seats 3\n",
            "Number of row 3 in seats 4\n"
          ]
        }
      ],
      "source": [
        "for row in range(1, 4):\n",
        "    for seat in range(1, 5):\n",
        "        print(f\"Number of row {row} in seats {seat}\")"
      ]
    },
    {
      "cell_type": "markdown",
      "metadata": {
        "id": "PRe-1hKuZdea"
      },
      "source": [
        "## Logic Practice with Functions\n",
        "Practicing logic with functions involves using Python functions to write reusable code and solve logical problems."
      ]
    },
    {
      "cell_type": "code",
      "execution_count": null,
      "metadata": {
        "colab": {
          "base_uri": "https://localhost:8080/"
        },
        "id": "oFI3ACJMZnsG",
        "outputId": "f4b2e247-bfa1-4225-c8cd-67bc956db720"
      },
      "outputs": [
        {
          "name": "stdout",
          "output_type": "stream",
          "text": [
            "Hello, Alice!\n",
            "Hello, Bob!\n"
          ]
        }
      ],
      "source": [
        "def greet(name):\n",
        "    return f\"Hello, {name}!\"\n",
        "\n",
        "print(greet(\"Alice\"))\n",
        "print(greet(\"Bob\"))"
      ]
    },
    {
      "cell_type": "markdown",
      "metadata": {
        "id": "mLQquqxKZ0YU"
      },
      "source": [
        "### Logic Practice Tip:\n",
        "Break down complex problems into small, testable functions."
      ]
    },
    {
      "cell_type": "markdown",
      "metadata": {
        "id": "nHZsq58nZ7r8"
      },
      "source": [
        "### Real-life Example:\n",
        "Let’s say you want to build a simple function to check if someone is eligible to vote:"
      ]
    },
    {
      "cell_type": "code",
      "execution_count": null,
      "metadata": {
        "colab": {
          "base_uri": "https://localhost:8080/"
        },
        "id": "56ABc1d3Z_vE",
        "outputId": "409b11d1-f661-4ce7-842f-c41f0b6365b9"
      },
      "outputs": [
        {
          "name": "stdout",
          "output_type": "stream",
          "text": [
            "True\n",
            "False\n"
          ]
        }
      ],
      "source": [
        "def is_eligible_to_vote(age):\n",
        "    if age >= 18:\n",
        "        return True\n",
        "    else:\n",
        "        return False\n",
        "\n",
        "print(is_eligible_to_vote(20))  # Output: True\n",
        "print(is_eligible_to_vote(16))  # Output: False"
      ]
    },
    {
      "cell_type": "markdown",
      "metadata": {
        "id": "HPnaEi1KaLCK"
      },
      "source": [
        "### More Practice Ideas:\n",
        "\n",
        "- Function to check if a number is prime\n",
        "- Function to reverse a string\n",
        "- Function to calculate factorial using a loop\n",
        "- Print half Triangle of  Alphabets\n",
        "- Print Full Pyramid\n",
        "- You have a list of expenses: [2500, 3000, 1500, 4000]. Calculate the average monthly expense using built-in functions.\n",
        "- Create a function calculate_discount(price, discount_percent) that returns the final price after applying the discount."
      ]
    },
    {
      "cell_type": "markdown",
      "metadata": {},
      "source": [
        "### 1.Function to reverse a string"
      ]
    },
    {
      "cell_type": "code",
      "execution_count": null,
      "metadata": {
        "colab": {
          "base_uri": "https://localhost:8080/"
        },
        "id": "1Hfxd0-Yaggu",
        "outputId": "5c9de656-2ef4-4895-ee3c-4de774eb86a0"
      },
      "outputs": [
        {
          "name": "stdout",
          "output_type": "stream",
          "text": [
            "demhA batheM\n"
          ]
        }
      ],
      "source": [
        "# Function to reverse a string\n",
        "\n",
        "def reverse_string(input_string):\n",
        "  \"\"\"Reverses a given string.\"\"\"\n",
        "  return input_string[::-1]\n",
        "\n",
        "# Example usage:\n",
        "my_string = \"Mehtab Ahmed\"\n",
        "reversed_my_string = reverse_string(my_string)\n",
        "print(reversed_my_string) # Output: aksalA"
      ]
    },
    {
      "cell_type": "markdown",
      "metadata": {},
      "source": [
        "### 2.Function to calculate factorial using a loop"
      ]
    },
    {
      "cell_type": "code",
      "execution_count": null,
      "metadata": {
        "colab": {
          "base_uri": "https://localhost:8080/"
        },
        "id": "LBj8UNDecsbT",
        "outputId": "7bb5b7ee-96b9-46fb-bb93-5a5424c6367f"
      },
      "outputs": [
        {
          "name": "stdout",
          "output_type": "stream",
          "text": [
            "Enter a non-negative integer: -3\n",
            "The factorial of -3 is: Factorial is not defined for negative numbers\n",
            "The factorial of 0 is: 1\n",
            "The factorial of -2 is: Factorial is not defined for negative numbers\n"
          ]
        }
      ],
      "source": [
        "# Function to calculate factorial using a loop\n",
        "\n",
        "def factorial_loop(n):\n",
        "  \"\"\"Calculates the factorial of a non-negative integer using a loop.\n",
        "\n",
        "  Args:\n",
        "    n: The non-negative integer for which to calculate the factorial.\n",
        "\n",
        "  Returns:\n",
        "    The factorial of n.\n",
        "  \"\"\"\n",
        "  if n < 0:\n",
        "    return \"Factorial is not defined for negative numbers\"\n",
        "  elif n == 0:\n",
        "    return 1\n",
        "  else:\n",
        "    result = 1\n",
        "    for i in range(1, n + 1):\n",
        "      result *= i\n",
        "    return result\n",
        "\n",
        "# Example usage:\n",
        "number = int(input(\"Enter a non-negative integer: \"))\n",
        "print(f\"The factorial of {number} is: {factorial_loop(number)}\")\n",
        "\n",
        "number = 0\n",
        "print(f\"The factorial of {number} is: {factorial_loop(number)}\")\n",
        "\n",
        "number = -2\n",
        "print(f\"The factorial of {number} is: {factorial_loop(number)}\")"
      ]
    },
    {
      "cell_type": "markdown",
      "metadata": {},
      "source": [
        "### 3. Function calculate_discount(price, discount_percent) that returns the final price after applying the discount"
      ]
    },
    {
      "cell_type": "code",
      "execution_count": null,
      "metadata": {
        "colab": {
          "base_uri": "https://localhost:8080/"
        },
        "id": "rKXsTWCa3d6z",
        "outputId": "37c901ff-98f0-40f3-d288-a0babe50aefc"
      },
      "outputs": [
        {
          "name": "stdout",
          "output_type": "stream",
          "text": [
            "Original price: $100\n",
            "Discount: 20%\n",
            "Final price: $80.0\n"
          ]
        }
      ],
      "source": [
        "# Create a function calculate_discount(price, discount_percent) that returns the final price after applying the discount.\n",
        "\n",
        "def calculate_discount(price, discount_percent):\n",
        "  \"\"\"Calculates the final price after applying a discount.\n",
        "\n",
        "  Args:\n",
        "    price: The original price.\n",
        "    discount_percent: The discount percentage (e.g., 10 for 10%).\n",
        "\n",
        "  Returns:\n",
        "    The final price after the discount.\n",
        "  \"\"\"\n",
        "  discount_amount = (price * discount_percent) / 100\n",
        "  final_price = price - discount_amount\n",
        "  return final_price\n",
        "\n",
        "# Example usage:\n",
        "original_price = 100\n",
        "discount = 20\n",
        "final_price = calculate_discount(original_price, discount)\n",
        "print(f\"Original price: ${original_price}\")\n",
        "print(f\"Discount: {discount}%\")\n",
        "print(f\"Final price: ${final_price}\")"
      ]
    },
    {
      "cell_type": "markdown",
      "metadata": {
        "id": "TRwMLwOgrgTt"
      },
      "source": [
        "## Student Report Card System (Console-Based)"
      ]
    },
    {
      "cell_type": "markdown",
      "metadata": {},
      "source": [
        "### Project Goal:\n",
        "\n",
        "* Build a Python program that:\n",
        "* Stores student information\n",
        "* Accepts marks for subjects\n",
        "* Calculates total and average\n",
        "* Assigns grades\n",
        "* Allows repeated entry using loops\n",
        "* Uses functions for clean code"
      ]
    },
    {
      "cell_type": "markdown",
      "metadata": {
        "id": "ClpTSev3sko7"
      },
      "source": [
        "### Concepts Used from Your Learning:\n",
        "| Concept             | How It’s Used                         |\n",
        "  |---------------------|---------------------------------------|\n",
        "  | Variables/Data Types| Store student name, marks, etc.       |\n",
        "  | Control Flow        | Decide grade based on average         |\n",
        "  | Loops               | Input multiple subjects or students   |\n",
        "  | Functions           | Reusable logic for calculation, grading|\n",
        "  | Lists/Dictionaries  | Store marks and student records       |\n",
        "  | Built-in Functions  | sum(), len(), input(), print() etc.   |"
      ]
    },
    {
      "cell_type": "code",
      "execution_count": null,
      "metadata": {
        "colab": {
          "base_uri": "https://localhost:8080/"
        },
        "id": "Pxuf9roquvNm",
        "outputId": "4de12a0a-4b4f-4aaf-aee5-158facb90d76"
      },
      "outputs": [
        {
          "name": "stdout",
          "output_type": "stream",
          "text": [
            "How many students? 1\n",
            "\n",
            "--- Enter data for Student 1 ---\n",
            "Enter name: Ali\n",
            "How many subjects? 1\n",
            "Enter marks for subject 1: 90\n",
            "\n",
            "Report Card for Ali\n",
            "Total Marks: 90.0\n",
            "Average Marks: 90.0\n",
            "Grade: B\n",
            "------------------------------\n"
          ]
        }
      ],
      "source": [
        "# Function to calculate grade\n",
        "def calculate_grade(avg):\n",
        "    if avg >= 95:\n",
        "        return \"A\"\n",
        "    elif avg >= 80:\n",
        "        return \"B\"\n",
        "    elif avg >= 70:\n",
        "        return \"C\"\n",
        "    elif avg >= 60:\n",
        "        return \"D\"\n",
        "    else:\n",
        "        return \"F\"\n",
        "\n",
        "# Function to calculate total, average, and grade\n",
        "def process_student(name, marks):\n",
        "    total = sum(marks)\n",
        "    avg = total / len(marks)\n",
        "    grade = calculate_grade(avg)\n",
        "    print(f\"\\nReport Card for {name}\")\n",
        "    print(\"Total Marks:\", total)\n",
        "    print(\"Average Marks:\", avg)\n",
        "    print(\"Grade:\", grade)\n",
        "    print(\"-\" * 30)\n",
        "\n",
        "# Main program\n",
        "students = int(input(\"How many students? \"))\n",
        "\n",
        "for i in range(students):\n",
        "    print(f\"\\n--- Enter data for Student {i + 1} ---\")\n",
        "    name = input(\"Enter name: \")\n",
        "    marks = []\n",
        "    subjects = int(input(\"How many subjects? \"))\n",
        "\n",
        "    for j in range(subjects):\n",
        "        mark = float(input(f\"Enter marks for subject {j + 1}: \"))\n",
        "        marks.append(mark)\n",
        "\n",
        "    process_student(name, marks)\n"
      ]
    }
  ],
  "metadata": {
    "colab": {
      "provenance": []
    },
    "kernelspec": {
      "display_name": "Python 3",
      "name": "python3"
    },
    "language_info": {
      "name": "python"
    }
  },
  "nbformat": 4,
  "nbformat_minor": 0
}
