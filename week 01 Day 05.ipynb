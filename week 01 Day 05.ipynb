{
 "cells": [
  {
   "cell_type": "markdown",
   "id": "d1c7b5a8",
   "metadata": {},
   "source": [
    "# Day 05 : Python For Everyone\n",
    "## Topics\n",
    "* **Strings**: Indexing, Slicing, Methods, f-strings:\n",
    "* **Conditional Statements** if ,if else ,elif \n",
    "---\n",
    "[Youtube Playlist](https://www.youtube.com/playlist?list=PLAIRSMdFhzoKg8KZ5zIbH64wtV8bhshfT)\n",
    "\n",
    "For previous check out \n",
    "* [Week 01 Day 01](./Week%2001%20Day%2001/w1-D1-notebook.ipynb)\n",
    "* [Week 01 Day 02](./week%2001%20Day%2002.ipynb) \n",
    "* [Week 01 Day 03](./week%2001%20Day%2003.ipynb)\n",
    "* [Week 01 Day 04](./week%2001%20Day%2004.ipynb)\n",
    "\n"
   ]
  },
  {
   "cell_type": "markdown",
   "id": "3725e655",
   "metadata": {},
   "source": [
    "## Topcis we covered \n",
    "* [Strings](#strings)\n",
    "    * [Indexing in Strings](#indexing-in-strings)\n",
    "    * [Slicing of Strings](#slicing-of-strings)\n",
    "    * [f-string](#f-strings)\n",
    "    * [Common String Methods](#common-string-methods)\n",
    "    * [String Concatenation](#string-cocatenation)\n",
    "* [Conditonal Statements](#conditional-statements)  \n",
    "    * [if statement](#if-statement)\n",
    "    * [If Else Statement](#if-else-statement)\n",
    "    * [Elif Statement](#elif-statement-else-if)\n"
   ]
  },
  {
   "cell_type": "markdown",
   "id": "629f2406",
   "metadata": {},
   "source": [
    "## Strings \n",
    "A string is a sequence of characters enclosed in single (' ') or double quotes (\" \").\n",
    "Example:\n"
   ]
  },
  {
   "cell_type": "code",
   "execution_count": null,
   "id": "bda3ee86",
   "metadata": {},
   "outputs": [],
   "source": [
    "name='Fahad'\n",
    "print(\"printing\",name)\n",
    "print(type(name))"
   ]
  },
  {
   "cell_type": "markdown",
   "id": "0198526b",
   "metadata": {},
   "source": [
    "## Indexing in Strings\n",
    "![understanding Index](https://media.geeksforgeeks.org/wp-content/cdn-uploads/20200204160843/strings.jpg) <br>\n",
    "Strings are sequences of characters, and like other sequences, they can be indexed. The indexing operation returns a single character from the string. The index is zero-based, meaning the first character is at index 0. The last character is at index n-1, where n is the length of the string.\n",
    "* Python uses zero-based indexing.\n",
    "* You can use positive or negative indexes.\n"
   ]
  },
  {
   "cell_type": "code",
   "execution_count": 1,
   "id": "99f2facd",
   "metadata": {},
   "outputs": [
    {
     "name": "stdout",
     "output_type": "stream",
     "text": [
      "a\n"
     ]
    }
   ],
   "source": [
    "text='I am in pakistan'\n",
    "print(text[2])"
   ]
  },
  {
   "cell_type": "code",
   "execution_count": 2,
   "id": "d43c09a7",
   "metadata": {},
   "outputs": [
    {
     "name": "stdout",
     "output_type": "stream",
     "text": [
      "First chracter :  A\n",
      "sixth Chracter :  c\n",
      "last chracter :  g\n",
      "second last chracter :  o\n"
     ]
    }
   ],
   "source": [
    "text=\"A quick brown fox jumps over the lazy dog\"\n",
    "print(\"First chracter : \",text[0])    # P\n",
    "print(\"sixth Chracter : \",text[5])    # n\n",
    "print(\"last chracter : \",text[-1])   # n (last character)\n",
    "print(\"second last chracter : \",text[-2])   # o (second last)\n"
   ]
  },
  {
   "cell_type": "markdown",
   "id": "8c035afc",
   "metadata": {},
   "source": [
    "## Slicing of Strings\n",
    "Strings can be sliced in the same way as lists. The syntax is similar to that of lists,\n",
    "with the addition of the `str` type. The following example shows how to slice a string:\n",
    "* Slicing lets you extract a portion of the string using the syntax:\n",
    "* `string[start:end:step]`"
   ]
  },
  {
   "cell_type": "code",
   "execution_count": 3,
   "id": "c486bcf4",
   "metadata": {},
   "outputs": [
    {
     "name": "stdout",
     "output_type": "stream",
     "text": [
      "paki\n"
     ]
    }
   ],
   "source": [
    "text_3= \"pakistan is my country\"\n",
    "newText=text_3[0:4]\n",
    "print(newText)"
   ]
  },
  {
   "cell_type": "code",
   "execution_count": 4,
   "id": "d0967f70",
   "metadata": {},
   "outputs": [
    {
     "name": "stdout",
     "output_type": "stream",
     "text": [
      "We a\n",
      " are living in a country named - Pakistan\n",
      "We \n",
      "W r iigi  onr ae  aitn\n",
      "natsikaP - deman yrtnuoc a ni gnivil era eW\n"
     ]
    }
   ],
   "source": [
    "text2=\"We are living in a country named - Pakistan\"\n",
    "print(text2[0:4])    # prinitng index 0 to 4 of the string\n",
    "print(text2[2:])     # printing from 2nd index to the end of the string\n",
    "print(text2[:3])     # from start to 3rd index\n",
    "print(text2[::2])    # starting from zero to end skipping 2 characters\n",
    "print(text2[::-1])   # (reversed string)"
   ]
  },
  {
   "cell_type": "markdown",
   "id": "1f44586c",
   "metadata": {},
   "source": [
    "## f-strings\n",
    "f-strings are a feature of Python that allows you to embed expressions inside string literals, using the `f` prefix before the string. This is a more readable and efficient way to format strings compared\n",
    "to the `str.format()` method or string concatenation.\n",
    "\n",
    "> insert variables or expressions inside strings in a clean and readable way."
   ]
  },
  {
   "cell_type": "code",
   "execution_count": null,
   "id": "9a69d2f4",
   "metadata": {},
   "outputs": [],
   "source": [
    "name = \"Adil\"\n",
    "age = 23\n",
    "print(f\"My name is {name} and I am {age} years old.\")\n"
   ]
  },
  {
   "cell_type": "code",
   "execution_count": 5,
   "id": "00f2aeb1",
   "metadata": {},
   "outputs": [
    {
     "name": "stdout",
     "output_type": "stream",
     "text": [
      "number is  4 \n"
     ]
    }
   ],
   "source": [
    "num=4\n",
    "print(f\"number is  {num } \")"
   ]
  },
  {
   "cell_type": "markdown",
   "id": "06db4954",
   "metadata": {},
   "source": [
    "## common string methods\n",
    "Python strings have built-in methods for manipulating and working with text.\n",
    "Check out the official Python documentation for a comprehensive list of string methods [Here](https://docs.python.org/3/library/string.html)\n",
    "\n",
    "Some useful ones:\n",
    "column0 | column1 | column2\n",
    "------- | ------- | -------\n",
    "lower() | Converts to lowercase | \"HELLO\".lower() → \"hello\"\n",
    "upper() | Converts to uppercase | \"hello\".upper() → \"HELLO\"\n",
    "strip() | Removes leading/trailing whitespace | \" hello \".strip() → \"hello\"\n",
    "replace(old, new) | Replaces substrings | \"hi hi\".replace(\"hi\", \"hey\")\n",
    "split() | Splits string into list | \"a,b,c\".split(\",\") → ['a','b','c']\n",
    "find() | Finds index of substring | \"hello\".find(\"l\") → 2\n",
    "count() | Counts occurrences of substring | \"apple\".count(\"p\") → "
   ]
  },
  {
   "cell_type": "code",
   "execution_count": 10,
   "id": "3685c9d8",
   "metadata": {},
   "outputs": [
    {
     "name": "stdout",
     "output_type": "stream",
     "text": [
      "ONE AND ONLY ONE\n",
      "16\n"
     ]
    }
   ],
   "source": [
    "text='one and only one'\n",
    "print(text.upper())\n",
    "\n",
    "length=len(text)\n",
    "print(length)\n"
   ]
  },
  {
   "cell_type": "markdown",
   "id": "a29c13b8",
   "metadata": {},
   "source": [
    "## String Cocatenation\n",
    "String concatenation is the process of combining two or more strings into a single string.\n",
    "**Methods of String Concatenation**\n",
    "There are several ways to concatenate strings in Python:\n",
    "\n",
    "1. *Using the + Operator*: string1 + string2\n",
    "2. *Using the join() Method*: \"\".join([string1, string2])\n",
    "3. Using f-strings: f\"{string1}{string2}\"\n",
    "\n",
    "\n",
    "**Best Practices**\n",
    "When concatenating strings, consider the following best practices:\n",
    "\n",
    "- **Use f-strings for readability**: f-strings make code more readable by allowing you to embed expressions directly in string literals.\n",
    "- **Use join() for lists**: The join() method is efficient for concatenating lists of strings.\n"
   ]
  },
  {
   "cell_type": "markdown",
   "id": "0d060e8d",
   "metadata": {},
   "source": [
    "### 1. *Using the + Operator*: string1 + string2"
   ]
  },
  {
   "cell_type": "code",
   "execution_count": 11,
   "id": "af4a7620",
   "metadata": {},
   "outputs": [
    {
     "name": "stdout",
     "output_type": "stream",
     "text": [
      "HelloWorld\n"
     ]
    }
   ],
   "source": [
    "string_1 = \"Hello\"\n",
    "string_2 = \"World\"\n",
    "\n",
    "concatenated_string = string_1  + string_2\n",
    "print(concatenated_string)"
   ]
  },
  {
   "cell_type": "markdown",
   "id": "0500ff5f",
   "metadata": {},
   "source": [
    "### 2. *Using the join() Method*: \"\".join([string1, string2])"
   ]
  },
  {
   "cell_type": "code",
   "execution_count": 13,
   "id": "384adc36",
   "metadata": {},
   "outputs": [
    {
     "name": "stdout",
     "output_type": "stream",
     "text": [
      "Hello@World\n"
     ]
    }
   ],
   "source": [
    "\n",
    "string1 = \"Hello\"\n",
    "string2 = \"World\"\n",
    "result = \"@\".join([string1, string2])\n",
    "print(result)  # Hello World"
   ]
  },
  {
   "cell_type": "markdown",
   "id": "86f3d7d7",
   "metadata": {},
   "source": [
    "### 3. Using f-strings: f\"{string1}{string2}\""
   ]
  },
  {
   "cell_type": "code",
   "execution_count": 14,
   "id": "08719c06",
   "metadata": {},
   "outputs": [
    {
     "name": "stdout",
     "output_type": "stream",
     "text": [
      "Hello World\n"
     ]
    }
   ],
   "source": [
    "\n",
    "# Using f-strings\n",
    "string1 = \"Hello\"\n",
    "string2 = \"World\"\n",
    "result = f\"{string1} {string2}\"\n",
    "print(result)  # Hello World\n",
    "\n"
   ]
  },
  {
   "cell_type": "markdown",
   "id": "f4e270c8",
   "metadata": {},
   "source": [
    "----"
   ]
  },
  {
   "cell_type": "markdown",
   "id": "7d7a06bb",
   "metadata": {},
   "source": [
    "## **Control Flow**\n",
    "Control flow refers to the order in which a program executes its instructions. It is the sequence of steps that a program follows to achieve its goals."
   ]
  },
  {
   "cell_type": "markdown",
   "id": "8763ba58",
   "metadata": {},
   "source": [
    "### **Conditional Statements**\n",
    "Conditional statements are used to execute different blocks of code based on certain conditions. They are used to make decisions in a program.\n",
    "![Control Flow](https://www.scientecheasy.com/wp-content/uploads/2022/10/python-if-statement.png)"
   ]
  },
  {
   "attachments": {
    "image.png": {
     "image/png": "[encoded data removed]"
    }
   },
   "cell_type": "markdown",
   "id": "50f2bfe6",
   "metadata": {},
   "source": [
    "####  if Statement\n",
    "The if statement checks a condition and executes a block of code if the condition is true.\n",
    "<br>\n",
    "![image.png](attachment:image.png)\n"
   ]
  },
  {
   "cell_type": "code",
   "execution_count": 16,
   "id": "cc898b27",
   "metadata": {},
   "outputs": [],
   "source": [
    "x = 15\n",
    "if x < 10:\n",
    "    print(\"x is greater than 10\")"
   ]
  },
  {
   "cell_type": "code",
   "execution_count": 19,
   "id": "fb323e5a",
   "metadata": {},
   "outputs": [],
   "source": [
    "weather='rainy'\n",
    "if weather=='Sunny':\n",
    "    print(\"take glasses\")"
   ]
  },
  {
   "cell_type": "markdown",
   "id": "cf085616",
   "metadata": {},
   "source": [
    "#### if-else Statement\n",
    "The if-else statement checks a condition and executes one block of code if the condition is true and another block if the condition is false.\n",
    "![If Else](https://dnycf48t040dh.cloudfront.net/if-else-statements/fit-in/840x473/python-if-elif-flowchart.jpg)"
   ]
  },
  {
   "cell_type": "code",
   "execution_count": 21,
   "id": "70feeda6",
   "metadata": {},
   "outputs": [
    {
     "name": "stdout",
     "output_type": "stream",
     "text": [
      "x is greater than 10\n"
     ]
    }
   ],
   "source": [
    "x = 5\n",
    "if x < 10:\n",
    "    print(\"x is greater than 10\")\n",
    "else:\n",
    "    print(\"x is less than or equal to 10\")\n"
   ]
  },
  {
   "cell_type": "code",
   "execution_count": 22,
   "id": "9bee15be",
   "metadata": {},
   "outputs": [
    {
     "name": "stdout",
     "output_type": "stream",
     "text": [
      "Umbrella\n"
     ]
    }
   ],
   "source": [
    "weather='rainy'\n",
    "if weather=='Sunny':\n",
    "    print(\"take glasses\")\n",
    "else:\n",
    "    print(\"Umbrella\")    "
   ]
  },
  {
   "cell_type": "markdown",
   "id": "c8d34576",
   "metadata": {},
   "source": [
    "#### elif Statement (else if)\n",
    "The elif statement is used to check multiple conditions and execute different blocks of code based on those conditions.  <br>\n",
    "![Elif statement](https://dnycf48t040dh.cloudfront.net/if-else-statements/fit-in/840x473/python-multiple-if-flowchart.jpg)\n",
    "\n"
   ]
  },
  {
   "cell_type": "code",
   "execution_count": 24,
   "id": "953ca7cb",
   "metadata": {},
   "outputs": [
    {
     "name": "stdout",
     "output_type": "stream",
     "text": [
      "x is less than 5\n"
     ]
    }
   ],
   "source": [
    "\n",
    "x = 2\n",
    "if x > 10:\n",
    "    print(\"x is greater than 10\")\n",
    "elif x == 5:\n",
    "    print(\"x is equal to 5\")\n",
    "else:\n",
    "    print(\"x is less than 5\")\n"
   ]
  },
  {
   "cell_type": "markdown",
   "id": "ef4088d6",
   "metadata": {},
   "source": [
    "**How if-else Statements Work**\n",
    "1. The condition in the if statement is evaluated.\n",
    "2. If the condition is true, the code inside the if block is executed.\n",
    "3. If the condition is false, the code inside the elif block (if present) is evaluated.\n",
    "4. If the elif condition is true, the code inside the elif block is executed.\n",
    "5. If none of the conditions are true, the code inside the else block (if present) is executed.\n"
   ]
  },
  {
   "cell_type": "markdown",
   "id": "806b097a",
   "metadata": {},
   "source": [
    "---"
   ]
  },
  {
   "cell_type": "markdown",
   "id": "e2097c9c",
   "metadata": {},
   "source": [
    "## Problem Description: Fair Ticket Pricing Based on Age\n",
    "\n",
    "A fair has different ticket prices based on the age of the visitor. The pricing structure is as follows:\n",
    "\n",
    "- Children between 5 and 10 years old (inclusive): 20 units\n",
    "- Visitors between 11 and 20 years old (inclusive): 30 units\n",
    "- Adults above 20 years old: 50 units\n",
    "Visitors outside the age range of 5-100 years old are not eligible for ticket purchase. <br>\n",
    "\n",
    "**Task:**\n",
    "Write a program that takes the age of a visitor as input and determines the corresponding ticket price based on the above pricing structure. If the age is not valid for ticket purchase, display an appropriate message."
   ]
  },
  {
   "cell_type": "code",
   "execution_count": 34,
   "id": "4c7411b3",
   "metadata": {},
   "outputs": [
    {
     "name": "stdout",
     "output_type": "stream",
     "text": [
      "52\n"
     ]
    }
   ],
   "source": [
    "# user input \n",
    "age = input(\"Enter your age \")\n",
    "age=int(age)\n",
    "\n",
    "\n",
    "print(age)"
   ]
  },
  {
   "cell_type": "code",
   "execution_count": 35,
   "id": "ea511377",
   "metadata": {},
   "outputs": [
    {
     "name": "stdout",
     "output_type": "stream",
     "text": [
      "Your ticket price is: 50\n"
     ]
    }
   ],
   "source": [
    "# Determine ticket price based on age\n",
    "if age >= 5 and age <= 10:\n",
    "    price = 20\n",
    "elif age >= 11 and age <= 20:\n",
    "    price = 30\n",
    "elif age > 20:\n",
    "    price = 50\n",
    "else:\n",
    "    price = None\n",
    "    print(\"Age not valid for ticket purchase.\")\n",
    "\n",
    "# Print ticket price\n",
    "if price is not None:\n",
    "    print(f\"Your ticket price is: {price}\")\n"
   ]
  },
  {
   "cell_type": "code",
   "execution_count": null,
   "id": "ea5ed4d6",
   "metadata": {},
   "outputs": [],
   "source": []
  }
 ],
 "metadata": {
  "kernelspec": {
   "display_name": "Python 3",
   "language": "python",
   "name": "python3"
  },
  "language_info": {
   "codemirror_mode": {
    "name": "ipython",
    "version": 3
   },
   "file_extension": ".py",
   "mimetype": "text/x-python",
   "name": "python",
   "nbconvert_exporter": "python",
   "pygments_lexer": "ipython3",
   "version": "3.12.3"
  }
 },
 "nbformat": 4,
 "nbformat_minor": 5
}
