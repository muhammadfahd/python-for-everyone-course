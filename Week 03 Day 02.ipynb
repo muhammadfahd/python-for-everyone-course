{
  "cells": [
    {
      "cell_type": "markdown",
      "metadata": {},
      "source": [
        "# Week 03 Day 02 : Python For Everyone\n",
        "\n",
        "### Topics : Combining Data Structures, zip(), enumerate(), and More\n",
        "---\n",
        "* [Youtube Playlist](https://www.youtube.com/playlist?list=PLAIRSMdFhzoKg8KZ5zIbH64wtV8bhshfT) <br>\n",
        "* [GitHub Repo](https://github.com/muhammadfahd/python-for-everyone-course) <br>\n",
        "* [Read me ](README.md) <br>\n",
        "For previous check out <br>\n",
        "\n",
        "* [Week 03 Day 01](./Week%2003%20Day%2001.ipynb)\n",
        "\n",
        "Join Icodeguru For live Classes \n",
        "* [Join Now](https://icode.guru/join/)\n",
        "---"
      ]
    },
    {
      "cell_type": "markdown",
      "metadata": {
        "id": "K41pDUTaAQ0F"
      },
      "source": [
        "# **Topics:Combining Data Structures**\n",
        "\n",
        "1. zip()\n",
        "2. enumerate()\n",
        "3. in keyword (Membership Testing)\n",
        "4. String Methods\n",
        "5. Practice Questions"
      ]
    },
    {
      "cell_type": "markdown",
      "metadata": {
        "id": "03XTA6nuHppN"
      },
      "source": [
        "## Combining Data Structures & zip()  "
      ]
    },
    {
      "cell_type": "markdown",
      "metadata": {
        "id": "y0ghaG8xIIYV"
      },
      "source": [
        "* zip() combines multiple iterables (lists, tuples) into a single iterable of\n",
        "tuples.\n",
        "* The zip() function returns a zip object, which is an iterator of tuples where the first item in each passed iterator is paired together, and then the second item in each passed iterator are paired together etc.\n",
        "\n",
        "* If the passed iterables have different lengths, the iterable with the least items decides the length of the new iterator."
      ]
    },
    {
      "cell_type": "code",
      "execution_count": null,
      "metadata": {
        "colab": {
          "base_uri": "https://localhost:8080/"
        },
        "id": "ykKPcPInGPrO",
        "outputId": "4d1faa2d-de59-4e4b-cb27-769dafec6e4a"
      },
      "outputs": [
        {
          "name": "stdout",
          "output_type": "stream",
          "text": [
            "(('Ali', 90), ('Sara', 85))\n"
          ]
        }
      ],
      "source": [
        "names = ['Ali', 'Sara']\n",
        "scores = [90, 85, 90]\n",
        "\n",
        "combined = tuple(zip(names, scores))\n",
        "print(combined)"
      ]
    },
    {
      "cell_type": "code",
      "execution_count": null,
      "metadata": {
        "colab": {
          "base_uri": "https://localhost:8080/"
        },
        "id": "WCBVHYV1H9lt",
        "outputId": "0adb64b7-9aa5-45c0-c05d-926ab50415a4"
      },
      "outputs": [
        {
          "name": "stdout",
          "output_type": "stream",
          "text": [
            "[('John', 'Jenny'), ('Charles', 'Christy'), ('Mike', 'Monica')]\n"
          ]
        }
      ],
      "source": [
        "a = (\"John\", \"Charles\", \"Mike\")\n",
        "b = (\"Jenny\", \"Christy\", \"Monica\")\n",
        "\n",
        "x = list(zip(a, b))\n",
        "print(x)"
      ]
    },
    {
      "cell_type": "code",
      "execution_count": null,
      "metadata": {
        "colab": {
          "base_uri": "https://localhost:8080/"
        },
        "id": "lNqfLJ4UI4m3",
        "outputId": "b9f1e42b-242e-4bb8-bd54-d3fa48a13b4c"
      },
      "outputs": [
        {
          "name": "stdout",
          "output_type": "stream",
          "text": [
            "[('John', 'Jenny'), ('Charles', 'Christy'), ('Mike', 'Monica')]\n"
          ]
        }
      ],
      "source": [
        "a = (\"John\", \"Charles\", \"Mike\")\n",
        "b = (\"Jenny\", \"Christy\", \"Monica\", \"Vicky\")\n",
        "\n",
        "x = list(zip(a, b))\n",
        "print(x)"
      ]
    },
    {
      "cell_type": "code",
      "execution_count": null,
      "metadata": {
        "id": "ESh7OiAJHY8_"
      },
      "outputs": [],
      "source": [
        "# Combine these three lists\n",
        "products = ['Pen', 'Notebook', 'Eraser']\n",
        "prices = [10, 20, 5]\n",
        "stocks = [100, 50, 300]\n",
        "\n",
        "# Use zip and print"
      ]
    },
    {
      "cell_type": "markdown",
      "metadata": {
        "id": "XLSIh6o3JZwW"
      },
      "source": [
        "##  enumerate()\n",
        "* enumerate(iterable, start)\n",
        "* Gives index with items when looping.\n",
        "\n",
        "1. iterable ----->\tAn iterable object\n",
        "2. start ------>\tA Number. Defining the start number of the enumerate object. Default 0"
      ]
    },
    {
      "cell_type": "code",
      "execution_count": null,
      "metadata": {
        "colab": {
          "base_uri": "https://localhost:8080/"
        },
        "id": "LgCQarlXKDLY",
        "outputId": "a73f2cd6-205f-404a-a62b-dd51af52ae85"
      },
      "outputs": [
        {
          "name": "stdout",
          "output_type": "stream",
          "text": [
            "1. Python\n",
            "2. C++\n",
            "3. Java\n"
          ]
        }
      ],
      "source": [
        "langs = ['Python', 'C++', 'Java']\n",
        "for index, lang in enumerate(langs, start=1):\n",
        "    print(f\"{index}. {lang}\")"
      ]
    },
    {
      "cell_type": "markdown",
      "metadata": {
        "id": "IlmDPBoJLgrw"
      },
      "source": [
        "## in Keyword (Membership Testing)"
      ]
    },
    {
      "cell_type": "code",
      "execution_count": null,
      "metadata": {
        "colab": {
          "base_uri": "https://localhost:8080/"
        },
        "id": "1-jhThZtL6Ox",
        "outputId": "c492eb0e-e976-4600-d88c-88135e511d27"
      },
      "outputs": [
        {
          "name": "stdout",
          "output_type": "stream",
          "text": [
            "True\n",
            "False\n"
          ]
        }
      ],
      "source": [
        "letters = ['a', 'e', 'i', 'o', 'u']\n",
        "print('a' in letters)  # True\n",
        "print('b' in letters)  # False"
      ]
    },
    {
      "cell_type": "markdown",
      "metadata": {
        "id": "-RFT0uklL1UP"
      },
      "source": [
        "##  String Methods "
      ]
    },
    {
      "cell_type": "markdown",
      "metadata": {
        "id": "wikBUgtgCLjK"
      },
      "source": [
        "### Strings Introduction\n",
        "Strings in python are surrounded by either single quotation marks, or double quotation marks.\n",
        "\n",
        "`print(\"hello\")`\n",
        "*  Quotes Inside Quotes -  You can use quotes inside a string, as long as they don't match the quotes surrounding the string:\n",
        "`print('He is called \"Johnny\"')`"
      ]
    },
    {
      "cell_type": "markdown",
      "metadata": {},
      "source": [
        "###  Assign String to a Variable\n",
        "Assigning a string to a variable is done with the variable name followed by an equal sign and the string:"
      ]
    },
    {
      "cell_type": "code",
      "execution_count": null,
      "metadata": {},
      "outputs": [],
      "source": [
        "a = \"Hello\"\n",
        "print(a)\n"
      ]
    },
    {
      "cell_type": "markdown",
      "metadata": {},
      "source": [
        "### Multiline String \n",
        "You can assign a multiline string to a variable by using three quotes:\n"
      ]
    },
    {
      "cell_type": "code",
      "execution_count": null,
      "metadata": {
        "colab": {
          "base_uri": "https://localhost:8080/"
        },
        "id": "pJrj-QjH42u4",
        "outputId": "4ff266ed-6d88-4391-a75f-d3f06e105390"
      },
      "outputs": [
        {
          "name": "stdout",
          "output_type": "stream",
          "text": [
            "Lorem ipsum dolor sit amet,\n",
            "consectetur adipiscing elit,\n",
            "sed do eiusmod tempor incididunt\n",
            "ut labore et dolore magna aliqua.\n"
          ]
        }
      ],
      "source": [
        "\n",
        "a = \"\"\"Lorem ipsum dolor sit amet,\n",
        "consectetur adipiscing elit,\n",
        "sed do eiusmod tempor incididunt\n",
        "ut labore et dolore magna aliqua.\"\"\"\n",
        "print(a)\n",
        "\n",
        "# Note: in the result, the line breaks are inserted at the same position as in the code."
      ]
    },
    {
      "cell_type": "markdown",
      "metadata": {},
      "source": [
        "### Strings & Arrays"
      ]
    },
    {
      "cell_type": "code",
      "execution_count": null,
      "metadata": {
        "colab": {
          "base_uri": "https://localhost:8080/"
        },
        "id": "a5wTEaYY7_Wh",
        "outputId": "042a60d2-b620-4559-decf-bcd808256265"
      },
      "outputs": [
        {
          "name": "stdout",
          "output_type": "stream",
          "text": [
            "e\n",
            "13\n"
          ]
        }
      ],
      "source": [
        "# Strings are Arrays\n",
        "# Like many other popular programming languages, strings in Python are arrays of bytes representing unicode characters.\n",
        "# However, Python does not have a character data type, a single character is simply a string with a length of 1.\n",
        "# Square brackets can be used to access elements of the string.\n",
        "\n",
        "a = \"Hello, World!\"\n",
        "print(a[1])\n",
        "\n",
        "# String Length\n",
        "# To get the length of a string, use the len() function.\n",
        "\n",
        "a = \"Hello, World!\"\n",
        "print(len(a))"
      ]
    },
    {
      "cell_type": "code",
      "execution_count": null,
      "metadata": {
        "colab": {
          "base_uri": "https://localhost:8080/"
        },
        "id": "zkAnebsFCGsb",
        "outputId": "3f1e0f90-b791-4616-dede-7bae7222fa53"
      },
      "outputs": [
        {
          "name": "stdout",
          "output_type": "stream",
          "text": [
            "No, 'expensive' is NOT present.\n"
          ]
        }
      ],
      "source": [
        "# Check String\n",
        "# To check if a certain phrase or character is present in a string, we can use the keyword in.\n",
        "\n",
        "# txt = \"The best things in life are free!\"\n",
        "# if \"free\" in txt:\n",
        "#   print(\"Yes, 'free' is present.\")\n",
        "\n",
        "# Check if NOT\n",
        "# To check if a certain phrase or character is NOT present in a string, we can use the keyword not in.\n",
        "\n",
        "txt = \"The best things in life are free!\"\n",
        "if \"expensive\" not in txt:\n",
        "  print(\"No, 'expensive' is NOT present.\")"
      ]
    },
    {
      "cell_type": "markdown",
      "metadata": {
        "id": "636AkUjsD7fk"
      },
      "source": [
        "### Slicing Strings\n",
        "\n",
        "You can return a range of characters by using the slice syntax.\n",
        "Specify the start index and the end index, separated by a colon, to return a part of the string.\n"
      ]
    },
    {
      "cell_type": "code",
      "execution_count": null,
      "metadata": {
        "colab": {
          "base_uri": "https://localhost:8080/"
        },
        "id": "IsdYZ1HeD34j",
        "outputId": "ddad6f56-05c1-4f74-fe1a-41100eedd9ee"
      },
      "outputs": [
        {
          "name": "stdout",
          "output_type": "stream",
          "text": [
            "llo\n"
          ]
        }
      ],
      "source": [
        "\n",
        "b = \"Hello, World!\"\n",
        "print(b[2:5])\n",
        "# Note: The first character has index 0.\n"
      ]
    },
    {
      "cell_type": "code",
      "execution_count": null,
      "metadata": {
        "colab": {
          "base_uri": "https://localhost:8080/"
        },
        "id": "FtRrqPMxGeyM",
        "outputId": "5d78ba13-c65c-4ec0-9090-95209e1169b6"
      },
      "outputs": [
        {
          "name": "stdout",
          "output_type": "stream",
          "text": [
            "Hello\n"
          ]
        }
      ],
      "source": [
        "# Slice From the Start\n",
        "# By leaving out the start index, the range will start at the first character:\n",
        "\n",
        "# Example\n",
        "# Get the characters from the start to position 5 (not included):\n",
        "\n",
        "b = \"Hello, World!\"\n",
        "print(b[:5])"
      ]
    },
    {
      "cell_type": "code",
      "execution_count": null,
      "metadata": {
        "colab": {
          "base_uri": "https://localhost:8080/"
        },
        "id": "a2OVXVifG2us",
        "outputId": "dc19b572-52f6-4fa3-e0d9-52242396281d"
      },
      "outputs": [
        {
          "name": "stdout",
          "output_type": "stream",
          "text": [
            "llo, World!\n"
          ]
        }
      ],
      "source": [
        "# Slice To the End\n",
        "# By leaving out the end index, the range will go to the end:\n",
        "\n",
        "# Example\n",
        "# Get the characters from position 2, and all the way to the end:\n",
        "\n",
        "b = \"Hello, World!\"\n",
        "print(b[2:])"
      ]
    },
    {
      "cell_type": "code",
      "execution_count": null,
      "metadata": {
        "colab": {
          "base_uri": "https://localhost:8080/"
        },
        "id": "zH7I3Za9Ht0m",
        "outputId": "8a0709c9-4ce1-4913-dde9-945fbc30cbc8"
      },
      "outputs": [
        {
          "name": "stdout",
          "output_type": "stream",
          "text": [
            "orl\n"
          ]
        }
      ],
      "source": [
        "# Negative Indexing\n",
        "# Use negative indexes to start the slice from the end of the string:\n",
        "# Example\n",
        "# Get the characters:\n",
        "\n",
        "# From: \"o\" in \"World!\" (position -5)\n",
        "\n",
        "# To, but not included: \"d\" in \"World!\" (position -2):\n",
        "\n",
        "b = \"Hello, World!\"\n",
        "print(b[-5:-2])"
      ]
    },
    {
      "cell_type": "markdown",
      "metadata": {
        "id": "dA8wpqrxIBW9"
      },
      "source": [
        "### Modify Strings"
      ]
    },
    {
      "cell_type": "code",
      "execution_count": null,
      "metadata": {
        "colab": {
          "base_uri": "https://localhost:8080/"
        },
        "id": "2roWfwIOI3_H",
        "outputId": "241359e0-cd74-49c1-8356-4c420f235fb8"
      },
      "outputs": [
        {
          "name": "stdout",
          "output_type": "stream",
          "text": [
            "HELLO, WORLD!\n",
            "hello, world!\n"
          ]
        }
      ],
      "source": [
        "#  Python has a set of built-in methods that you can use on strings.\n",
        "# The upper() method returns the string in upper case:\n",
        "\n",
        "a = \"Hello, World!\"\n",
        "print(a.upper())\n",
        "\n",
        "\n",
        "# Lower Case\n",
        "# Example\n",
        "# The lower() method returns the string in lower case:\n",
        "\n",
        "a = \"Hello, World!\"\n",
        "print(a.lower())"
      ]
    },
    {
      "cell_type": "code",
      "execution_count": null,
      "metadata": {
        "colab": {
          "base_uri": "https://localhost:8080/"
        },
        "id": "A2egE7d_I39-",
        "outputId": "b7df1356-38a0-4d78-c0b3-a1102c1528ec"
      },
      "outputs": [
        {
          "name": "stdout",
          "output_type": "stream",
          "text": [
            "Hello, World!\n"
          ]
        }
      ],
      "source": [
        "# Remove Whitespace\n",
        "# Whitespace is the space before and/or after the actual text, and very often you want to remove this space.\n",
        "\n",
        "# Example\n",
        "# The strip() method removes any whitespace from the beginning or the end:\n",
        "\n",
        "a = \"  Hello, World!   \"\n",
        "print(a.strip()) # returns \"Hello, World!\""
      ]
    },
    {
      "cell_type": "code",
      "execution_count": null,
      "metadata": {
        "colab": {
          "base_uri": "https://localhost:8080/"
        },
        "id": "vTDBpfRvJPRn",
        "outputId": "f40f08b0-4ec0-47a5-8c69-c44453bd85de"
      },
      "outputs": [
        {
          "name": "stdout",
          "output_type": "stream",
          "text": [
            "Jello, World!\n"
          ]
        }
      ],
      "source": [
        "# Replace String\n",
        "# Example\n",
        "# The replace() method replaces a string with another string:\n",
        "\n",
        "a = \"Hello, World!\"\n",
        "print(a.replace(\"H\", \"J\"))"
      ]
    },
    {
      "cell_type": "code",
      "execution_count": null,
      "metadata": {
        "colab": {
          "base_uri": "https://localhost:8080/"
        },
        "id": "hGZbZMpQJWvG",
        "outputId": "256bfe16-4bcf-4d96-adc3-43119ef51ab8"
      },
      "outputs": [
        {
          "name": "stdout",
          "output_type": "stream",
          "text": [
            "['Hello', 'World!']\n"
          ]
        }
      ],
      "source": [
        "# Split String\n",
        "# The split() method returns a list where the text between the specified separator becomes the list items.\n",
        "\n",
        "# Example\n",
        "# The split() method splits the string into substrings if it finds instances of the separator:\n",
        "\n",
        "a = \"Hello-World!\"\n",
        "print(a.split(\"-\")) # returns ['Hello', ' World!']"
      ]
    },
    {
      "cell_type": "markdown",
      "metadata": {
        "id": "GQ6yxbCWMq8n"
      },
      "source": [
        "### String Concatenation"
      ]
    },
    {
      "cell_type": "code",
      "execution_count": null,
      "metadata": {
        "colab": {
          "base_uri": "https://localhost:8080/"
        },
        "id": "TV4LzwxuMmLQ",
        "outputId": "9dd01cf1-8cd2-4f36-a2b8-e5c318b977fe"
      },
      "outputs": [
        {
          "name": "stdout",
          "output_type": "stream",
          "text": [
            "HelloWorld\n",
            "Hello World\n"
          ]
        }
      ],
      "source": [
        "# To concatenate, or combine, two strings you can use the + operator.\n",
        "# Merge variable a with variable b into variable c:\n",
        "\n",
        "a = \"Hello\"\n",
        "b = \"World\"\n",
        "c = a + b\n",
        "print(c)\n",
        "\n",
        "# To add a space between them, add a \" \":\n",
        "\n",
        "a = \"Hello\"\n",
        "b = \"World\"\n",
        "c = a + \" \" + b\n",
        "print(c)\n"
      ]
    },
    {
      "cell_type": "markdown",
      "metadata": {
        "id": "xtdjBnskUcbx"
      },
      "source": [
        "### Format - Strings"
      ]
    },
    {
      "cell_type": "code",
      "execution_count": null,
      "metadata": {
        "colab": {
          "base_uri": "https://localhost:8080/"
        },
        "id": "u2lYxMLBUk3Q",
        "outputId": "a89b3bbf-6db8-4271-a590-2eb5c33ca540"
      },
      "outputs": [
        {
          "name": "stdout",
          "output_type": "stream",
          "text": [
            "My name is John, I am 36\n"
          ]
        }
      ],
      "source": [
        "#  As we learned in the Python Variables chapter, we cannot combine strings and numbers like this:\n",
        "# Example\n",
        "# Code below gives an error\n",
        "# age = 36\n",
        "# txt = \"My name is John, I am \" + age\n",
        "# print(txt)\n",
        "\n",
        "# But we can combine strings and numbers by using f-strings or the format() method!\n",
        "\n",
        "# F-Strings\n",
        "# F-String was introduced in Python 3.6, and is now the preferred way of formatting strings.\n",
        "# To specify a string as an f-string, simply put an f in front of the string literal, and add curly brackets {} as placeholders for variables and other operations.\n",
        "\n",
        "# Example\n",
        "# Create an f-string:\n",
        "\n",
        "age = 36\n",
        "txt = f\"My name is John, I am {age}\"\n",
        "print(txt)"
      ]
    },
    {
      "cell_type": "code",
      "execution_count": null,
      "metadata": {
        "colab": {
          "base_uri": "https://localhost:8080/"
        },
        "id": "eeweyZROVDzo",
        "outputId": "3c210122-0954-4a64-8aa5-a7d5f5ebe5fb"
      },
      "outputs": [
        {
          "name": "stdout",
          "output_type": "stream",
          "text": [
            "The price is 59 dollars\n"
          ]
        }
      ],
      "source": [
        "\n",
        "# Placeholders and Modifiers\n",
        "# A placeholder can contain variables, operations, functions, and modifiers to format the value.\n",
        "\n",
        "# Example\n",
        "# Add a placeholder for the price variable:\n",
        "\n",
        "price = 59\n",
        "txt = f\"The price is {price} dollars\"\n",
        "print(txt)\n"
      ]
    },
    {
      "cell_type": "code",
      "execution_count": null,
      "metadata": {
        "colab": {
          "base_uri": "https://localhost:8080/"
        },
        "id": "fKg1ZxDJVDyZ",
        "outputId": "3f241bb0-0125-4e5f-d661-af6f1a5b7c7c"
      },
      "outputs": [
        {
          "name": "stdout",
          "output_type": "stream",
          "text": [
            "Enter a price:59.3423423\n",
            "The price is 59.34 dollars\n"
          ]
        }
      ],
      "source": [
        "# A placeholder can include a modifier to format the value.\n",
        "# A modifier is included by adding a colon : followed by a legal formatting type, like .2f which means fixed point number with 2 decimals:\n",
        "\n",
        "# Example\n",
        "# Display the price with 2 decimals:\n",
        "\n",
        "price = float(input(\"Enter a price:\"))\n",
        "txt = f\"The price is {price:.2f} dollars\"\n",
        "print(txt)\n",
        "\n",
        "\n",
        "# A placeholder can contain Python code, like math operations:\n",
        "# Example\n",
        "# Perform a math operation in the placeholder, and return the result:\n",
        "\n",
        "# txt = f\"The price is {20 * 59} dollars\"\n",
        "# print(txt)"
      ]
    },
    {
      "cell_type": "code",
      "execution_count": null,
      "metadata": {
        "colab": {
          "base_uri": "https://localhost:8080/"
        },
        "id": "uqY6ZvdjMfRw",
        "outputId": "c8bd3f35-545d-402b-dfef-18a71a052a2c"
      },
      "outputs": [
        {
          "name": "stdout",
          "output_type": "stream",
          "text": [
            "Hello world!\n"
          ]
        }
      ],
      "source": [
        "# Escape Character\n",
        "# To insert characters that are illegal in a string, use an escape character.\n",
        "\n",
        "# An escape character is a backslash \\ followed by the character you want to insert.\n",
        "\n",
        "# An example of an illegal character is a double quote inside a string that is surrounded by double quotes:\n",
        "# \\\"\n",
        "# txt = \"We are the so-called \\\"Vikings\\\" from the north.\"\n",
        "# print(txt)\n",
        "# \\'\n",
        "# txt = 'It\\'s alright.'\n",
        "# print(txt)\n",
        "# \\\\\n",
        "# txt = \"This will insert one \\\\ (backslash).\"\n",
        "# print(txt)\n",
        "# # \\n\n",
        "txt = \"hello world!\"\n",
        "print(txt.capitalize())\n"
      ]
    },
    {
      "cell_type": "markdown",
      "metadata": {
        "id": "A9RXGjunWYSS"
      },
      "source": [
        "![Str1.PNG](data:image/png;base64,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)"
      ]
    },
    {
      "cell_type": "markdown",
      "metadata": {
        "id": "YfGz8YHZXwVi"
      },
      "source": [
        "![str2.PNG](data:image/png;base64,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)"
      ]
    },
    {
      "cell_type": "markdown",
      "metadata": {
        "id": "DRAaDP1YXyiU"
      },
      "source": [
        "![str3.PNG](data:image/png;base64,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)"
      ]
    },
    {
      "cell_type": "markdown",
      "metadata": {
        "id": "q6bUvmp5X1OL"
      },
      "source": [
        "![str4.PNG](data:image/png;base64,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)"
      ]
    },
    {
      "cell_type": "markdown",
      "metadata": {
        "id": "sChAbwVMYcEe"
      },
      "source": [
        "## Practise Question \n",
        "----\n",
        "Write a Python program that prints the numbers from 1 to n.\n",
        "* But for multiples of three, print \"fizz\" instead of the number.\n",
        "* For multiples of five, print \"buzz\".\n",
        "* For numbers which are multiples of both three and five, print \"fizzbuzz\"."
      ]
    },
    {
      "cell_type": "code",
      "execution_count": null,
      "metadata": {
        "colab": {
          "base_uri": "https://localhost:8080/"
        },
        "id": "1lvNoeXaX3KD",
        "outputId": "96b35588-358e-4200-adf2-3c86d8136571"
      },
      "outputs": [
        {
          "name": "stdout",
          "output_type": "stream",
          "text": [
            "[1, 2, 'fizz', 4, 'buzz', 'fizz', 7, 8, 'fizz', 'buzz', 11, 'fizz', 13, 14, 'fizzbuzz', 16, 17, 'fizz', 19, 'buzz', 'fizz', 22, 23, 'fizz', 'buzz', 26, 'fizz', 28, 29, 'fizzbuzz', 31, 32, 'fizz', 34, 'buzz', 'fizz', 37, 38, 'fizz', 'buzz', 41, 'fizz', 43, 44, 'fizzbuzz', 46, 47, 'fizz', 49, 'buzz']\n"
          ]
        }
      ],
      "source": [
        "def fizz_buzz(n):\n",
        "    result = []\n",
        "    for i in range(1, n + 1):\n",
        "        if i % 3 == 0 and i % 5 == 0:\n",
        "            result.append(\"fizzbuzz\")  # multiple of 3 and 5\n",
        "        elif i % 3 == 0:\n",
        "            result.append(\"fizz\")      # multiple of 3\n",
        "        elif i % 5 == 0:\n",
        "            result.append(\"buzz\")      # multiple of 5\n",
        "        else:\n",
        "            result.append(i)           # neither\n",
        "    return result\n",
        "\n",
        "# Example usage\n",
        "print(fizz_buzz(50))"
      ]
    },
    {
      "cell_type": "markdown",
      "metadata": {
        "id": "l8uBHaczahLx"
      },
      "source": [
        "Given a string, return True if the string is a palindrome, or False if it is not.\n",
        "\n",
        "Palindromes are strings that read the same forward and backward.\n",
        "Include spaces and punctuation in the comparison."
      ]
    },
    {
      "cell_type": "code",
      "execution_count": null,
      "metadata": {
        "id": "vDy1Dc9QanbF"
      },
      "outputs": [],
      "source": [
        "# Solution 1: Using Python slicing\n",
        "def is_palindrome(s):\n",
        "    return s == s[::-1]  # Compare string with its reverse\n",
        "\n",
        "print(is_palindrome(\"abba\"))  # True"
      ]
    },
    {
      "cell_type": "code",
      "execution_count": null,
      "metadata": {
        "id": "CXUsoQclcAwz"
      },
      "outputs": [],
      "source": [
        "# Solution 2: Using a for loop\n",
        "def is_palindrome(s):\n",
        "    reverse_string = \"\"\n",
        "    for i in range(len(s) - 1, -1, -1):  # Go from last index to 0\n",
        "        reverse_string += s[i]          # Build reversed string\n",
        "    return s == reverse_string          # Compare original with reversed"
      ]
    }
  ],
  "metadata": {
    "colab": {
      "provenance": []
    },
    "kernelspec": {
      "display_name": "Python 3",
      "name": "python3"
    },
    "language_info": {
      "name": "python"
    }
  },
  "nbformat": 4,
  "nbformat_minor": 0
}
