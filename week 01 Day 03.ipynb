{
  "cells": [
    {
      "cell_type": "markdown",
      "metadata": {},
      "source": [
        "# Day 03 Python For Everyone\n",
        "---\n",
        "##  Topics : Input Function, Data Types & Printing Like a Pro\n",
        "\n",
        "[Youtube Playlist](https://www.youtube.com/playlist?list=PLAIRSMdFhzoKg8KZ5zIbH64wtV8bhshfT)\n",
        "\n",
        "For previous check out \n",
        "* [Week 01 Day 01](./Week%2001%20Day%2001/w1-D1-notebook.ipynb)\n",
        "* [Week 01 Day 02](week%2001%20Day%2002.ipynb) "
      ]
    },
    {
      "cell_type": "markdown",
      "metadata": {},
      "source": [
        "### **Topics Covered** \n",
        "* [Getting Data Types](#getting-the-data-type)\n",
        "* [Setting Specific Data Types](#setting-the-specific-data-type)\n",
        "* [Numeric Type in Python](#python-numbers)\n",
        "* [Type Conversion](#type-conversion)\n",
        "* [Input in Python](#input-in-python)\n",
        "* [Printing like pro](#printing-like-a-pro)\n",
        "* [Practise Exercise](#practice-exercises)\n",
        "\n",
        "\n"
      ]
    },
    {
      "cell_type": "markdown",
      "metadata": {
        "id": "Vqtzu1FTGHrA"
      },
      "source": [
        "### **Getting the Data Type**\n",
        "You can get the data type of any object by using the type() function:"
      ]
    },
    {
      "cell_type": "code",
      "execution_count": null,
      "metadata": {
        "colab": {
          "base_uri": "https://localhost:8080/"
        },
        "id": "gDjXNmF6GPk5",
        "outputId": "5f8583a2-27f1-47e7-f6e5-e306b10adf8a"
      },
      "outputs": [
        {
          "name": "stdout",
          "output_type": "stream",
          "text": [
            "<class 'int'>\n"
          ]
        }
      ],
      "source": [
        "x = 5\n",
        "print(type(x))"
      ]
    },
    {
      "cell_type": "markdown",
      "metadata": {
        "id": "kyHL83QwGtSY"
      },
      "source": [
        "### **Setting the Specific Data Type**\n",
        "If you want to specify the data type, you can use the following constructor functions:"
      ]
    },
    {
      "cell_type": "code",
      "execution_count": null,
      "metadata": {
        "colab": {
          "base_uri": "https://localhost:8080/"
        },
        "id": "7QapJbSOG5JQ",
        "outputId": "4e491cc6-a683-471e-abb2-527c9d281b52"
      },
      "outputs": [
        {
          "name": "stdout",
          "output_type": "stream",
          "text": [
            "<class 'str'> Hello World\n",
            "<class 'int'> 20\n",
            "<class 'float'> 20.5\n",
            "<class 'bool'> False\n"
          ]
        }
      ],
      "source": [
        "var1 = str(\"Hello World\")\t#str\n",
        "var2 = int(20)\t            #int\n",
        "var3 = float(20.5)         #float\n",
        "var4 = bool(0)            #bool\n",
        "print(type(var1),var1)\n",
        "print(type(var2),var2)\n",
        "print(type(var3),var3)\n",
        "print(type(var4),var4)"
      ]
    },
    {
      "cell_type": "markdown",
      "metadata": {
        "id": "U4-HJe_eKbbY"
      },
      "source": [
        "### **Python Numbers**\n",
        "There are three numeric types in Python:\n",
        "\n",
        "*   Int\n",
        "*   Float\n",
        "*   Complex\n",
        "\n",
        "\n",
        "Variables of numeric types are created when you assign a value to them:"
      ]
    },
    {
      "cell_type": "markdown",
      "metadata": {
        "id": "0_WE_xMsLWdm"
      },
      "source": [
        "####  **Int**\n",
        "Int, or integer, is a whole number, positive or negative, without decimals, of unlimited length."
      ]
    },
    {
      "cell_type": "code",
      "execution_count": null,
      "metadata": {
        "colab": {
          "base_uri": "https://localhost:8080/"
        },
        "id": "EGONBHpdLlAO",
        "outputId": "5742e487-d162-4e08-a2f6-2460ab065d34"
      },
      "outputs": [
        {
          "name": "stdout",
          "output_type": "stream",
          "text": [
            "<class 'int'> 1\n",
            "<class 'int'>\n",
            "<class 'int'>\n"
          ]
        }
      ],
      "source": [
        "x = 1\n",
        "y = 35656222554887711\n",
        "z = -3255522\n",
        "\n",
        "print(type(x),x)\n",
        "print(type(y))\n",
        "print(type(z))"
      ]
    },
    {
      "cell_type": "markdown",
      "metadata": {
        "id": "DqFrkqaxPnNe"
      },
      "source": [
        "#### **Float**\n",
        "Float, or \"floating point number\" is a number, positive or negative, containing one or more decimals."
      ]
    },
    {
      "cell_type": "code",
      "execution_count": null,
      "metadata": {
        "colab": {
          "base_uri": "https://localhost:8080/"
        },
        "id": "Ab10jObNPu39",
        "outputId": "935e15ed-0f76-4c16-fbc9-a0ee7d2d4d8b"
      },
      "outputs": [
        {
          "name": "stdout",
          "output_type": "stream",
          "text": [
            "<class 'float'>\n",
            "<class 'float'>\n",
            "<class 'float'> -35.59\n"
          ]
        }
      ],
      "source": [
        "x = 1.10\n",
        "y = 1.0\n",
        "z = -35.59\n",
        "\n",
        "print(type(x))\n",
        "print(type(y))\n",
        "print(type(z),z)"
      ]
    },
    {
      "cell_type": "markdown",
      "metadata": {
        "id": "7DYdPFiDQVSl"
      },
      "source": [
        "Float can also be scientific numbers with an \"e\" to indicate the power of 10."
      ]
    },
    {
      "cell_type": "code",
      "execution_count": null,
      "metadata": {
        "colab": {
          "base_uri": "https://localhost:8080/"
        },
        "id": "tOuAkUdYQWD1",
        "outputId": "ae2e6eb8-f8dc-4df8-cea7-0d683542ce3e"
      },
      "outputs": [
        {
          "name": "stdout",
          "output_type": "stream",
          "text": [
            "<class 'float'> 35000.0\n",
            "<class 'float'> 120000.0\n",
            "<class 'float'> -8.77e+101\n"
          ]
        }
      ],
      "source": [
        "x = 35e3\n",
        "y = 12E4\n",
        "z = -87.7e100\n",
        "\n",
        "print(type(x),x)\n",
        "print(type(y),y)\n",
        "print(type(z),z)"
      ]
    },
    {
      "cell_type": "markdown",
      "metadata": {
        "id": "uffmt2TlQmr8"
      },
      "source": [
        "#### **Complex**\n",
        "Complex numbers are written with a \"j\" as the imaginary part:"
      ]
    },
    {
      "cell_type": "code",
      "execution_count": null,
      "metadata": {
        "id": "LGMB45fqQ3nl"
      },
      "outputs": [],
      "source": [
        "x = 3+5j\n",
        "print(type(x),x)"
      ]
    },
    {
      "cell_type": "markdown",
      "metadata": {
        "id": "VIPWYRI3RJAV"
      },
      "source": [
        "###  **Type Conversion**\n",
        "You can convert from one type to another with the int(), float(), and complex() methods:\n",
        "\n",
        "**Note:** You cannot convert complex numbers into another number type."
      ]
    },
    {
      "cell_type": "code",
      "execution_count": null,
      "metadata": {
        "id": "U4mo63QnRXEE"
      },
      "outputs": [],
      "source": [
        "x = 1    # int\n",
        "y = 2.8  # float\n",
        "z = 1j   # complex\n",
        "\n",
        "#convert from int to float:\n",
        "a = float(x)\n",
        "\n",
        "#convert from float to int:\n",
        "b = int(y)\n",
        "\n",
        "# #convert from int to complex:\n",
        "c = complex(x)\n",
        "\n",
        "print(a)\n",
        "print(b)\n",
        "print(c)\n",
        "\n",
        "print(type(a))\n",
        "print(type(b))\n",
        "print(type(c))"
      ]
    },
    {
      "cell_type": "markdown",
      "metadata": {
        "id": "nDL8DtJJGr9f"
      },
      "source": [
        "###  **Input** in Python\n",
        "* input() Function\n",
        "* Used to take user input as a string."
      ]
    },
    {
      "cell_type": "code",
      "execution_count": null,
      "metadata": {
        "colab": {
          "base_uri": "https://localhost:8080/"
        },
        "id": "765ZDcEBG0Iu",
        "outputId": "68ae61b7-13ad-437b-dddd-35e706c03673"
      },
      "outputs": [
        {
          "name": "stdout",
          "output_type": "stream",
          "text": [
            "Enter a number: 3.4\n",
            "Hello,  <class 'str'> 3.4\n"
          ]
        }
      ],
      "source": [
        "number = input(\"Enter a number: \")\n",
        "print(\"Hello, \",type(number),number)"
      ]
    },
    {
      "cell_type": "markdown",
      "metadata": {
        "id": "CTWxeb8sHEE3"
      },
      "source": [
        "Convert Input to Other Types\n"
      ]
    },
    {
      "cell_type": "code",
      "execution_count": null,
      "metadata": {
        "id": "lCtjD_DYHJKN"
      },
      "outputs": [],
      "source": [
        "age=int(input(\"Enter your Age:\"))\n",
        "print(\"You are\", type(age))\n"
      ]
    },
    {
      "cell_type": "markdown",
      "metadata": {
        "id": "hIaEhO0GHcn3"
      },
      "source": [
        " Output in Python"
      ]
    },
    {
      "cell_type": "code",
      "execution_count": null,
      "metadata": {
        "colab": {
          "base_uri": "https://localhost:8080/"
        },
        "id": "3i3dvv9-Hjkd",
        "outputId": "47b79d79-8ea0-478d-951e-367a55d0f0fe"
      },
      "outputs": [
        {
          "name": "stdout",
          "output_type": "stream",
          "text": [
            "Hello, World!\n"
          ]
        }
      ],
      "source": [
        "print(\"Hello, World!\")"
      ]
    },
    {
      "cell_type": "markdown",
      "metadata": {},
      "source": [
        "###  Printing like a pro \n",
        "* with multiple agruments\n",
        "* using f-string\n",
        "* with .format()\n",
        "* padding with zeros\n",
        "* Thousand Seperator\n",
        "  "
      ]
    },
    {
      "cell_type": "markdown",
      "metadata": {
        "id": "4tKv704zHndu"
      },
      "source": [
        "Print with Multiple Arguments\n"
      ]
    },
    {
      "cell_type": "code",
      "execution_count": null,
      "metadata": {
        "colab": {
          "base_uri": "https://localhost:8080/"
        },
        "id": "23EYiIGjHrR1",
        "outputId": "d61c413a-eb72-407f-f554-bc1d154c3447"
      },
      "outputs": [
        {
          "name": "stdout",
          "output_type": "stream",
          "text": [
            "Sum of 5 and 10 is 15\n"
          ]
        }
      ],
      "source": [
        "x = 5\n",
        "y = 10\n",
        "print(\"Sum of \", x, \"and\", y, \"is\", x + y)"
      ]
    },
    {
      "cell_type": "markdown",
      "metadata": {
        "id": "IuKBvzKZH-w9"
      },
      "source": [
        "Using f-strings (Python 3.6+)"
      ]
    },
    {
      "cell_type": "code",
      "execution_count": null,
      "metadata": {
        "colab": {
          "base_uri": "https://localhost:8080/"
        },
        "id": "FpRtzZcEIAJG",
        "outputId": "0df7ea94-fdf4-49e1-83b8-d6c09088bec3"
      },
      "outputs": [
        {
          "name": "stdout",
          "output_type": "stream",
          "text": [
            "Alice scored 95 marks.\n"
          ]
        }
      ],
      "source": [
        "name = \"Alice\"\n",
        "score = 95\n",
        "print(f\"{name} scored {score} marks.\")"
      ]
    },
    {
      "cell_type": "markdown",
      "metadata": {
        "id": "Gzh-7I-xJNjl"
      },
      "source": [
        "Format Output with .format()"
      ]
    },
    {
      "cell_type": "code",
      "execution_count": null,
      "metadata": {
        "colab": {
          "base_uri": "https://localhost:8080/"
        },
        "id": "3_O-vYYcJSFN",
        "outputId": "76831b7a-1f48-42f1-e7b5-b0b7d6c797ce"
      },
      "outputs": [
        {
          "name": "stdout",
          "output_type": "stream",
          "text": [
            "Enter value of pi: 343\n",
            "The value of pi is approximately 343\n"
          ]
        }
      ],
      "source": [
        "pi=int(input(\"Enter value of pi: \"))\n",
        "print(\"The value of pi is approximately {}\".format(pi))"
      ]
    },
    {
      "cell_type": "markdown",
      "metadata": {
        "id": "5S_8DxClKj_3"
      },
      "source": [
        "Padding with zeros"
      ]
    },
    {
      "cell_type": "code",
      "execution_count": null,
      "metadata": {
        "colab": {
          "base_uri": "https://localhost:8080/"
        },
        "id": "rirI5kIoKK81",
        "outputId": "b070819d-327b-404d-cb4f-876ceb8dac2c"
      },
      "outputs": [
        {
          "name": "stdout",
          "output_type": "stream",
          "text": [
            "Number: 007\n"
          ]
        }
      ],
      "source": [
        "num = 7\n",
        "print(\"Number: {:03}\".format(num))  # Pads with zeros to make it 3 digits"
      ]
    },
    {
      "cell_type": "markdown",
      "metadata": {
        "id": "6CsAdaULKdmk"
      },
      "source": [
        "Thousands separator"
      ]
    },
    {
      "cell_type": "code",
      "execution_count": null,
      "metadata": {
        "colab": {
          "base_uri": "https://localhost:8080/"
        },
        "id": "sxxpKXPMKXbk",
        "outputId": "bbe76f49-3239-4e67-9580-4910af8891c3"
      },
      "outputs": [
        {
          "name": "stdout",
          "output_type": "stream",
          "text": [
            "Formatted: 1,000,000\n"
          ]
        }
      ],
      "source": [
        "big_number = 1000000\n",
        "print(\"Formatted: {:,}\".format(big_number))"
      ]
    },
    {
      "cell_type": "markdown",
      "metadata": {
        "id": "O81cR5ulgkX-"
      },
      "source": [
        "# **Practice Exercises**"
      ]
    },
    {
      "cell_type": "markdown",
      "metadata": {
        "id": "Aiq7Ba-Ubjyf"
      },
      "source": [
        "**Type Conversion / Casting**\n",
        "\n",
        "1. Convert the string \"123\" into an integer and add 10 to it.\n",
        "\n",
        "2. Convert a float number 12.75 into an integer and print the result.\n",
        "\n",
        "3. Take a float number as input from the user and convert it to a string, then print its type.\n",
        "\n",
        "4. Convert boolean values True and False into integers and print the results."
      ]
    },
    {
      "cell_type": "code",
      "execution_count": null,
      "metadata": {
        "colab": {
          "base_uri": "https://localhost:8080/"
        },
        "id": "0j6p5YaI2T7C",
        "outputId": "2e410d03-60f1-4830-c9e8-62dbf098b179"
      },
      "outputs": [
        {
          "name": "stdout",
          "output_type": "stream",
          "text": [
            "133\n"
          ]
        }
      ],
      "source": [
        "var1=\"123\"\n",
        "var2=int(var1)\n",
        "print(var2+10)"
      ]
    },
    {
      "cell_type": "markdown",
      "metadata": {
        "id": "xNtruLBxb8pH"
      },
      "source": [
        "**Input / Output**\n",
        "1. Ask the user to enter their name and age, and print a message like:\n",
        "\"Hello John, you are 25 years old.\"\n",
        "\n",
        "2. Write a program that asks the user for two numbers and prints:\n",
        "\n",
        "* Their sum\n",
        "\n",
        "* Their difference\n",
        "\n",
        "* Their product\n",
        "\n",
        "3. Format the output of π to 3 decimal places like this:\n",
        "\"The value of pi is approximately 3.142\""
      ]
    }
  ],
  "metadata": {
    "colab": {
      "provenance": []
    },
    "kernelspec": {
      "display_name": "Python 3",
      "name": "python3"
    },
    "language_info": {
      "name": "python"
    }
  },
  "nbformat": 4,
  "nbformat_minor": 0
}
