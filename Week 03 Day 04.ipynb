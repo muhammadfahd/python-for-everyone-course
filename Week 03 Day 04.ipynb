{
  "cells": [
    {
      "cell_type": "markdown",
      "metadata": {},
      "source": [
        "# Week 03 Day 03 : Python For Everyone\n",
        "\n",
        "### Topics : Lambda Function , Sorting & Search \n",
        "---\n",
        "* [Youtube Playlist](https://www.youtube.com/playlist?list=PLAIRSMdFhzoKg8KZ5zIbH64wtV8bhshfT) \n",
        "* [GitHub Repo](https://github.com/muhammadfahd/python-for-everyone-course) \n",
        "* [Read me ](README.md) \n",
        "\n",
        "For previous check out\n",
        "* [Week 03 Day 01](./Week%2003%20Day%2001.ipynb)\n",
        "* [Week 03 Day 02](./Week%2003%20Day%2002.ipynb)\n",
        "* [Week 03 Day 03](./Week%2003%20Day%2003.ipynb)\n",
        "\n",
        "Join Icodeguru For live Classes \n",
        "* [Join Now](https://icode.guru/join/)\n",
        "---"
      ]
    },
    {
      "cell_type": "markdown",
      "metadata": {
        "id": "LmnTWepT_DVm"
      },
      "source": [
        "## **Membership Testing, Sorting & Searching in Python**\n",
        "**✅ Concept:**\n",
        "Membership testing is used to check if a value exists in a collection (like lists, sets, tuples, dicts, or strings) using the in and not in operators.\n",
        "\n",
        "**🧪 Syntax:**\n",
        "value in collection\n",
        "value not in collection"
      ]
    },
    {
      "cell_type": "code",
      "execution_count": null,
      "metadata": {
        "colab": {
          "base_uri": "https://localhost:8080/"
        },
        "id": "rdGMBo0g_CEE",
        "outputId": "9f9bde4f-09b1-490b-be79-c55eb0d23dc3"
      },
      "outputs": [
        {
          "name": "stdout",
          "output_type": "stream",
          "text": [
            "False\n"
          ]
        }
      ],
      "source": [
        "# # List\n",
        "# fruits = ['apple', 'banana', 'cherry']\n",
        "# #print('apple' in fruits)     # True\n",
        "# print('mango' not in fruits) # True\n",
        "\n",
        " # String\n",
        "# text = \"hello world\"\n",
        "# print('t' in text)           # True\n",
        "\n",
        "# Set\n",
        "# num_set = {1, 2, 3}\n",
        "# print(3 in num_set)          # False\n",
        "\n",
        "# Dictionary: only checks keys\n",
        "student = {'name': 'Alice', 'age': 21, 'address':'ISB'}\n",
        "#print('name' in student)     # True\n",
        "#print('address' in student)\n",
        "print('Alice' in student)    # False"
      ]
    },
    {
      "cell_type": "markdown",
      "metadata": {
        "id": "vTKKI2dq_lij"
      },
      "source": [
        "⚠️ **Notes**:\n",
        "For **dictionaries**, in checks keys, not values.\n",
        "in is case-sensitive in strings and lists."
      ]
    },
    {
      "cell_type": "code",
      "execution_count": null,
      "metadata": {
        "colab": {
          "base_uri": "https://localhost:8080/"
        },
        "id": "M2mivE2T_uxp",
        "outputId": "3401d0a4-46bc-47dc-a71a-db8e8df670a9"
      },
      "outputs": [
        {
          "data": {
            "text/plain": [
              "False"
            ]
          },
          "execution_count": 6,
          "metadata": {},
          "output_type": "execute_result"
        }
      ],
      "source": [
        "d = {'a': 1, 'b': 2}\n",
        "# 'a' in d      # ✅ True (checks keys)\n",
        "1 in d        # ❌ False (1 is a value, not a key)\n"
      ]
    },
    {
      "cell_type": "code",
      "execution_count": null,
      "metadata": {
        "colab": {
          "base_uri": "https://localhost:8080/"
        },
        "id": "nnir_EtX_xr8",
        "outputId": "923f63fb-abea-44ed-dc15-c6e057e83b88"
      },
      "outputs": [
        {
          "data": {
            "text/plain": [
              "True"
            ]
          },
          "execution_count": 26,
          "metadata": {},
          "output_type": "execute_result"
        }
      ],
      "source": [
        "#'a' in 'Apple'    # ❌ False (case-sensitive)\n",
        "#'A' in 'Apple'    # ✅ True\n",
        "\n",
        "#'x' in ['X', 'y'] # ❌ False\n",
        "'X' in ['X', 'y'] # ✅ True\n"
      ]
    },
    {
      "cell_type": "markdown",
      "metadata": {
        "id": "viN-WA0t_hA-"
      },
      "source": [
        "## **Sorting in Python**\n",
        "\n",
        "Built-in sorted() vs .sort()\n",
        "\n",
        "* sorted(iterable): returns a new sorted list\n",
        "* .sort(): sorts the list in place"
      ]
    },
    {
      "cell_type": "code",
      "execution_count": null,
      "metadata": {
        "id": "w8q-28Kk_9Gx"
      },
      "outputs": [],
      "source": [
        "nums = [4, 2, 9, 1]\n",
        "print(sorted(nums))  # [1, 2, 4, 9]\n",
        "print(nums)          # [4, 2, 9, 1] (unchanged)\n",
        "\n",
        "nums.sort()\n",
        "print(nums)          # [1, 2, 4, 9] (modified)"
      ]
    },
    {
      "cell_type": "code",
      "execution_count": null,
      "metadata": {
        "colab": {
          "base_uri": "https://localhost:8080/"
        },
        "id": "BDc6i_5OzQut",
        "outputId": "e2053ecd-e240-43d0-fd14-a718ea67f349"
      },
      "outputs": [
        {
          "name": "stdout",
          "output_type": "stream",
          "text": [
            "[0, 2, 3, 5, 6, 7, 7, 8]\n",
            "return the list1: [7, 6, 3, 5, 0, 2, 7, 8]\n"
          ]
        }
      ],
      "source": [
        "list1=[7,6,3,5,0,2,7,8]\n",
        "print(sorted(list1))\n",
        "print(f\"return the list1: {list1}\")"
      ]
    },
    {
      "cell_type": "code",
      "execution_count": null,
      "metadata": {
        "colab": {
          "base_uri": "https://localhost:8080/"
        },
        "id": "BfZaP1j5zrgN",
        "outputId": "2cadd060-5c57-4b11-a6dd-4de17f37284c"
      },
      "outputs": [
        {
          "name": "stdout",
          "output_type": "stream",
          "text": [
            "return the list1: [0, 2, 3, 5, 6, 7, 7, 8, 15]\n"
          ]
        }
      ],
      "source": [
        "list1=[7,6,3,5,0,2,7,8]\n",
        "list1.append(15)\n",
        "list1.sort()\n",
        "print(f\"return the list1: {list1}\")\n"
      ]
    },
    {
      "cell_type": "markdown",
      "metadata": {
        "id": "h_kRkwJ7AFQ7"
      },
      "source": [
        "### **Descending Order:**"
      ]
    },
    {
      "cell_type": "code",
      "execution_count": null,
      "metadata": {
        "id": "vKipJ_yo_5Yr"
      },
      "outputs": [],
      "source": [
        "data = [5, 2, 8, 1]\n",
        "print(sorted(data, reverse=True))  # [8, 5, 2, 1]"
      ]
    },
    {
      "cell_type": "markdown",
      "metadata": {
        "id": "stGGY3_drmX-"
      },
      "source": [
        "## Lambda Function\n",
        "A lambda function is a small anonymous function.\n",
        "A lambda function can take any number of arguments, but can only have one expression.\n",
        "\n",
        "* lambda arguments : expression\n",
        "\n",
        "* **What is lambda** : It's a function that: Takes one input: x Returns the same thing: x\n",
        "* **inline function** : is a function that is defined and used directly within the expression — instead of defining it separately with def.\n",
        "In Python, lambda functions are the most common form of inline functions."
      ]
    },
    {
      "cell_type": "code",
      "execution_count": null,
      "metadata": {
        "id": "-mruWklCrt2E"
      },
      "outputs": [],
      "source": [
        "# Add 10 to argument a, and return the result:\n",
        "x = lambda a : a + 10\n",
        "print(x(5))"
      ]
    },
    {
      "cell_type": "code",
      "execution_count": null,
      "metadata": {
        "id": "YcXIsVIUlcAC"
      },
      "outputs": [],
      "source": [
        "# Multiply argument a with argument b and return the result:\n",
        "\n",
        "x = lambda a, b : a * b\n",
        "print(x(5, 6))"
      ]
    },
    {
      "cell_type": "code",
      "execution_count": null,
      "metadata": {
        "id": "r_SJOATWlidy"
      },
      "outputs": [],
      "source": [
        "# Summarize argument a, b, and c and return the result:\n",
        "\n",
        "x = lambda a, b, c : a + b + c\n",
        "print(x(5, 6, 2))"
      ]
    },
    {
      "cell_type": "markdown",
      "metadata": {
        "id": "0cWmeB2WuqY8"
      },
      "source": [
        "### **Why Use Lambda Functions?**\n",
        "The power of lambda is better shown when you use them as an anonymous function inside another function.\n",
        "* Say you have a function definition that takes one argument, and that argument will be multiplied with an unknown number:"
      ]
    },
    {
      "cell_type": "code",
      "execution_count": null,
      "metadata": {
        "id": "HaaJ8cb_up83"
      },
      "outputs": [],
      "source": [
        "# Use that function definition to make a function that always doubles the number you send in:\n",
        "def myfunc(n):\n",
        "  return lambda a : a * n\n",
        "\n",
        "mydoubler = myfunc(2)\n",
        "\n",
        "print(mydoubler(11))"
      ]
    },
    {
      "cell_type": "markdown",
      "metadata": {
        "id": "5oPlyTHCr27I"
      },
      "source": [
        "**Note:** Use lambda functions when an anonymous function is required for a short period of time."
      ]
    },
    {
      "cell_type": "code",
      "execution_count": null,
      "metadata": {
        "id": "Lmxs6fa2sHry"
      },
      "outputs": [],
      "source": [
        "words = ['apple', 'banana', 'grape']\n",
        "sorted_words = sorted(words, key=lambda x: x)  # Sorts alphabetically (default)\n",
        "print(sorted_words)\n"
      ]
    },
    {
      "cell_type": "code",
      "execution_count": null,
      "metadata": {
        "colab": {
          "base_uri": "https://localhost:8080/"
        },
        "id": "MbXjuj_ysUC9",
        "outputId": "f63815e7-1192-4a22-9921-06051ed92d8d"
      },
      "outputs": [
        {
          "name": "stdout",
          "output_type": "stream",
          "text": [
            "[1, 2, 3, 4]\n"
          ]
        }
      ],
      "source": [
        "numbers = [1, 2, 3, 4]\n",
        "new_numbers = list(map(lambda x: x, numbers))\n",
        "print(new_numbers)\n"
      ]
    },
    {
      "cell_type": "markdown",
      "metadata": {
        "id": "ylKGkYxjAJIl"
      },
      "source": [
        "The sorted() function returns a sorted list of the specified iterable object.\n",
        "\n",
        "You can specify ascending or descending order. Strings are sorted alphabetically, and numbers are sorted numerically.\n",
        "\n",
        "**Note:** You cannot sort a list that contains BOTH string values AND numeric values.\n",
        "**Syntax**\n",
        "sorted(iterable, key=key, reverse=reverse)"
      ]
    },
    {
      "cell_type": "markdown",
      "metadata": {
        "id": "TPnyz0Zln2i6"
      },
      "source": [
        "![sorted para.PNG](data:image/png;base64,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)"
      ]
    },
    {
      "cell_type": "markdown",
      "metadata": {},
      "source": [
        "## Sorting \n",
        "\n"
      ]
    },
    {
      "cell_type": "code",
      "execution_count": null,
      "metadata": {
        "colab": {
          "base_uri": "https://localhost:8080/"
        },
        "id": "fV25doJcn6hq",
        "outputId": "4cee801a-b26a-43e9-c62e-97254cb9fa81"
      },
      "outputs": [
        {
          "name": "stdout",
          "output_type": "stream",
          "text": [
            "[1, 2, 11]\n"
          ]
        }
      ],
      "source": [
        "# Sort numeric:\n",
        "\n",
        "a = (1, 11, 2)\n",
        "x = sorted(a)\n",
        "print(x)"
      ]
    },
    {
      "cell_type": "code",
      "execution_count": null,
      "metadata": {
        "colab": {
          "base_uri": "https://localhost:8080/"
        },
        "id": "f4Kf51L4AS7H",
        "outputId": "f3679b91-5449-4a3d-ec05-d2bcf39f4b92"
      },
      "outputs": [
        {
          "name": "stdout",
          "output_type": "stream",
          "text": [
            "['a', 'b', 'c', 'd', 'e', 'f', 'g', 'h']\n"
          ]
        }
      ],
      "source": [
        "# Sort ascending:\n",
        "\n",
        "a = (\"h\", \"b\", \"a\", \"c\", \"f\", \"d\", \"e\", \"g\")\n",
        "x = sorted(a)\n",
        "print(x)"
      ]
    },
    {
      "cell_type": "code",
      "execution_count": null,
      "metadata": {
        "colab": {
          "base_uri": "https://localhost:8080/"
        },
        "id": "PnKY7JDsoXxS",
        "outputId": "4b737082-6644-4c3c-a609-d4748f22690e"
      },
      "outputs": [
        {
          "name": "stdout",
          "output_type": "stream",
          "text": [
            "['h', 'g', 'f', 'e', 'd', 'c', 'b', 'a']\n"
          ]
        }
      ],
      "source": [
        "# Sort descending:\n",
        "\n",
        "a = (\"h\", \"b\", \"a\", \"c\", \"f\", \"d\", \"e\", \"g\")\n",
        "x = sorted(a, reverse=True)\n",
        "print(x)"
      ]
    },
    {
      "cell_type": "code",
      "execution_count": null,
      "metadata": {
        "colab": {
          "base_uri": "https://localhost:8080/"
        },
        "id": "t3-PXl3Gor3i",
        "outputId": "04d1980d-37c2-4cb9-ea08-a49fe44fe36f"
      },
      "outputs": [
        {
          "name": "stdout",
          "output_type": "stream",
          "text": [
            "['Jane', 'Sally', 'Jenifer']\n"
          ]
        }
      ],
      "source": [
        "# Sort using the key parameter.\n",
        "\n",
        "# To sort a list by length, we can use the built-in len function.\n",
        "\n",
        "a = (\"Jenifer\", \"Sally\", \"Jane\")\n",
        "x = sorted(a, key=len)\n",
        "print(x)"
      ]
    },
    {
      "cell_type": "code",
      "execution_count": null,
      "metadata": {
        "colab": {
          "base_uri": "https://localhost:8080/"
        },
        "id": "ebT924Lho82h",
        "outputId": "80a0a582-ad88-49b0-96d6-f1ff0cae66cb"
      },
      "outputs": [
        {
          "name": "stdout",
          "output_type": "stream",
          "text": [
            "[11, 12, 5, 3, 17, 2, 1]\n"
          ]
        }
      ],
      "source": [
        "# Sort by a self made function for the key parameter.\n",
        "\n",
        "# Sort the list by the number closest to 10:\n",
        "\n",
        "def myfunc(n):\n",
        "  return abs(10-n)\n",
        "\n",
        "a = (5, 3, 1, 11, 2, 12, 17)\n",
        "x = sorted(a, key=myfunc)\n",
        "print(x)"
      ]
    },
    {
      "cell_type": "code",
      "execution_count": null,
      "metadata": {
        "colab": {
          "base_uri": "https://localhost:8080/"
        },
        "id": "9IuZtpwPAYHG",
        "outputId": "c38e3fe9-0a27-4238-bfe2-9680b5318d13"
      },
      "outputs": [
        {
          "name": "stdout",
          "output_type": "stream",
          "text": [
            "[{'name': 'John', 'score': 85}, {'name': 'Ali', 'score': 90}, {'name': 'Sara', 'score': 95}]\n"
          ]
        }
      ],
      "source": [
        "students = [\n",
        "    {'name': 'Ali', 'score': 90},\n",
        "    {'name': 'Sara', 'score': 95},\n",
        "    {'name': 'John', 'score': 85}\n",
        "]\n",
        "sorted_students = sorted(students, key=lambda x: x['score'])\n",
        "print(sorted_students)"
      ]
    },
    {
      "cell_type": "code",
      "execution_count": null,
      "metadata": {
        "colab": {
          "base_uri": "https://localhost:8080/"
        },
        "id": "hWVTCZtlnUjO",
        "outputId": "f346e76f-38bd-4aa7-b664-f63e33be5ee4"
      },
      "outputs": [
        {
          "name": "stdout",
          "output_type": "stream",
          "text": [
            "[(3, 85), (1, 90), (2, 95)]\n"
          ]
        }
      ],
      "source": [
        "students_scores = [(1, 90), (2, 95), (3, 85)]  # each tuple could represent (ID, score)\n",
        "sorted_scores = sorted(students_scores, key=lambda x: x[1])\n",
        "print(sorted_scores)\n"
      ]
    },
    {
      "cell_type": "code",
      "execution_count": null,
      "metadata": {
        "colab": {
          "base_uri": "https://localhost:8080/"
        },
        "id": "lDAh4wjdov-9",
        "outputId": "73f5fad9-4bab-488c-d988-fe8428e84d13"
      },
      "outputs": [
        {
          "name": "stdout",
          "output_type": "stream",
          "text": [
            "[[3, 85], [5, 90], [12, 95]]\n"
          ]
        }
      ],
      "source": [
        "students_scores = [[5, 90], [12, 95], [3, 85]]\n",
        "sorted_scores = sorted(students_scores, key=lambda x: x[0])\n",
        "print(sorted_scores)\n"
      ]
    },
    {
      "cell_type": "code",
      "execution_count": null,
      "metadata": {
        "colab": {
          "base_uri": "https://localhost:8080/"
        },
        "id": "-zfz2vJao87q",
        "outputId": "0ba10a3c-4725-4388-e296-3eef7825d858"
      },
      "outputs": [
        {
          "name": "stdout",
          "output_type": "stream",
          "text": [
            "[[12, 95], [5, 90], [3, 85]]\n"
          ]
        }
      ],
      "source": [
        "sorted_scores = sorted(students_scores, key=lambda x: x[1], reverse=True)\n",
        "print(sorted_scores)\n"
      ]
    },
    {
      "cell_type": "markdown",
      "metadata": {
        "id": "tc4EBRTNqBla"
      },
      "source": [
        "### **Custom sorting (e.g., vowel count)**"
      ]
    },
    {
      "cell_type": "code",
      "execution_count": null,
      "metadata": {
        "colab": {
          "base_uri": "https://localhost:8080/"
        },
        "id": "gQa3rJt7qD2D",
        "outputId": "c6635fd0-1bfe-4345-e39b-be4efe0646a6"
      },
      "outputs": [
        {
          "name": "stdout",
          "output_type": "stream",
          "text": [
            "['apple', 'grape', 'banana']\n"
          ]
        }
      ],
      "source": [
        "words = ['apple', 'banana', 'grape']\n",
        "\n",
        "def count_vowels(word):\n",
        "    vowels = 0\n",
        "    for letter in word:\n",
        "        if letter in 'aeiou':\n",
        "            vowels += 1\n",
        "    return vowels\n",
        "\n",
        "sorted_words = sorted(words, key=count_vowels)\n",
        "print(sorted_words)\n"
      ]
    },
    {
      "cell_type": "markdown",
      "metadata": {
        "id": "aM6MhsA5AbMm"
      },
      "source": [
        "## **Searching in Python**\n",
        "* **Linear Search:** : Loop through each item in a list to find a match.\n",
        "* **Binary Search (Requires sorted list):** : Efficient search using divide and conquer.\n"
      ]
    },
    {
      "cell_type": "code",
      "execution_count": null,
      "metadata": {
        "colab": {
          "base_uri": "https://localhost:8080/"
        },
        "id": "cvM5bI-SAorR",
        "outputId": "5a7a0b38-628c-440f-d738-e9c99a05c330"
      },
      "outputs": [
        {
          "name": "stdout",
          "output_type": "stream",
          "text": [
            "2\n"
          ]
        }
      ],
      "source": [
        "\n",
        "def linear_search(list, target):\n",
        "    for index, value in enumerate(list):\n",
        "        if value == target:\n",
        "            return index\n",
        "    return -1\n",
        "\n",
        "print(linear_search([10, 20, 30, 40], 30))  # Output: 2"
      ]
    },
    {
      "cell_type": "code",
      "execution_count": null,
      "metadata": {
        "colab": {
          "base_uri": "https://localhost:8080/"
        },
        "id": "7j20Uy4mA1Ob",
        "outputId": "a00aadde-06aa-47b3-a18a-6929904e1114"
      },
      "outputs": [
        {
          "name": "stdout",
          "output_type": "stream",
          "text": [
            "3\n"
          ]
        }
      ],
      "source": [
        "def binary_search(list, target):\n",
        "    low, high = 0, len(list)-1\n",
        "    while low <= high:\n",
        "        mid = (low + high) // 2\n",
        "        if list[mid] == target:\n",
        "            return mid\n",
        "        elif list[mid] < target:\n",
        "            low = mid + 1\n",
        "        else:\n",
        "            high = mid - 1\n",
        "    return -1\n",
        "\n",
        "nums = [1, 3, 5, 7, 9, 11]\n",
        "print(binary_search(nums, 7))  # Output: 3"
      ]
    },
    {
      "cell_type": "markdown",
      "metadata": {
        "id": "TG7HUCdlA9pi"
      },
      "source": [
        "### **📚 Bonus: Use Python bisect module**"
      ]
    },
    {
      "cell_type": "code",
      "execution_count": null,
      "metadata": {
        "id": "OSCSui_VBAql"
      },
      "outputs": [],
      "source": [
        "import bisect\n",
        "\n",
        "nums = [1, 3, 5, 7, 9]\n",
        "index = bisect.bisect_left(nums, 5)\n",
        "print(index)  # 2"
      ]
    },
    {
      "cell_type": "markdown",
      "metadata": {
        "id": "g5sjnpcnBPGd"
      },
      "source": [
        "## **📝 Practice Questions**\n",
        "\n",
        "**💡 Membership Testing**\n",
        "Write a program that checks if a word exists in a sentence. Use in to test if a key exists in a dictionary and return its value.\n",
        "\n",
        "**💡 Sorting**\n",
        "* Sort a list of strings by their last character.\n",
        "* Sort a list of dictionaries based on a 'price' field.\n",
        "\n",
        "**💡 Searching**\n",
        "* Write a linear search function to find the first occurrence of a value.\n",
        "* Implement binary search to find an item in a sorted list.\n",
        "* Try to use Python’s bisect to insert a number into a sorted list while keeping it sorted."
      ]
    },
    {
      "cell_type": "markdown",
      "metadata": {
        "id": "kIPDVOARBelz"
      },
      "source": [
        "### **Write a program that:**\n",
        "\n",
        "Takes a list of names and scores\n",
        "Sorts them in descending order of scores\n",
        "Checks if a specific name is in the top 3"
      ]
    },
    {
      "cell_type": "code",
      "execution_count": null,
      "metadata": {
        "id": "Rd8eWckoEZU4"
      },
      "outputs": [],
      "source": [
        "# Sample data: list of (name, score) tuples\n",
        "data = [\n",
        "    (\"Alice\", 88),\n",
        "    (\"Bob\", 95),\n",
        "    (\"Charlie\", 82),\n",
        "    (\"David\", 90),\n",
        "    (\"Eve\", 87)\n",
        "]\n",
        "\n",
        "# Name to check\n",
        "name_to_check = \"David\"\n",
        "\n",
        "# Define a function to get the score from each tuple\n",
        "def get_score(item):\n",
        "    return item[1]\n",
        "\n",
        "# Sort the data in descending order of scores using the function\n",
        "sorted_data = sorted(data, key=get_score, reverse=True)\n",
        "\n",
        "# Get the top 3 names\n",
        "top_3 = [entry[0] for entry in sorted_data[:3]]\n",
        "\n",
        "# Check if the name is in the top 3\n",
        "if name_to_check in top_3:\n",
        "    print(f\"{name_to_check} is in the top 3.\")\n",
        "else:\n",
        "    print(f\"{name_to_check} is not in the top 3.\")\n"
      ]
    },
    {
      "cell_type": "markdown",
      "metadata": {
        "id": "H93w10MJEnPV"
      },
      "source": [
        "### **Solution of the practice questions:**"
      ]
    },
    {
      "cell_type": "markdown",
      "metadata": {
        "id": "1TA7e4lREvOU"
      },
      "source": [
        "**✅ Membership Testing**"
      ]
    },
    {
      "cell_type": "code",
      "execution_count": null,
      "metadata": {
        "id": "4Iy7VsjTErjG"
      },
      "outputs": [],
      "source": [
        "# Check if a word exists in a sentence\n",
        "sentence = \"Python is a powerful and easy-to-learn language.\"\n",
        "word = \"powerful\"\n",
        "\n",
        "if word in sentence:\n",
        "    print(f\"'{word}' exists in the sentence.\")\n",
        "else:\n",
        "    print(f\"'{word}' does not exist in the sentence.\")\n",
        "\n",
        "# Use 'in' to check if a key exists in a dictionary and return its value\n",
        "student_scores = {\"Alice\": 85, \"Bob\": 90, \"Charlie\": 78}\n",
        "key = \"Bob\"\n",
        "\n",
        "if key in student_scores:\n",
        "    print(f\"{key}'s score is {student_scores[key]}\")\n",
        "else:\n",
        "    print(f\"{key} not found in the dictionary.\")\n"
      ]
    },
    {
      "cell_type": "markdown",
      "metadata": {
        "id": "FmO2cqYzExwY"
      },
      "source": [
        "**💡 Sorting**"
      ]
    },
    {
      "cell_type": "code",
      "execution_count": null,
      "metadata": {
        "id": "oe6YLRrSE1Th"
      },
      "outputs": [],
      "source": [
        "# Sort a list of strings by their last character\n",
        "words = [\"apple\", \"banana\", \"cherry\", \"date\"]\n",
        "sorted_by_last_char = sorted(words, key=lambda w: w[-1])\n",
        "print(\"Sorted by last character:\", sorted_by_last_char)\n",
        "\n",
        "# Sort a list of dictionaries based on a 'price' field\n",
        "products = [\n",
        "    {\"name\": \"pen\", \"price\": 1.2},\n",
        "    {\"name\": \"book\", \"price\": 5.0},\n",
        "    {\"name\": \"notebook\", \"price\": 2.5}\n",
        "]\n",
        "sorted_by_price = sorted(products, key=lambda item: item[\"price\"])\n",
        "print(\"Sorted by price:\", sorted_by_price)\n"
      ]
    },
    {
      "cell_type": "markdown",
      "metadata": {
        "id": "DX_q09M4E4C2"
      },
      "source": [
        " 💡 **Searching**"
      ]
    },
    {
      "cell_type": "markdown",
      "metadata": {
        "id": "pQRc_LUCE9nu"
      },
      "source": [
        "**Linear Search**"
      ]
    },
    {
      "cell_type": "code",
      "execution_count": null,
      "metadata": {
        "id": "VGQ86OxCE7xM"
      },
      "outputs": [],
      "source": [
        "def linear_search(lst, target):\n",
        "    for i, value in enumerate(lst):\n",
        "        if value == target:\n",
        "            return i\n",
        "    return -1\n",
        "\n",
        "numbers = [3, 8, 2, 5, 7]\n",
        "target = 5\n",
        "index = linear_search(numbers, target)\n",
        "print(f\"Linear search: {target} found at index {index}\")\n"
      ]
    },
    {
      "cell_type": "markdown",
      "metadata": {
        "id": "RuwvspQNFFIi"
      },
      "source": [
        "**Binary Search**"
      ]
    },
    {
      "cell_type": "code",
      "execution_count": null,
      "metadata": {
        "id": "k4sge_7CFBQ1"
      },
      "outputs": [],
      "source": [
        "def binary_search(lst, target):\n",
        "    low, high = 0, len(lst) - 1\n",
        "    while low <= high:\n",
        "        mid = (low + high) // 2\n",
        "        if lst[mid] == target:\n",
        "            return mid\n",
        "        elif lst[mid] < target:\n",
        "            low = mid + 1\n",
        "        else:\n",
        "            high = mid - 1\n",
        "    return -1\n",
        "\n",
        "sorted_list = [1, 3, 5, 7, 9]\n",
        "target = 7\n",
        "index = binary_search(sorted_list, target)\n",
        "print(f\"Binary search: {target} found at index {index}\")\n"
      ]
    },
    {
      "cell_type": "markdown",
      "metadata": {
        "id": "7-IPFPVlFNuY"
      },
      "source": [
        "**Using bisect to Insert While Keeping List Sorted**"
      ]
    },
    {
      "cell_type": "code",
      "execution_count": null,
      "metadata": {
        "id": "yi0NuQ8UFUn4"
      },
      "outputs": [],
      "source": [
        "import bisect\n",
        "\n",
        "sorted_numbers = [1, 3, 5, 7]\n",
        "bisect.insort(sorted_numbers, 4)\n",
        "print(\"List after inserting 4 using bisect:\", sorted_numbers)\n"
      ]
    }
  ],
  "metadata": {
    "colab": {
      "provenance": []
    },
    "kernelspec": {
      "display_name": "Python 3",
      "name": "python3"
    },
    "language_info": {
      "name": "python"
    }
  },
  "nbformat": 4,
  "nbformat_minor": 0
}
