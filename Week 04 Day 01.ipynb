{
  "cells": [
    {
      "cell_type": "markdown",
      "metadata": {},
      "source": [
        "# Week 04 Day 01 : Python For Everyone\n",
        "\n",
        "### Topics : OOP Basic revision, Inheritance & Abstraction\n",
        "---\n",
        "* [Youtube Playlist](https://www.youtube.com/playlist?list=PLAIRSMdFhzoKg8KZ5zIbH64wtV8bhshfT) \n",
        "* [GitHub Repo](https://github.com/muhammadfahd/python-for-everyone-course) \n",
        "* [Read me ](README.md) \n",
        "\n",
        "For previous check out\n",
        "* [Week 03 Day 05 ](./Week%2003%20Day%2005.ipynb)\n",
        "\n",
        "Join Icodeguru For live Classes \n",
        "* [Join Now](https://icode.guru/join/)\n",
        "---"
      ]
    },
    {
      "cell_type": "markdown",
      "metadata": {
        "id": "wKAHAQFwbAbe"
      },
      "source": [
        "## **What is OOP?**\n",
        "* OOP stands for Object-Oriented Programming.\n",
        "* Python uses object-oriented programming to help organize code.\n",
        "* In OOP, you create objects. Each object can store data and have functions that work with that data."
      ]
    },
    {
      "cell_type": "markdown",
      "metadata": {
        "id": "5LOLUtSWburJ"
      },
      "source": [
        "### **Advantages of OOP**\n",
        "* Provides a clear structure to programs\n",
        "* Makes code easier to maintain, reuse, and debug\n",
        "* Helps keep your code DRY (Don't Repeat Yourself)\n",
        "* Allows you to build reusable applications with less code\n",
        "* Tip: The DRY principle means you should avoid writing the same code more than once. Move repeated code into functions or classes and reuse it."
      ]
    },
    {
      "cell_type": "markdown",
      "metadata": {
        "id": "iqfId2PQcKgM"
      },
      "source": [
        "### **What are Classes and Objects?**\n",
        "\n",
        "* Classes and objects are the two core concepts in object-oriented programming.\n",
        "* A class defines what an object should look like, and an object is created based on that class. For example:"
      ]
    },
    {
      "cell_type": "markdown",
      "metadata": {
        "id": "54QBMcpfcUX2"
      },
      "source": [
        "![classes vs objects.PNG](data:image/png;base64,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)\n",
        "\n",
        "When you create an object from a class, it inherits all the variables and functions defined inside that class."
      ]
    },
    {
      "cell_type": "markdown",
      "metadata": {
        "id": "Hs7aZCrpcn9u"
      },
      "source": [
        "### **Python Classes/Objects**\n",
        "\n",
        "* Python is an object oriented programming language.\n",
        "* Almost everything in Python is an object, with its properties and methods.\n",
        "* A Class is like an object constructor, or a \"blueprint\" for creating objects."
      ]
    },
    {
      "cell_type": "code",
      "execution_count": null,
      "metadata": {
        "colab": {
          "base_uri": "https://localhost:8080/"
        },
        "id": "Odt1ZCj3dT-J",
        "outputId": "a9a670b4-64de-4a77-f022-4c4554a7e322"
      },
      "outputs": [
        {
          "name": "stdout",
          "output_type": "stream",
          "text": [
            "5\n"
          ]
        }
      ],
      "source": [
        "# Create a class named MyClass, with a property named x:\n",
        "class MyClass:\n",
        "  x = 5\n",
        "# Create an object named p1, and print the value of x:\n",
        "\n",
        "p1 = MyClass()\n",
        "print(p1.x)"
      ]
    },
    {
      "cell_type": "code",
      "execution_count": null,
      "metadata": {
        "colab": {
          "base_uri": "https://localhost:8080/"
        },
        "id": "Mt9oI79LdWjO",
        "outputId": "2655d15e-6832-4f06-a3ae-392fdaaa84bd"
      },
      "outputs": [
        {
          "name": "stdout",
          "output_type": "stream",
          "text": [
            "Welcome New User\n"
          ]
        }
      ],
      "source": [
        "# Create a class named Person, use the __init__() function to assign values for name and age:\n",
        "\n",
        "class Person:\n",
        "  def __init__(self, name, age):\n",
        "    self.name = name\n",
        "    self.age = age\n",
        "\n",
        "  @staticmethod\n",
        "  def welcomeUser():\n",
        "    print(\"Welcome New User\")\n",
        "\n",
        "\n",
        "person1 = Person(\"John\", 36)\n",
        "person2=Person(\"Ali\",40)\n",
        "\n",
        "person1.welcomeUser()\n",
        "\n"
      ]
    },
    {
      "cell_type": "markdown",
      "metadata": {
        "id": "rLhUktrneQ2N"
      },
      "source": [
        "**Note**: The __init__() function is called automatically every time the class is being used to create a new object."
      ]
    },
    {
      "cell_type": "markdown",
      "metadata": {
        "id": "8Rp9gysKfO_O"
      },
      "source": [
        "**The __str__() Function**\n",
        "\n",
        "The __str__() function controls what should be returned when the class object is represented as a string.\n",
        "\n",
        "If the __str__() function is not set, the string representation of the object is returned:"
      ]
    },
    {
      "cell_type": "code",
      "execution_count": null,
      "metadata": {
        "colab": {
          "base_uri": "https://localhost:8080/"
        },
        "id": "5VLbQCPqf5KH",
        "outputId": "2d284d69-bf1b-479d-a845-a75ad00a9427"
      },
      "outputs": [
        {
          "name": "stdout",
          "output_type": "stream",
          "text": [
            "<__main__.Person object at 0x7d7c482ea810>\n"
          ]
        }
      ],
      "source": [
        "# The string representation of an object WITHOUT the __str__() function:\n",
        "\n",
        "class Person:\n",
        "  def __init__(self, name, age):\n",
        "    self.name = name\n",
        "    self.age = age\n",
        "\n",
        "p1 = Person(\"John\", 36)\n",
        "\n",
        "print(p1)"
      ]
    },
    {
      "cell_type": "code",
      "execution_count": null,
      "metadata": {
        "colab": {
          "base_uri": "https://localhost:8080/"
        },
        "id": "m1wRLtU5f-DQ",
        "outputId": "8c392519-735c-4c8d-b5f6-3fa81a77e5f4"
      },
      "outputs": [
        {
          "name": "stdout",
          "output_type": "stream",
          "text": [
            "John(36)\n"
          ]
        }
      ],
      "source": [
        "# The string representation of an object WITH the __str__() function:\n",
        "\n",
        "class Person:\n",
        "  def __init__(self, name, age):\n",
        "    self.name = name\n",
        "    self.age = age\n",
        "\n",
        "  def __str__(self):\n",
        "    return f\"{self.name}({self.age})\"\n",
        "\n",
        "p1 = Person(\"John\", 36)\n",
        "\n",
        "print(p1)"
      ]
    },
    {
      "cell_type": "markdown",
      "metadata": {
        "id": "fniIf3O5gi5P"
      },
      "source": [
        "### **Object Methods**\n",
        "\n",
        "Objects can also contain methods. Methods in objects are functions that belong to the object.\n"
      ]
    },
    {
      "cell_type": "code",
      "execution_count": null,
      "metadata": {
        "colab": {
          "base_uri": "https://localhost:8080/"
        },
        "id": "gBdJ_7m-goYf",
        "outputId": "b7134395-b221-4188-8cb5-22e4b1cb796d"
      },
      "outputs": [
        {
          "name": "stdout",
          "output_type": "stream",
          "text": [
            "Hello my name is John\n"
          ]
        }
      ],
      "source": [
        "# Insert a function that prints a greeting, and execute it on the p1 object:\n",
        "\n",
        "class Person:\n",
        "  def __init__(self, name, age):\n",
        "    self.name = name\n",
        "    self.age = age\n",
        "\n",
        "  def myfunc(self):\n",
        "    print(\"Hello my name is \" + self.name)\n",
        "\n",
        "p1 = Person(\"John\", 36)\n",
        "p1.myfunc()"
      ]
    },
    {
      "cell_type": "markdown",
      "metadata": {
        "id": "e_dRm0inhJzD"
      },
      "source": [
        "**Note** The self parameter is a reference to the current instance of the class, and is used to access variables that belong to the class.\n",
        "\n",
        "It does not have to be named self, you can call it whatever you like, but it has to be the first parameter of any function in the class:"
      ]
    },
    {
      "cell_type": "code",
      "execution_count": null,
      "metadata": {
        "colab": {
          "base_uri": "https://localhost:8080/"
        },
        "id": "U9BA1txJhaX4",
        "outputId": "fea2b5bf-9e0c-4bd3-ab33-e2b16c8077c7"
      },
      "outputs": [
        {
          "name": "stdout",
          "output_type": "stream",
          "text": [
            "Aqib\n"
          ]
        }
      ],
      "source": [
        "class Person:\n",
        "  def __init__(self, name, age):\n",
        "    self.name = name\n",
        "    self.age = age\n",
        "\n",
        "  def myfunc(self):\n",
        "    print(\"Hello my name is \" + self.name)\n",
        "\n",
        "p1 = Person(\"John\", 36)\n",
        "\n",
        "p1.age = 25\n",
        "p1.name=\"Aqib\"\n",
        "\n",
        "del p1.age\n",
        "print(p1.name)\n"
      ]
    },
    {
      "cell_type": "markdown",
      "metadata": {
        "id": "Tfa7jkGsmG0M"
      },
      "source": [
        "## **Python Inheritance**\n",
        "\n",
        "* Inheritance allows us to define a class that inherits all the methods and properties from another class.\n",
        "* Parent class is the class being inherited from, also called base class.\n",
        "* Child class is the class that inherits from another class, also called derived class."
      ]
    },
    {
      "cell_type": "code",
      "execution_count": null,
      "metadata": {
        "colab": {
          "base_uri": "https://localhost:8080/"
        },
        "id": "5Uj_NaYlmi2c",
        "outputId": "6767df5d-26e2-4989-d0ff-d0ae36646c26"
      },
      "outputs": [
        {
          "name": "stdout",
          "output_type": "stream",
          "text": [
            "John Doe\n"
          ]
        }
      ],
      "source": [
        "# Create a class named Person, with firstname and lastname properties, and a printname method:\n",
        "# Parent Class\n",
        "class Person:\n",
        "  def __init__(self, fname, lname):\n",
        "    self.firstname = fname\n",
        "    self.lastname = lname\n",
        "\n",
        "  def printname(self):\n",
        "    print(self.firstname, self.lastname)\n",
        "\n",
        "#Use the Person class to create an object, and then execute the printname method:\n",
        "\n",
        "x = Person(\"John\", \"Doe\")\n",
        "x.printname()"
      ]
    },
    {
      "cell_type": "markdown",
      "metadata": {
        "id": "TfB7XsEwmzl2"
      },
      "source": [
        "### **Create a Child Class**\n",
        "To create a class that inherits the functionality from another class, send the parent class as a parameter when creating the child class:"
      ]
    },
    {
      "cell_type": "code",
      "execution_count": null,
      "metadata": {
        "colab": {
          "base_uri": "https://localhost:8080/"
        },
        "id": "fGEU9lfTnVND",
        "outputId": "103f6929-e5df-42f7-d2cf-1bd23ed14b86"
      },
      "outputs": [
        {
          "name": "stdout",
          "output_type": "stream",
          "text": [
            "Mike Olsen\n"
          ]
        }
      ],
      "source": [
        "# Create a class named Student, which will inherit the properties and methods from the Person class:\n",
        "class Student(Person):\n",
        "  pass\n",
        "\n",
        "student_1 = Student(\"Mike\", \"Olsen\")\n",
        "student_1.printname()"
      ]
    },
    {
      "cell_type": "markdown",
      "metadata": {
        "id": "ZvkR1ftqodXg"
      },
      "source": [
        "### **Add the __init__() Function**\n",
        "\n",
        "* So far we have created a child class that inherits the properties and methods from its parent.\n",
        "* We want to add the __init__() function to the child class (instead of the pass keyword).\n",
        "* **Note** : The __init__() function is called automatically every time the class is being used to create a new object."
      ]
    },
    {
      "cell_type": "code",
      "execution_count": null,
      "metadata": {
        "id": "Zdw33DZYpl6w"
      },
      "outputs": [],
      "source": [
        "# Add the __init__() function to the Student class:\n",
        "\n",
        "class Student(Person):\n",
        "  def __init__(self, fname, lname):\n",
        "    Person.__init__(self, fname, lname)"
      ]
    },
    {
      "cell_type": "markdown",
      "metadata": {
        "id": "6IYZF4x-ptNT"
      },
      "source": [
        "* When you add the __init__() function, the child class will no longer inherit the parent's __init__() function.\n",
        "* **Note**: The child's __init__() function overrides the inheritance of the parent's __init__() function.\n",
        "* **Use the super() Function**\n",
        "* Python also has a super() function that will make the child class inherit all the methods and properties from its parent:"
      ]
    },
    {
      "cell_type": "code",
      "execution_count": null,
      "metadata": {
        "id": "N37cWM5aqKrq"
      },
      "outputs": [],
      "source": [
        "class Student(Person):\n",
        "  def __init__(self, fname, lname):\n",
        "    super().__init__(fname, lname)"
      ]
    },
    {
      "cell_type": "markdown",
      "metadata": {
        "id": "WTM1WpZ7q33p"
      },
      "source": [
        "By using the super() function, you do not have to use the name of the parent element, it will automatically inherit the methods and properties from its parent."
      ]
    },
    {
      "cell_type": "code",
      "execution_count": null,
      "metadata": {
        "colab": {
          "base_uri": "https://localhost:8080/"
        },
        "id": "5WWebioHrkDW",
        "outputId": "b35071f7-1c6b-4772-8943-53fe5beed336"
      },
      "outputs": [
        {
          "name": "stdout",
          "output_type": "stream",
          "text": [
            "Welcome Mike Olsen to the class of 2019\n"
          ]
        }
      ],
      "source": [
        "class Student(Person):\n",
        "  def __init__(self, fname, lname, year):\n",
        "    super().__init__(fname, lname)\n",
        "    self.graduationyear = year\n",
        "# Add a method called welcome to the Student class:\n",
        "  def printname(self):\n",
        "    print(\"Welcome\", self.firstname, self.lastname, \"to the class of\", self.graduationyear)\n",
        "\n",
        "student_1 = Student(\"Mike\", \"Olsen\", 2019)\n",
        "student_1.printname()"
      ]
    },
    {
      "cell_type": "markdown",
      "metadata": {
        "id": "Pa-b3bnlsTCX"
      },
      "source": [
        "If you add a method in the child class with the same name as a function in the parent class, the inheritance of the parent method will be overridden."
      ]
    },
    {
      "cell_type": "markdown",
      "metadata": {
        "id": "RpEwBj-mui8M"
      },
      "source": [
        "## **Abstraction in OOP (Python)**\n",
        "\n",
        "* Abstraction is one of the four core principles of Object-Oriented Programming (OOP). It hides internal implementation details and only exposes necessary functionalities to the user. The idea is to reduce complexity by showing only relevant information.\n",
        "\n",
        "* In Python, abstraction is often implemented using **abstract classes** and **methods**, which are defined using the abc module."
      ]
    },
    {
      "cell_type": "markdown",
      "metadata": {
        "id": "anNQG7HZw06T"
      },
      "source": [
        "### **Key Concepts**\n",
        "\n",
        "* Hides complexity.\n",
        "* Focuses on what an object does, not how it does it.\n",
        "* Achieved using abstract classes and interfaces.\n",
        "* Promotes reusable and maintainable code."
      ]
    },
    {
      "cell_type": "code",
      "execution_count": null,
      "metadata": {
        "colab": {
          "base_uri": "https://localhost:8080/"
        },
        "id": "CJRIZTLYxchs",
        "outputId": "a732a556-016c-404d-975a-690b5ccc69a1"
      },
      "outputs": [
        {
          "name": "stdout",
          "output_type": "stream",
          "text": [
            "Car engine started\n",
            "Motorcycle engine started\n"
          ]
        }
      ],
      "source": [
        "from abc import ABC, abstractmethod\n",
        "\n",
        "# Abstract class\n",
        "class Vehicle(ABC):\n",
        "\n",
        "    @abstractmethod\n",
        "    def start_engine(self):\n",
        "        pass\n",
        "\n",
        "    @abstractmethod\n",
        "    def stop_engine(self):\n",
        "        pass\n",
        "\n",
        "# Concrete class\n",
        "class Car(Vehicle):\n",
        "\n",
        "    def start_engine(self):\n",
        "        print(\"Car engine started\")\n",
        "\n",
        "    def stop_engine(self):\n",
        "        print(\"Car engine stopped\")\n",
        "\n",
        "class Motorcycle(Vehicle):\n",
        "\n",
        "    def start_engine(self):\n",
        "        print(\"Motorcycle engine started\")\n",
        "\n",
        "    def stop_engine(self):\n",
        "        print(\"Motorcycle engine stopped\")\n",
        "\n",
        "# Usage\n",
        "vehicle1 = Car()\n",
        "vehicle1.start_engine()  # Output: Car engine started\n",
        "\n",
        "vehicle2 = Motorcycle()\n",
        "vehicle2.start_engine()  # Output: Motorcycle engine started\n"
      ]
    },
    {
      "cell_type": "markdown",
      "metadata": {
        "id": "rnVdy3V_x0_m"
      },
      "source": [
        "## **Real-World Example**\n",
        "\n",
        "🏦 **ATM Machine**:\n",
        "You interact with an ATM through a user interface:\n",
        "\n",
        "* Withdraw money\n",
        "* Check balance\n",
        "* Deposit cash\n",
        "\n",
        "**You don’t know or care how the backend:**\n",
        "\n",
        "* Validates PIN\n",
        "* Connects to bank servers\n",
        "* Handles transactions"
      ]
    },
    {
      "cell_type": "code",
      "execution_count": null,
      "metadata": {
        "colab": {
          "base_uri": "https://localhost:8080/"
        },
        "id": "ALwXDN1iyVZW",
        "outputId": "83e601be-b9e0-48d7-b05c-e8f63590318c"
      },
      "outputs": [
        {
          "name": "stdout",
          "output_type": "stream",
          "text": [
            "Processing withdrawal of $100\n"
          ]
        }
      ],
      "source": [
        "from abc import ABC, abstractmethod\n",
        "\n",
        "class ATM(ABC):\n",
        "    @abstractmethod\n",
        "    def withdraw(self, amount):\n",
        "        pass\n",
        "    @abstractmethod\n",
        "    def check_balance(self):\n",
        "        pass\n",
        "    @abstractmethod\n",
        "    def deposit(self, amount):\n",
        "        pass\n",
        "#Concrete CLass\n",
        "class HBLATM(ATM):\n",
        "    def withdraw(self, amount):\n",
        "        print(f\"Processing withdrawal of ${amount}\")\n",
        "    def check_balance(self):\n",
        "        print(\"Checking account balance\")\n",
        "    def deposit(self, amount):\n",
        "        print(f\"Depositing ${amount} into account\")\n",
        "\n",
        "atm = HBLATM()\n",
        "atm.withdraw(100)\n"
      ]
    },
    {
      "cell_type": "markdown",
      "metadata": {
        "id": "5Hn5lMlZylnY"
      },
      "source": [
        "### **Benefits of Abstraction**\n",
        "\n",
        "* **Security**: Hides sensitive implementation details.\n",
        "* **Simplicity**: Users work with high-level interfaces.\n",
        "* **Flexibility**: You can change internal logic without affecting users.\n",
        "* **Scalability**: Easy to extend and maintain."
      ]
    },
    {
      "cell_type": "markdown",
      "metadata": {
        "id": "OO24ydfP5C-O"
      },
      "source": [
        "### **Abstract Method — Definition**\n",
        "\n",
        "An abstract method is a method that is declared in the abstract class but has no implementation. Subclasses that inherit the abstract class are required to implement all abstract methods.\n",
        "\n",
        "Abstract methods are defined using the @abstractmethod decorator."
      ]
    },
    {
      "cell_type": "code",
      "execution_count": null,
      "metadata": {
        "id": "IG09XoEQ5P2-"
      },
      "outputs": [],
      "source": [
        "from abc import ABC, abstractmethod\n",
        "\n",
        "# Abstract Class\n",
        "class Animal(ABC):\n",
        "\n",
        "    @abstractmethod\n",
        "    def sound(self):\n",
        "        pass\n",
        "\n",
        "# Concrete Class\n",
        "class Dog(Animal):\n",
        "    def sound(self):\n",
        "        return \"Bark\"\n",
        "\n",
        "class Cat(Animal):\n",
        "    def sound(self):\n",
        "        return \"Meow\"\n",
        "\n",
        "# animal = Animal()  ❌ This will raise an error\n",
        "dog = Dog()\n",
        "print(dog.sound())  # ✅ Output: Bark\n"
      ]
    },
    {
      "cell_type": "markdown",
      "metadata": {
        "id": "NuRNFs935ZnF"
      },
      "source": [
        "### **Explanation**\n",
        "\n",
        "* **Animal** is an abstract class.\n",
        "* **sound()** is an abstract method, so no code inside it.\n",
        "* Dog and Cat are concrete subclasses that implement sound().\n",
        "* If you don't implement the abstract method in the subclass, Python will raise a **TypeError** when you try to create an object of that subclass."
      ]
    }
  ],
  "metadata": {
    "colab": {
      "provenance": []
    },
    "kernelspec": {
      "display_name": "Python 3",
      "name": "python3"
    },
    "language_info": {
      "name": "python"
    }
  },
  "nbformat": 4,
  "nbformat_minor": 0
}
