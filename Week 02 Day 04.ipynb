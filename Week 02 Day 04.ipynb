{
 "cells": [
  {
   "cell_type": "markdown",
   "id": "90817d45",
   "metadata": {},
   "source": [
    "# Week 2 Day 04 : Python For Everyone\n",
    "\n",
    "### Topics : Dictionaries - Key-Value Pairs, Access/Modify/Delete, Methods\n",
    "---\n",
    "[Youtube Playlist](https://www.youtube.com/playlist?list=PLAIRSMdFhzoKg8KZ5zIbH64wtV8bhshfT)\n",
    "[GitHub Repo](https://github.com/muhammadfahd/python-for-everyone-course)\n",
    "For previous check out <br>\n",
    "\n",
    "* [Week 02 Day 01](./Week%2002%20Day%2001.ipynb)\n",
    "* [Week 02 Day 02](./week%2001%20Day%2002.ipynb)\n",
    "* [Week 02 Day 03](./Week%2002%20Day%2003.ipynb)\n",
    "\n",
    "Some Helpful Resources\n",
    "* [Official Documentation](https://docs.python.org/3/tutorial/datastructures.html#dictionaries)"
   ]
  },
  {
   "cell_type": "markdown",
   "id": "9286c071",
   "metadata": {},
   "source": [
    "# Dictionary \n",
    "Dictionaries are used to store data values in key:value pairs.They are written with curly brackets, and have keys and values.\n",
    "* Values in a dictionary can be of any data type and can be duplicated, whereas keys can't be repeated and must be immutable.\n",
    "  ![Concept Dictionary](https://jeevangupta.com/wp-content/uploads/2021/10/Dictionary-in-Python-1024x742.png)"
   ]
  },
  {
   "cell_type": "markdown",
   "id": "e3c078cd",
   "metadata": {},
   "source": [
    "## Creating Dictionary \n"
   ]
  },
  {
   "cell_type": "code",
   "execution_count": 2,
   "id": "328497b3",
   "metadata": {},
   "outputs": [
    {
     "name": "stdout",
     "output_type": "stream",
     "text": [
      "{'name': 'Adil', 'age': 25, 'city': 'Paris'}\n"
     ]
    }
   ],
   "source": [
    "new_dict={\n",
    "    \"name\": \"Adil\",\n",
    "    \"age\": 25,\n",
    "    \"city\": \"Paris\",\n",
    "\n",
    "}\n",
    "\n",
    "print(new_dict)"
   ]
  },
  {
   "cell_type": "code",
   "execution_count": 4,
   "id": "87335ab4",
   "metadata": {},
   "outputs": [
    {
     "name": "stdout",
     "output_type": "stream",
     "text": [
      "{'brand': 'Ford', 'model': 'Mustang', 'year': 1964}\n"
     ]
    }
   ],
   "source": [
    "my_dict={\n",
    "    \n",
    "   \"brand\": \"Ford\",\n",
    "  \"model\": \"Mustang\",\n",
    "  \"year\": 1964\n",
    "}\n",
    "\n",
    "print(my_dict)"
   ]
  },
  {
   "cell_type": "markdown",
   "id": "a6f406d9",
   "metadata": {},
   "source": [
    "##  Accessing Items \n",
    "we can access the items of a dictionary by referring to its key name, inside square brackets. \n",
    "just like in list we pass index to access the item at that index. in dictionary we pass key to access the item at that key.\n"
   ]
  },
  {
   "cell_type": "code",
   "execution_count": 6,
   "id": "a3e146ab",
   "metadata": {},
   "outputs": [
    {
     "data": {
      "text/plain": [
       "'Ford'"
      ]
     },
     "execution_count": 6,
     "metadata": {},
     "output_type": "execute_result"
    }
   ],
   "source": [
    "# prinintg value of brand key\n",
    "my_dict['brand']"
   ]
  },
  {
   "cell_type": "code",
   "execution_count": 5,
   "id": "dbea59fc",
   "metadata": {},
   "outputs": [
    {
     "data": {
      "text/plain": [
       "1964"
      ]
     },
     "execution_count": 5,
     "metadata": {},
     "output_type": "execute_result"
    }
   ],
   "source": [
    "my_dict[\"year\"]"
   ]
  },
  {
   "cell_type": "markdown",
   "id": "21c717d3",
   "metadata": {},
   "source": [
    "* **Get Keys** :The keys() method will return a list of all the keys in the dictionar\n",
    "* **Get Values**: The values() method will return a list of all the values in the dictionary."
   ]
  },
  {
   "cell_type": "code",
   "execution_count": 7,
   "id": "6e64938a",
   "metadata": {},
   "outputs": [
    {
     "name": "stdout",
     "output_type": "stream",
     "text": [
      "dict_keys(['brand', 'model', 'year'])\n",
      "dict_values(['Ford', 'Mustang', 1964])\n"
     ]
    }
   ],
   "source": [
    "print(my_dict.keys())\n",
    "print(my_dict.values())"
   ]
  },
  {
   "cell_type": "markdown",
   "id": "b43309ea",
   "metadata": {},
   "source": [
    "## Changing Values\n",
    "you can change the value of a specific item by referring to its key name:"
   ]
  },
  {
   "cell_type": "code",
   "execution_count": null,
   "id": "45c8cb2e",
   "metadata": {},
   "outputs": [
    {
     "name": "stdout",
     "output_type": "stream",
     "text": [
      "{'brand': 'Ford', 'model': 'Honda', 'year': 2025}\n",
      "{'brand': 'Ford', 'model': 'Honda', 'year': 2025}\n"
     ]
    }
   ],
   "source": [
    "my_dict[\"year\"]=2025\n",
    "\n",
    "my_dict['model']='Honda'\n",
    "print(my_dict)"
   ]
  },
  {
   "cell_type": "markdown",
   "id": "96c40e5a",
   "metadata": {},
   "source": [
    "## Adding Items\n",
    "Adding an item to the dictionary is done by using a new index key and assigning a value to it"
   ]
  },
  {
   "cell_type": "code",
   "execution_count": 12,
   "id": "af85eb45",
   "metadata": {},
   "outputs": [],
   "source": [
    "my_dict[\"country\"]=\"Pakistan\""
   ]
  },
  {
   "cell_type": "code",
   "execution_count": 13,
   "id": "559990f9",
   "metadata": {},
   "outputs": [
    {
     "data": {
      "text/plain": [
       "{'brand': 'Ford', 'model': 'Honda', 'year': 2025, 'country': 'Pakistan'}"
      ]
     },
     "execution_count": 13,
     "metadata": {},
     "output_type": "execute_result"
    }
   ],
   "source": [
    "my_dict"
   ]
  },
  {
   "cell_type": "code",
   "execution_count": 14,
   "id": "381a166f",
   "metadata": {},
   "outputs": [
    {
     "name": "stdout",
     "output_type": "stream",
     "text": [
      "{'brand': 'Ford', 'model': 'Honda', 'year': 2025, 'country': 'Pakistan', 'Hero': 'Adil khan'}\n"
     ]
    }
   ],
   "source": [
    "my_dict['Hero']='Adil khan'\n",
    "print(my_dict)"
   ]
  },
  {
   "cell_type": "markdown",
   "id": "74f7c021",
   "metadata": {},
   "source": [
    "## Removing Items\n",
    "there are several methods to remove items from a dictionary:\n",
    "* The **pop()** method removes the item with the specified key name:\n",
    "* The **del** keyword removes the item with the specified key name:\n",
    "* The **clear()** method empties the dictionary:\n"
   ]
  },
  {
   "cell_type": "code",
   "execution_count": 15,
   "id": "153524d4",
   "metadata": {},
   "outputs": [
    {
     "data": {
      "text/plain": [
       "'Adil khan'"
      ]
     },
     "execution_count": 15,
     "metadata": {},
     "output_type": "execute_result"
    }
   ],
   "source": [
    "my_dict.pop('country')\n",
    "\n",
    "my_dict.pop('Hero')"
   ]
  },
  {
   "cell_type": "code",
   "execution_count": 17,
   "id": "c48066dc",
   "metadata": {},
   "outputs": [
    {
     "name": "stdout",
     "output_type": "stream",
     "text": [
      "{}\n"
     ]
    }
   ],
   "source": [
    "my_dict.clear()\n",
    "\n",
    "print(my_dict)"
   ]
  },
  {
   "cell_type": "markdown",
   "id": "252f497f",
   "metadata": {},
   "source": [
    "## Loop Through Dictionary \n",
    "You can loop through a dictionary by using a for loop."
   ]
  },
  {
   "cell_type": "code",
   "execution_count": 18,
   "id": "b6617792",
   "metadata": {},
   "outputs": [],
   "source": [
    "my_dict={\n",
    "    \"brand\": \"Ford\",\n",
    "  \"model\": \"Mustang\",\n",
    "  \"year\": 1964\n",
    "  }"
   ]
  },
  {
   "cell_type": "markdown",
   "id": "98a1fffd",
   "metadata": {},
   "source": [
    "1. Print **all key names** in the dictionary."
   ]
  },
  {
   "cell_type": "code",
   "execution_count": 19,
   "id": "a954c37d",
   "metadata": {},
   "outputs": [
    {
     "name": "stdout",
     "output_type": "stream",
     "text": [
      "brand\n",
      "model\n",
      "year\n"
     ]
    }
   ],
   "source": [
    "for x in my_dict:\n",
    "    print(x)"
   ]
  },
  {
   "cell_type": "markdown",
   "id": "0f0276a6",
   "metadata": {},
   "source": [
    "2. Print **all values** in the dictionary, one by one:"
   ]
  },
  {
   "cell_type": "code",
   "execution_count": 20,
   "id": "b53e5f72",
   "metadata": {},
   "outputs": [
    {
     "name": "stdout",
     "output_type": "stream",
     "text": [
      "Ford\n",
      "Mustang\n",
      "1964\n"
     ]
    }
   ],
   "source": [
    "for x in my_dict:\n",
    "    print(my_dict[x])"
   ]
  },
  {
   "cell_type": "markdown",
   "id": "29d6e2cc",
   "metadata": {},
   "source": [
    "can also use\n",
    "* values() method to return values of a dictionary:\n",
    "* keys() method to return the keys of a dictionary:"
   ]
  },
  {
   "cell_type": "markdown",
   "id": "a2570c8e",
   "metadata": {},
   "source": [
    "## Advacne Concept - Nested Dictionary\n"
   ]
  },
  {
   "cell_type": "code",
   "execution_count": 21,
   "id": "1e94d297",
   "metadata": {},
   "outputs": [],
   "source": [
    "myfamily = {\n",
    "  \"child1\" : {\n",
    "    \"name\" : \"Emil\",\n",
    "    \"year\" : 2004\n",
    "  },\n",
    "  \"child2\" : {\n",
    "    \"name\" : \"Tobias\",\n",
    "    \"year\" : 2007\n",
    "  },\n",
    "  \"child3\" : {\n",
    "    \"name\" : \"Linus\",\n",
    "    \"year\" : 2011\n",
    "  }\n",
    "}"
   ]
  },
  {
   "cell_type": "code",
   "execution_count": 22,
   "id": "85f81649",
   "metadata": {},
   "outputs": [
    {
     "name": "stdout",
     "output_type": "stream",
     "text": [
      "Tobias\n"
     ]
    }
   ],
   "source": [
    "print(myfamily[\"child2\"][\"name\"])"
   ]
  },
  {
   "attachments": {
    "image.png": {
     "image/png": "[encoded data removed]"
    }
   },
   "cell_type": "markdown",
   "id": "06e1061c",
   "metadata": {},
   "source": [
    "## Dictionary Methods\n",
    "![image.png](attachment:image.png)"
   ]
  },
  {
   "cell_type": "markdown",
   "id": "c725b17f",
   "metadata": {},
   "source": [
    "## Example Scenarios\n",
    "\n",
    "1. Student Grades:\n",
    "    - Store student grades in a dictionary with student names as keys and grades as values.\n",
    "    - Calculate average grades or retrieve specific student grades.\n",
    "2. Product Inventory:\n",
    "    - Store product information in a dictionary with product IDs as keys and product details as values.\n",
    "    - Update product quantities or retrieve product information.\n",
    "3. User Profiles:\n",
    "    - Store user profile information in a dictionary with user IDs as keys and profile details as values.\n",
    "    - Retrieve user information or update user profiles.\n"
   ]
  },
  {
   "cell_type": "code",
   "execution_count": 26,
   "id": "730b255f",
   "metadata": {},
   "outputs": [
    {
     "name": "stdout",
     "output_type": "stream",
     "text": [
      "84.33333333333333\n"
     ]
    }
   ],
   "source": [
    "# Student Grades\n",
    "student_grades = {\n",
    "    'John': 85,\n",
    "    'Jane': 90,\n",
    "    'Bob': 78\n",
    "}\n",
    "# getting all values \n",
    "all_scores=student_grades.values()\n",
    "no_of_items=len(all_scores)\n",
    "\n",
    "sum=sum(all_scores)\n",
    "avg=sum/no_of_items\n",
    "print(avg)\n",
    "\n"
   ]
  },
  {
   "cell_type": "markdown",
   "id": "ae92bf5b",
   "metadata": {},
   "source": [
    "# Function"
   ]
  },
  {
   "cell_type": "code",
   "execution_count": null,
   "id": "523f6af7",
   "metadata": {},
   "outputs": [
    {
     "name": "stdout",
     "output_type": "stream",
     "text": [
      "Hello world\n"
     ]
    }
   ],
   "source": [
    "print(\"Hello world\")\n"
   ]
  },
  {
   "cell_type": "markdown",
   "id": "7bad7269",
   "metadata": {},
   "source": [
    "## simplest Function"
   ]
  },
  {
   "cell_type": "code",
   "execution_count": 28,
   "id": "8000e312",
   "metadata": {},
   "outputs": [],
   "source": [
    "# a simple function\n",
    "\n",
    "def first_line():\n",
    "    print(\"hello world\")\n",
    "\n",
    "    "
   ]
  },
  {
   "cell_type": "code",
   "execution_count": 29,
   "id": "c2d21a46",
   "metadata": {},
   "outputs": [
    {
     "name": "stdout",
     "output_type": "stream",
     "text": [
      "hello world\n"
     ]
    }
   ],
   "source": [
    "first_line()"
   ]
  },
  {
   "cell_type": "markdown",
   "id": "9b64ae4a",
   "metadata": {},
   "source": [
    "## Function With Return "
   ]
  },
  {
   "cell_type": "code",
   "execution_count": 31,
   "id": "06059bc9",
   "metadata": {},
   "outputs": [
    {
     "name": "stdout",
     "output_type": "stream",
     "text": [
      "hello world\n",
      "None\n"
     ]
    }
   ],
   "source": [
    "# return something \n",
    "\n",
    "def first_line():\n",
    "    #return(\"hello world\")\n",
    "    print(\"hello world\")\n",
    "\n",
    "\n",
    "\n",
    "greeting=first_line()\n",
    "\n",
    "print(greeting)"
   ]
  },
  {
   "cell_type": "markdown",
   "id": "079956cc",
   "metadata": {},
   "source": [
    "## Loop & Function "
   ]
  },
  {
   "cell_type": "code",
   "execution_count": 32,
   "id": "84e5601d",
   "metadata": {},
   "outputs": [
    {
     "name": "stdout",
     "output_type": "stream",
     "text": [
      "hello world\n",
      "hello world\n",
      "hello world\n",
      "hello world\n",
      "hello world\n",
      "hello world\n",
      "hello world\n",
      "hello world\n",
      "hello world\n",
      "hello world\n",
      "hello world\n",
      "hello world\n",
      "hello world\n",
      "hello world\n",
      "hello world\n",
      "hello world\n",
      "hello world\n",
      "hello world\n",
      "hello world\n",
      "hello world\n",
      "hello world\n",
      "hello world\n",
      "hello world\n",
      "hello world\n",
      "hello world\n",
      "hello world\n",
      "hello world\n",
      "hello world\n",
      "hello world\n",
      "hello world\n",
      "hello world\n",
      "hello world\n",
      "hello world\n",
      "hello world\n",
      "hello world\n",
      "hello world\n",
      "hello world\n",
      "hello world\n",
      "hello world\n",
      "hello world\n",
      "hello world\n",
      "hello world\n",
      "hello world\n",
      "hello world\n",
      "hello world\n",
      "hello world\n",
      "hello world\n",
      "hello world\n",
      "hello world\n",
      "hello world\n",
      "hello world\n",
      "hello world\n",
      "hello world\n",
      "hello world\n",
      "hello world\n",
      "hello world\n",
      "hello world\n",
      "hello world\n",
      "hello world\n",
      "hello world\n",
      "hello world\n",
      "hello world\n",
      "hello world\n",
      "hello world\n",
      "hello world\n",
      "hello world\n",
      "hello world\n",
      "hello world\n",
      "hello world\n",
      "hello world\n",
      "hello world\n",
      "hello world\n",
      "hello world\n",
      "hello world\n",
      "hello world\n",
      "hello world\n",
      "hello world\n",
      "hello world\n",
      "hello world\n",
      "hello world\n",
      "hello world\n",
      "hello world\n",
      "hello world\n",
      "hello world\n",
      "hello world\n",
      "hello world\n",
      "hello world\n",
      "hello world\n",
      "hello world\n",
      "hello world\n",
      "hello world\n",
      "hello world\n",
      "hello world\n",
      "hello world\n",
      "hello world\n",
      "hello world\n",
      "hello world\n",
      "hello world\n",
      "hello world\n",
      "hello world\n"
     ]
    }
   ],
   "source": [
    "# loop with function\n",
    "\n",
    "for i in range(100):\n",
    "    first_line()"
   ]
  },
  {
   "cell_type": "markdown",
   "id": "b7d0c432",
   "metadata": {},
   "source": [
    "## Passing Parameters and Arguments "
   ]
  },
  {
   "cell_type": "code",
   "execution_count": null,
   "id": "c1526c27",
   "metadata": {},
   "outputs": [
    {
     "name": "stdout",
     "output_type": "stream",
     "text": [
      "hello  Fahad\n",
      "hello  Irfan\n",
      "hello  Adil\n",
      "hello  Rafay\n"
     ]
    }
   ],
   "source": [
    "# parameters => like placeholder\n",
    "# arguments => actual values\n",
    "\n",
    "def first_line(name):\n",
    "    #return(\"hello world\")\n",
    "    print(\"hello \",name)\n",
    "\n",
    "\n",
    "\n",
    "first_line('Fahad')  # actual value => arguments \n",
    "first_line('Irfan')\n",
    "first_line('Adil')\n",
    "first_line('Rafay')\n",
    "\n",
    "\n",
    "\n"
   ]
  },
  {
   "cell_type": "code",
   "execution_count": 37,
   "id": "8e00844a",
   "metadata": {},
   "outputs": [
    {
     "name": "stdout",
     "output_type": "stream",
     "text": [
      "Fahadhelo\n"
     ]
    }
   ],
   "source": [
    "# parameters => like placeholder\n",
    "# arguments => actual values\n",
    "\n",
    "def first_line(name):\n",
    "    user_name=name + 'helo'\n",
    "    return user_name\n",
    "\n",
    "\n",
    "\n",
    "user=first_line('Fahad')  # actual value => arguments \n",
    "\n",
    "print(user)\n",
    "\n",
    "\n",
    "\n"
   ]
  },
  {
   "cell_type": "markdown",
   "id": "e38dba6a",
   "metadata": {},
   "source": [
    "## Simple sum function "
   ]
  },
  {
   "cell_type": "code",
   "execution_count": null,
   "id": "223bfebd",
   "metadata": {},
   "outputs": [],
   "source": [
    "# sum prorgam \n",
    "\n",
    "# take 2 value form user \n",
    "# pass retunr \n",
    "# print result"
   ]
  },
  {
   "cell_type": "code",
   "execution_count": 38,
   "id": "49c39aaa",
   "metadata": {},
   "outputs": [
    {
     "name": "stdout",
     "output_type": "stream",
     "text": [
      "14\n"
     ]
    }
   ],
   "source": [
    "def sum_of_num(a,b):\n",
    "    return a+b\n",
    "\n",
    "\n",
    "my_sum=sum_of_num(6,8)\n",
    "print(my_sum)"
   ]
  },
  {
   "cell_type": "markdown",
   "id": "2c693cd6",
   "metadata": {},
   "source": [
    "---"
   ]
  },
  {
   "cell_type": "markdown",
   "id": "69dca5da",
   "metadata": {},
   "source": [
    "# Practise Questions\n"
   ]
  },
  {
   "cell_type": "markdown",
   "id": "d1629811",
   "metadata": {},
   "source": [
    "## ✅Functions:\n",
    "\n",
    "* Write a function that returns the square of a number.\n",
    "* Create a function that takes a name and age and prints a greeting.\n",
    "* Write a function that returns the maximum of three numbers.\n",
    "* Write a function that checks whether a number is even or odd.\n",
    "* \n"
   ]
  },
  {
   "cell_type": "markdown",
   "id": "f322bba3",
   "metadata": {},
   "source": [
    "## ✅Dictionary \n",
    "\n",
    "* Create a dictionary of 3 favorite movies with release years. Print each key-value pair.\n",
    "* Write a program to count how many times each character appears in a string.\n",
    "* Create a dictionary from two lists: one with keys and one with values.\n",
    "* Create a dictionary to store a person’s details: name, age, and profession. Use a function to display the details."
   ]
  }
 ],
 "metadata": {
  "kernelspec": {
   "display_name": "Python 3",
   "language": "python",
   "name": "python3"
  },
  "language_info": {
   "codemirror_mode": {
    "name": "ipython",
    "version": 3
   },
   "file_extension": ".py",
   "mimetype": "text/x-python",
   "name": "python",
   "nbconvert_exporter": "python",
   "pygments_lexer": "ipython3",
   "version": "3.12.3"
  }
 },
 "nbformat": 4,
 "nbformat_minor": 5
}
