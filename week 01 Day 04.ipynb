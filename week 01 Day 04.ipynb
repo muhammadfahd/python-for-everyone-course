{
  "cells": [
    {
      "cell_type": "markdown",
      "metadata": {
        "id": "-7RhKBYxPMmB"
      },
      "source": [
        "### **Character Set, Comments, Variables, Expressions, Data Types:**"
      ]
    },
    {
      "cell_type": "markdown",
      "metadata": {},
      "source": [
        "# Day 04 Python For Everyone\n",
        "---\n",
        "##  Topics :Python operators in detail including following:\n",
        "\n",
        "* Arithmetic operators\n",
        "* Assignment operators\n",
        "* Comparison operators\n",
        "* Logical operators\n",
        "* Identity operators\n",
        "* Membership operators\n",
        "* Bitwise operators\n",
        "\n",
        "[Youtube Playlist](https://www.youtube.com/playlist?list=PLAIRSMdFhzoKg8KZ5zIbH64wtV8bhshfT)\n",
        "\n",
        "For previous check out \n",
        "* [Week 01 Day 01](./Week%2001%20Day%2001/w1-D1-notebook.ipynb)\n",
        "* [Week 01 Day 02](./week%2001%20Day%2002.ipynb) \n",
        "* [Week 01 Day 03](./week%2001%20Day%2003.ipynb)"
      ]
    },
    {
      "cell_type": "markdown",
      "metadata": {},
      "source": [
        "We Covered\n",
        "* [Python Operators](#python-operators)\n",
        "  * [Assignment Operator](#python-assignment-operators)\n",
        "  * [Comparison Operator](#python-comparison-operators)\n",
        "  * [Logical Operator](#python-logical-operators)\n",
        "  * [Identity Operator](#python-identity-operators)\n",
        "  * [Membership Operator](#python-membership-operators)\n",
        "* [Practise Exercise](#practice-exercises)"
      ]
    },
    {
      "cell_type": "markdown",
      "metadata": {
        "id": "eMYRu4iCNSSt"
      },
      "source": [
        "# **Python Operators**\n",
        "Operators are used to perform operations on variables and values.\n",
        "Python divides the operators in the following groups:\n",
        "\n",
        "* Arithmetic operators\n",
        "* Assignment operators\n",
        "* Comparison operators\n",
        "* Logical operators\n",
        "* Identity operators\n",
        "* Membership operators\n",
        "* Bitwise operators"
      ]
    },
    {
      "cell_type": "markdown",
      "metadata": {
        "id": "1lRQsf7CYJlg"
      },
      "source": [
        "## **Arithmetic Operators**\n",
        "Arithmetic operators are used to perform mathematical operations on numeric values. They are a fundamental part of programming and are used in a wide range of applications.\n",
        "\n",
        "Types of Arithmetic Operators\n",
        "\n",
        "Here are the most common arithmetic operators:\n",
        "\n",
        "1. **Addition (+)**: Used to add two or more numbers together.\n",
        "2. **Subtraction (-)**: Used to subtract one number from another.\n",
        "3. **Multiplication ()**: Used to multiply two or more numbers together.\n",
        "4. **Division (/)**: Used to divide one number by another.\n",
        "5. **Modulus (%)**: Used to find the remainder of a division operation.\n",
        "6. **Exponentiation (^ or *)**: Used to raise a number to a power.\n",
        "7. **Floor Division (//):** Used to divide one number by another and return the largest whole number"
      ]
    },
    {
      "cell_type": "code",
      "execution_count": null,
      "metadata": {
        "colab": {
          "base_uri": "https://localhost:8080/"
        },
        "id": "J3qGF08N1sWN",
        "outputId": "08d49b02-d220-4523-8e80-ba894b34fb93"
      },
      "outputs": [
        {
          "name": "stdout",
          "output_type": "stream",
          "text": [
            "Enter a number: 5\n",
            "<class 'str'>\n"
          ]
        }
      ],
      "source": [
        "num = input(\"Enter a number: \")\n",
        "print(type(num))"
      ]
    },
    {
      "cell_type": "code",
      "execution_count": null,
      "metadata": {
        "colab": {
          "base_uri": "https://localhost:8080/"
        },
        "id": "bNq4aAR8N9Ys",
        "outputId": "bd544803-68a4-4820-e140-c743937df0e3"
      },
      "outputs": [
        {
          "name": "stdout",
          "output_type": "stream",
          "text": [
            "Enter first number: 2\n",
            "Enter second number: 5\n",
            "7\n",
            "-3\n",
            "10\n",
            "0.4\n",
            "2\n",
            "32\n",
            "0\n"
          ]
        }
      ],
      "source": [
        "x, y=int(input(\"Enter first number: \")),int(input(\"Enter second number: \"))\n",
        "\n",
        "# +\tAddition\n",
        "print(x + y)\n",
        "\n",
        "# -\tSubtraction\n",
        "print(x - y)\n",
        "\n",
        "# *\tMultiplication\n",
        "print(x * y)\n",
        "\n",
        "# /\tDivision\n",
        "print(x / y)\n",
        "\n",
        "# %\tModulus\n",
        "print(x % y)\n",
        "\n",
        "# **\tExponentiation\n",
        "print(x ** y)\n",
        "\n",
        "# //\tFloor division\n",
        "print(x // y)"
      ]
    },
    {
      "cell_type": "markdown",
      "metadata": {
        "id": "YwV2Yo2GPgCD"
      },
      "source": [
        "## **Python Assignment Operators**\n",
        "Assignment operators are used to assign a value to a variable. They are a fundamental part of programming and are used to store and manipulate data.\n",
        "\n",
        "**Types of Assignment Operators**\n",
        "Here are the most common assignment operators:\n",
        "1. **Simple Assignment (=)**: Assigns a value to a variable.\n",
        "2. **Addition Assignment (+=)**: Adds a value to a variable and assigns the result back to the variable.\n",
        "3. **Subtraction Assignment (-=)**: Subtracts a value from a variable and assigns the result back to the variable.\n",
        "4. **Multiplication Assignment (=)**: Multiplies a variable by a value and assigns the result back to the variable.\n",
        "5. **Division Assignment (/=)**: Divides a variable by a value and assigns the result back to the variable.\n",
        "6. **Modulus Assignment (%=)**: Computes the modulus of a variable and a value, and assigns the result back to the variable.\n",
        "7. **Exponentiation Assignment (=)**: Raises a variable to a power and assigns the result back to the variable."
      ]
    },
    {
      "cell_type": "code",
      "execution_count": null,
      "metadata": {
        "colab": {
          "base_uri": "https://localhost:8080/"
        },
        "id": "Ub7yiB7UQqYC",
        "outputId": "ed27bfab-17a7-4aa5-c2ec-f95eff6c8bd4"
      },
      "outputs": [
        {
          "name": "stdout",
          "output_type": "stream",
          "text": [
            "x = 5\n",
            "x after += 3: 8\n",
            "x after -= 3: 5\n",
            "x after *= 3: 15\n",
            "x after /= 3: 5.0\n",
            "x after %= 3: 2.0\n",
            "x after //= 3: 3\n",
            "x after **= 3: 27\n",
            "x after &= 3: 1\n",
            "x after |= 3: 3\n",
            "x assign 5 and print it 5\n",
            "x using := operator: 3\n",
            "x after := 3: 3\n"
          ]
        }
      ],
      "source": [
        "# = Simple assignment\n",
        "x = 5  # Assign 5 to x\n",
        "print(\"x =\", x)\n",
        "\n",
        "# += Addition assignment\n",
        "x += 3  # Same as x = x + 3\n",
        "print(\"x after += 3:\", x)\n",
        "\n",
        "# -= Subtraction assignment\n",
        "x -= 3  # Same as x = x - 3\n",
        "print(\"x after -= 3:\", x)\n",
        "\n",
        "# *= Multiplication assignment\n",
        "x *= 3  # Same as x = x * 3\n",
        "print(\"x after *= 3:\", x)\n",
        "\n",
        "# /= Division assignment\n",
        "x /= 3  # Same as x = x / 3 (results in float)\n",
        "print(\"x after /= 3:\", x)\n",
        "\n",
        "# %= Modulus assignment\n",
        "x %= 3  # Same as x = x % 3 (remainder)\n",
        "print(\"x after %= 3:\", x)\n",
        "\n",
        "# Reset x for further bitwise examples\n",
        "x = 10\n",
        "\n",
        "# //= Floor division assignment\n",
        "x //= 3  # Same as x = x // 3 (integer division)\n",
        "print(\"x after //= 3:\", x)\n",
        "\n",
        "# **= Exponent assignment\n",
        "x **= 3  # Same as x = x ** 3\n",
        "print(\"x after **= 3:\", x)\n",
        "\n",
        "# Reset x for bitwise operations\n",
        "x = 5  # binary: 0101\n",
        "\n",
        "# &= Bitwise AND assignment\n",
        "x &= 3  # x = x & 3 (0101 & 0011 = 0001)\n",
        "print(\"x after &= 3:\", x)\n",
        "\n",
        "# |= Bitwise OR assignment\n",
        "x |= 3  # x = x | 3 (0001 | 0011 = 0011)\n",
        "print(\"x after |= 3:\", x)\n",
        "\n",
        "print(\"x assign 5 and print it\", y:=5)\n",
        "\n",
        "# := Walrus operator (assignment expression)\n",
        "# Introduced in Python 3.8+\n",
        "# Assigns and returns value in a single expression\n",
        "print(\"x using := operator:\", x := 3)  # Assigns 3 to x and prints it\n",
        "print(\"x after := 3:\", x)"
      ]
    },
    {
      "cell_type": "markdown",
      "metadata": {
        "id": "Aw_s_XjWVAT6"
      },
      "source": [
        "## **Python Comparison Operators**\n",
        "Comparison operators are used to compare two values and return a boolean result (True or False). They are essential in programming for making decisions, validating data, and controlling the flow of a program.\n",
        "\n",
        "**Types of Comparison Operators**\n",
        "\n",
        "Here are the most common comparison operators:\n",
        "\n",
        "1. **Equal (==)**: Checks if two values are equal.\n",
        "2. **Not Equal (!=)**: Checks if two values are not equal.\n",
        "3. **Greater Than (>)**: Checks if one value is greater than another.\n",
        "4. **Less Than (<)**: Checks if one value is less than another.\n",
        "5. **Greater Than or Equal (>=)**: Checks if one value is greater than or equal to another.\n",
        "6. **Less Than or Equal (<=)**: Checks if one value is less than or equal to another.\n"
      ]
    },
    {
      "cell_type": "code",
      "execution_count": null,
      "metadata": {
        "colab": {
          "base_uri": "https://localhost:8080/"
        },
        "id": "d3FSstW6VF7y",
        "outputId": "403be10d-50b4-4204-bf66-d5d3a32c040a"
      },
      "outputs": [
        {
          "name": "stdout",
          "output_type": "stream",
          "text": [
            "x == y: True\n",
            "x != y: False\n",
            "x > y: False\n",
            "x < y: False\n",
            "x >= y: True\n",
            "x <= y: True\n"
          ]
        }
      ],
      "source": [
        "# Comparison operators compare two values and return True or False\n",
        "\n",
        "x = 10\n",
        "y = 10\n",
        "\n",
        "\n",
        "# == Equal\n",
        "print(\"x == y:\", x == y)  # False, because 10 is not equal to 20\n",
        "\n",
        "# != Not equal\n",
        "print(\"x != y:\", x != y)  # True, because 10 is not equal to 20\n",
        "\n",
        "# > Greater than\n",
        "print(\"x > y:\", x > y)    # False, because 10 is not greater than 20\n",
        "\n",
        "# < Less than\n",
        "print(\"x < y:\", x < y)    # True, because 10 is less than 20\n",
        "\n",
        "# >= Greater than or equal to\n",
        "print(\"x >= y:\", x >= y)  # False, because 10 is not greater than or equal to 20\n",
        "\n",
        "# <= Less than or equal to\n",
        "print(\"x <= y:\", x <= y)  # True, because 10 is less than or equal to 20\n"
      ]
    },
    {
      "cell_type": "markdown",
      "metadata": {
        "id": "CNK5N0iZWBDZ"
      },
      "source": [
        "# **Python Logical Operators**\n",
        "Logical operators are used to combine multiple conditions or statements and return a boolean result (True or False). They are essential in programming for making decisions, validating data, and controlling the flow of a program.\n",
        "\n",
        "**Types of Logical Operators**\n",
        "\n",
        "Here are the most common logical operators:\n",
        "\n",
        "1. **AND (&& or and)**: Returns True if both conditions are True.\n",
        "2. **OR (|| or or)**: Returns True if at least one condition is True.\n",
        "3. **NOT (! or not)**: Returns the opposite of the condition (True becomes False, and False becomes True).\n"
      ]
    },
    {
      "cell_type": "markdown",
      "metadata": {
        "id": "HSmPw5fMWJYR"
      },
      "source": [
        "| Operator | Description                                | Example                 | Result |\n",
        "| -------- | ------------------------------------------ | ----------------------- | ------ |\n",
        "| `and`    | True if **both** conditions are true       | `x > 5 and x < 10`      | True   |\n",
        "| `or`     | True if **at least one** condition is true | `x < 5 or x < 10`       | True   |\n",
        "| `not`    | **Negates** the result                     | `not(x < 5 and x < 10)` | False  |\n"
      ]
    },
    {
      "cell_type": "code",
      "execution_count": null,
      "metadata": {
        "colab": {
          "base_uri": "https://localhost:8080/"
        },
        "id": "QgPnvub9WNdp",
        "outputId": "ca099a54-744b-4094-a492-d253d6c05aed"
      },
      "outputs": [
        {
          "name": "stdout",
          "output_type": "stream",
          "text": [
            "x > 5 and x < 10: True\n",
            "x > 5 and x > 10: False\n",
            "x < 5 or x < 10: True\n",
            "x < 5 or x > 10: False\n",
            "not(x > 5 and x < 10): False\n",
            "not(x < 5 or x > 10): False\n"
          ]
        }
      ],
      "source": [
        "# Logical operators combine multiple conditions and return True or False\n",
        "\n",
        "x = 7\n",
        "\n",
        "# and → Returns True only if **both** conditions are True\n",
        "print(\"x > 5 and x < 10:\", x > 5 and x < 10)  # True and True → True\n",
        "\n",
        "print(\"x > 5 and x > 10:\", x > 5 and x > 10)  # True and False → False\n",
        "\n",
        "# or → Returns True if **at least one** condition is True\n",
        "print(\"x < 5 or x < 10:\", x < 5 or x < 10)    # False or True → True\n",
        "\n",
        "print(\"x < 5 or x > 10:\", x < 5 or x > 10)    # False or False → False\n",
        "\n",
        "# not → Reverses the result: True becomes False, False becomes True\n",
        "print(\"not(x > 5 and x < 10):\", not(x > 5 and x < 10))  # not(True) → False\n",
        "\n",
        "print(\"not(x < 5 or x > 10):\", not(x > 5 or x > 10))    # not(False) → True\n"
      ]
    },
    {
      "cell_type": "markdown",
      "metadata": {
        "id": "dIAEyA3HW0NJ"
      },
      "source": [
        "## **Python Identity Operators**\n",
        "Identity operators are used to check if two variables or values are identical, meaning they refer to the same object in memory. They are essential in programming for comparing objects and determining their relationships.\n",
        "\n",
        "**Types of Identity Operators**\n",
        "\n",
        "Here are the most common identity operators:\n",
        "1. **is**: Returns True if both variables refer to the same object in memory.\n",
        "2. **is not**: Returns True if both variables do not refer to the same object in memory.\n",
        "\n",
        "**How Identity Operators Work**\n",
        "* Identity operators work by checking if two variables point to the same memory location, not just if their values are equal.\n",
        "\n",
        "**Key Differences**\n",
        "* The key difference between identity operators and comparison operators (==) is that identity operators check for object identity, while comparison operators check for value equality.\n"
      ]
    },
    {
      "cell_type": "code",
      "execution_count": null,
      "metadata": {
        "colab": {
          "base_uri": "https://localhost:8080/"
        },
        "id": "tjylIi5iXQQY",
        "outputId": "b9621923-7b17-475a-a97d-36dd2755c956"
      },
      "outputs": [
        {
          "name": "stdout",
          "output_type": "stream",
          "text": [
            "x is y: True\n",
            "x is not y: False\n",
            "a == b: True\n",
            "a is b: False\n",
            "a is not b: True\n",
            "a is c: True\n",
            "a is not c: False\n"
          ]
        }
      ],
      "source": [
        "# Identity operators check if two variables refer to the same object in memory\n",
        "\n",
        "# Example 1: with integers\n",
        "x = 5\n",
        "y = 5\n",
        "\n",
        "# is → True if x and y refer to the same memory location\n",
        "print(\"x is y:\", x is y)  # True, small integers are cached in Python\n",
        "\n",
        "# is not → True if x and y do NOT refer to the same memory location\n",
        "print(\"x is not y:\", x is not y)  # False, they are the same object\n",
        "\n",
        "\n",
        "# Example 2: with lists\n",
        "a = [1, 2, 3]\n",
        "b = [1, 2, 3]\n",
        "\n",
        "# Lists with the same content but different memory locations\n",
        "print(\"a == b:\", a == b)     # True, contents are equal\n",
        "print(\"a is b:\", a is b)     # False, they are different objects\n",
        "print(\"a is not b:\", a is not b)  # True\n",
        "\n",
        "# Example 3: assign one variable to another\n",
        "c = a  # Both c and a point to the same list object\n",
        "\n",
        "print(\"a is c:\", a is c)     # True\n",
        "print(\"a is not c:\", a is not c)  # False\n"
      ]
    },
    {
      "cell_type": "markdown",
      "metadata": {
        "id": "pGZVwSdRZx8N"
      },
      "source": [
        "## **Python Membership Operators**\n",
        "\n",
        "Membership operators are used to check if a value is present in a sequence (such as a string, list, or tuple) or a collection (such as a set or dictionary).\n",
        "\n",
        "**Types of Membership Operators**\n",
        "\n",
        "Here are the most common membership operators:\n",
        "\n",
        "1. **in**: Returns True if the value is found in the sequence or collection.\n",
        "2. **not in**: Returns True if the value is not found in the sequence or collection.\n",
        "\n",
        "**How Membership Operators Work**\n",
        "* Membership operators work by searching for the value in the sequence or collection and returning a boolean result.\n"
      ]
    },
    {
      "cell_type": "code",
      "execution_count": null,
      "metadata": {
        "colab": {
          "base_uri": "https://localhost:8080/"
        },
        "id": "PtyBhlD2aDOv",
        "outputId": "6d74c2e0-804d-4e87-f57a-bd280929280c"
      },
      "outputs": [
        {
          "name": "stdout",
          "output_type": "stream",
          "text": [
            "'banana' in fruits: True\n",
            "'grape' in fruits: False\n",
            "'banana' not in fruits: False\n",
            "'grape' not in fruits: True\n",
            "'Hello' in message: True\n",
            "'world' in message: True\n",
            "'Python' in message: False\n",
            "'Python' not in message: True\n"
          ]
        }
      ],
      "source": [
        "# Membership operators check whether a value exists in a sequence (like list, string, tuple, etc.)\n",
        "\n",
        "# Example 1: Using 'in' with a list\n",
        "fruits = [\"apple\", \"banana\", \"cherry\"]\n",
        "\n",
        "print(\"'banana' in fruits:\", \"banana\" in fruits)  # True, banana is in the list\n",
        "print(\"'grape' in fruits:\", \"grape\" in fruits)    # False, grape is not in the list\n",
        "\n",
        "# Example 2: Using 'not in' with a list\n",
        "print(\"'banana' not in fruits:\", \"banana\" not in fruits)  # False\n",
        "print(\"'grape' not in fruits:\", \"grape\" not in fruits)    # True\n",
        "\n",
        "# Example 3: Using 'in' with a string\n",
        "message = \"Hello, world!\"\n",
        "\n",
        "print(\"'Hello' in message:\", \"Hello\" in message)  # True\n",
        "print(\"'world' in message:\", \"world\" in message)  # True\n",
        "print(\"'Python' in message:\", \"Python\" in message)  # False\n",
        "\n",
        "# Example 4: Using 'not in' with a string\n",
        "print(\"'Python' not in message:\", \"Python\" not in message)  # True\n"
      ]
    },
    {
      "cell_type": "markdown",
      "metadata": {
        "id": "O81cR5ulgkX-"
      },
      "source": [
        "# **Practice Exercises**"
      ]
    },
    {
      "cell_type": "markdown",
      "metadata": {
        "id": "Aiq7Ba-Ubjyf"
      },
      "source": [
        "**Type Conversion / Casting**\n",
        "\n",
        "1. Convert the string \"123\" into an integer and add 10 to it.\n",
        "\n",
        "2. Convert a float number 12.75 into an integer and print the result.\n",
        "\n",
        "3. Take a float number as input from the user and convert it to a string, then print its type.\n",
        "\n",
        "4. Convert boolean values True and False into integers and print the results."
      ]
    },
    {
      "cell_type": "code",
      "execution_count": null,
      "metadata": {
        "colab": {
          "base_uri": "https://localhost:8080/"
        },
        "id": "0j6p5YaI2T7C",
        "outputId": "5a76ee5d-171c-42e2-d6f4-02932d077af5"
      },
      "outputs": [
        {
          "name": "stdout",
          "output_type": "stream",
          "text": [
            "133\n"
          ]
        }
      ],
      "source": [
        "var1=\"123\"\n",
        "var2=int(var1)\n",
        "print(var2+10)"
      ]
    },
    {
      "cell_type": "code",
      "execution_count": null,
      "metadata": {
        "colab": {
          "base_uri": "https://localhost:8080/"
        },
        "id": "NB6nAc7IkRmp",
        "outputId": "35ffe75c-b8f9-49a2-d804-89df85a61f9d"
      },
      "outputs": [
        {
          "name": "stdout",
          "output_type": "stream",
          "text": [
            "12\n"
          ]
        }
      ],
      "source": [
        "var2 = 12.75\n",
        "var3 = int(var2)\n",
        "print(var3)"
      ]
    },
    {
      "cell_type": "code",
      "execution_count": null,
      "metadata": {
        "colab": {
          "base_uri": "https://localhost:8080/"
        },
        "id": "rotEPnr5kfgK",
        "outputId": "0f678c74-b31f-45b5-c848-2932a1b3ea10"
      },
      "outputs": [
        {
          "name": "stdout",
          "output_type": "stream",
          "text": [
            "Enter a float number: 6.9\n",
            "<class 'str'> 6.9\n"
          ]
        }
      ],
      "source": [
        "var3 = float(input(\"Enter a float number: \"))\n",
        "var3 = str(var3)\n",
        "print(type(var3),var3)"
      ]
    },
    {
      "cell_type": "code",
      "execution_count": null,
      "metadata": {
        "colab": {
          "base_uri": "https://localhost:8080/"
        },
        "id": "sb6CHqwulPy9",
        "outputId": "d68bed05-724d-4997-a813-00e45150f50b"
      },
      "outputs": [
        {
          "name": "stdout",
          "output_type": "stream",
          "text": [
            "1\n",
            "0\n"
          ]
        }
      ],
      "source": [
        "var4 = True\n",
        "var5 = False\n",
        "var6 = int(var4)\n",
        "var7 = int(var5)\n",
        "print(var6)\n",
        "print(var7)"
      ]
    },
    {
      "cell_type": "markdown",
      "metadata": {
        "id": "xNtruLBxb8pH"
      },
      "source": [
        "**Input / Output**\n",
        "1. Ask the user to enter their name and age, and print a message like:\n",
        "\"Hello John, you are 25 years old.\"\n",
        "\n",
        "2. Write a program that asks the user for two numbers and prints:\n",
        "\n",
        "* Their sum\n",
        "\n",
        "* Their difference\n",
        "\n",
        "* Their product\n",
        "\n",
        "3. Format the output of π to 3 decimal places like this:\n",
        "\"The value of pi is approximately 3.142\""
      ]
    },
    {
      "cell_type": "code",
      "execution_count": null,
      "metadata": {
        "colab": {
          "base_uri": "https://localhost:8080/"
        },
        "id": "qWMkSqBPl6R6",
        "outputId": "d73ede63-07f9-4372-8ca8-d09a4de9c769"
      },
      "outputs": [
        {
          "name": "stdout",
          "output_type": "stream",
          "text": [
            "Enter your name: Fahad\n",
            "Enter your age: 20\n",
            "Hello Fahad, you are 20 years old.\n"
          ]
        }
      ],
      "source": [
        "name,age=input(\"Enter your name: \"),int(input(\"Enter your age: \"))\n",
        "print(f\"Hello {name}, you are {age} years old.\")"
      ]
    },
    {
      "cell_type": "code",
      "execution_count": null,
      "metadata": {
        "colab": {
          "base_uri": "https://localhost:8080/"
        },
        "id": "qnuIBE60wDhD",
        "outputId": "468f3a9a-d45e-452c-c652-0799b4a3c811"
      },
      "outputs": [
        {
          "name": "stdout",
          "output_type": "stream",
          "text": [
            "The value of pi is approximately 3.142\n"
          ]
        }
      ],
      "source": [
        "# Format the output of π to 3 decimal places like this: \"The value of pi is approximately 3.142\"\n",
        "\n",
        "x = 3.1415926535\n",
        "print(\"The value of pi is approximately {:.3f}\".format(pi))"
      ]
    },
    {
      "cell_type": "markdown",
      "metadata": {
        "id": "3g5OZG-IfkWH"
      },
      "source": [
        " **Arithmetic Operators**\n",
        "1. Take two numbers as input and perform all arithmetic operations on them.\n",
        "\n",
        "2. Given a number, print its square using the exponentiation operator (**).\n",
        "\n",
        "3. Use floor division to divide 10 by 3 and print the result.\n",
        "\n",
        "**Assignment Operators**\n",
        "1. Assign x = 5, then use += to add 10 and print the new value.\n",
        "\n",
        "2. Assign y = 20, then use //= 3 and print the result.\n",
        "\n",
        "**Comparison Operators**\n",
        "1. Take two numbers from the user and check:\n",
        "\n",
        "* if they are equal\n",
        "\n",
        "* if the first is greater\n",
        "\n",
        "* if the second is less\n",
        "\n",
        "**Logical Operators**\n",
        "1. Take two numbers and check if both are greater than 0 using and.\n",
        "\n",
        "2. Check if at least one number is even using or.\n",
        "\n",
        "**Identity and Membership**\n",
        "1. Create two identical lists and check:\n",
        "\n",
        "* if they are equal using ==\n",
        "\n",
        "* if they are the same object using is\n",
        "\n",
        "2. Check if \"a\" is in the string \"alphabet\"."
      ]
    },
    {
      "cell_type": "code",
      "execution_count": null,
      "metadata": {
        "colab": {
          "base_uri": "https://localhost:8080/"
        },
        "id": "pbd9-L98rMTF",
        "outputId": "8ccf771a-3a91-4ec7-b9c9-445021a3f9ea"
      },
      "outputs": [
        {
          "name": "stdout",
          "output_type": "stream",
          "text": [
            "Enter first number: 5\n",
            "Enter second number: 2\n",
            "Sum of 5 and 2 is 7\n",
            "Difference of 5 and 2 is 3\n",
            "Product of 5 and 2 is 10\n",
            "Quotient of 5 and 2 is 2.5\n",
            "Remainder of 5 and 2 is 1\n",
            "5 to the power of 2 is 25\n",
            "Floor division of 5 and 2 is 2\n"
          ]
        }
      ],
      "source": [
        "num1,num2 = int(input(\"Enter first number: \")),int(input(\"Enter second number: \"))\n",
        "print(f\"Sum of {num1} and {num2} is {num1+num2}\")\n",
        "print(f\"Difference of {num1} and {num2} is {num1-num2}\")\n",
        "print(f\"Product of {num1} and {num2} is {num1*num2}\")\n",
        "print(f\"Quotient of {num1} and {num2} is {num1/num2}\")\n",
        "print(f\"Remainder of {num1} and {num2} is {num1%num2}\")\n",
        "print(f\"{num1} to the power of {num2} is {num1**num2}\")\n",
        "print(f\"Floor division of {num1} and {num2} is {num1//num2}\")"
      ]
    },
    {
      "cell_type": "code",
      "execution_count": null,
      "metadata": {
        "colab": {
          "base_uri": "https://localhost:8080/"
        },
        "id": "j3Q1MDGKr2uL",
        "outputId": "f0bb3284-2b35-4f26-80df-91ec5e2182b3"
      },
      "outputs": [
        {
          "name": "stdout",
          "output_type": "stream",
          "text": [
            "Enter a number: 2\n",
            "The square of 2 is 4\n"
          ]
        }
      ],
      "source": [
        "num = int(input(\"Enter a number: \"))\n",
        "print(f\"The square of {num} is {num**2}\")"
      ]
    },
    {
      "cell_type": "code",
      "execution_count": null,
      "metadata": {
        "colab": {
          "base_uri": "https://localhost:8080/"
        },
        "id": "NshMF3HCsAlr",
        "outputId": "50d0d97a-57ab-489c-d99a-1f9cb06b6e4e"
      },
      "outputs": [
        {
          "name": "stdout",
          "output_type": "stream",
          "text": [
            "Floor division of 10 by 3 is 3\n"
          ]
        }
      ],
      "source": [
        "num = 10\n",
        "print(f\"Floor division of {num} by 3 is {num//3}\")"
      ]
    },
    {
      "cell_type": "code",
      "execution_count": null,
      "metadata": {
        "colab": {
          "base_uri": "https://localhost:8080/"
        },
        "id": "K4iRrz5MqPta",
        "outputId": "1ccdbd96-6f5a-4414-a94e-fb3d5cd8df1b"
      },
      "outputs": [
        {
          "name": "stdout",
          "output_type": "stream",
          "text": [
            "15\n",
            "6\n"
          ]
        }
      ],
      "source": [
        "# Assign x = 5, then use += to add 10 and print the new value.\n",
        "# Assign y = 20, then use //= 3 and print the result.\n",
        "\n",
        "x = 5\n",
        "x += 10\n",
        "\n",
        "y = 20\n",
        "y //=3\n",
        "\n",
        "print(x)\n",
        "print(y)"
      ]
    },
    {
      "cell_type": "code",
      "execution_count": null,
      "metadata": {
        "colab": {
          "base_uri": "https://localhost:8080/"
        },
        "id": "BzuUCfqipO3B",
        "outputId": "e3ed5ed6-c43f-462f-f4ae-fc705f7f7e16"
      },
      "outputs": [
        {
          "name": "stdout",
          "output_type": "stream",
          "text": [
            "Enter the first number: 2\n",
            "Enter the second number: 2\n",
            "Are the numbers equal? True\n",
            "Is the first number greater than the second? False\n",
            "Is the second number less than the first? False\n"
          ]
        }
      ],
      "source": [
        "# Take two numbers from the user and check:\n",
        "# if they are equal\n",
        "# if the first is greater\n",
        "# if the second is less\n",
        "\n",
        "num1 = float(input(\"Enter the first number: \"))\n",
        "num2 = float(input(\"Enter the second number: \"))\n",
        "\n",
        "# Check if they are equal\n",
        "print(f\"Are the numbers equal? {num1 == num2}\")\n",
        "\n",
        "# Check if the first is greater\n",
        "print(f\"Is the first number greater than the second? {num1 > num2}\")\n",
        "\n",
        "# Check if the second is less\n",
        "print(f\"Is the second number less than the first? {num2 < num1}\")\n"
      ]
    },
    {
      "cell_type": "code",
      "execution_count": null,
      "metadata": {
        "colab": {
          "base_uri": "https://localhost:8080/"
        },
        "id": "dkQlD0m3oQDA",
        "outputId": "e0ff8913-ba3b-4d6d-b8b7-36c3fe27fedd"
      },
      "outputs": [
        {
          "name": "stdout",
          "output_type": "stream",
          "text": [
            "Enter the first number: 2\n",
            "Enter the second number: 3\n",
            "Both 2 and 3 are greater than 0.\n",
            "At least one number (2, 3) is even.\n"
          ]
        }
      ],
      "source": [
        "# Take two numbers and check if both are greater than 0 using and.\n",
        "# Check if at least one number is even using or.\n",
        "\n",
        "num1 = int(input(\"Enter the first number: \"))\n",
        "num2 = int(input(\"Enter the second number: \"))\n",
        "\n",
        "# Logical AND\n",
        "if num1 > 0 and num2 > 0:\n",
        "    print(f\"Both {num1} and {num2} are greater than 0.\")\n",
        "else:\n",
        "    print(f\"At least one number ({num1}, {num2}) is not greater than 0.\")\n",
        "\n",
        "# Logical OR\n",
        "if num1 % 2 == 0 or num2 % 2 == 0:\n",
        "    print(f\"At least one number ({num1}, {num2}) is even.\")\n",
        "else:\n",
        "    print(f\"Neither number ({num1}, {num2}) is even.\")\n"
      ]
    },
    {
      "cell_type": "code",
      "execution_count": null,
      "metadata": {
        "colab": {
          "base_uri": "https://localhost:8080/"
        },
        "id": "x4EaFd1wnTPj",
        "outputId": "6b364822-6b29-427a-e068-c074907d6289"
      },
      "outputs": [
        {
          "name": "stdout",
          "output_type": "stream",
          "text": [
            "list1 == list2: True\n",
            "list1 is list2: False\n",
            "Is 'a' in 'alphabet': True\n"
          ]
        }
      ],
      "source": [
        "# Create two identical lists and check:\n",
        "# if they are equal using ==\n",
        "# if they are the same object using is\n",
        "# Check if \"a\" is in the string \"alphabet\".\n",
        "\n",
        "# Identity and Membership\n",
        "# 1. Create two identical lists and check:\n",
        "#    * if they are equal using ==\n",
        "#    * if they are the same object using is\n",
        "#\n",
        "# 2. Check if \"a\" is in the string \"alphabet\".\n",
        "\n",
        "list1 = [1, 2, 3]\n",
        "list2 = [1, 2, 3]\n",
        "\n",
        "# Check if lists are equal by content\n",
        "print(\"list1 == list2:\", list1 == list2)\n",
        "\n",
        "# Check if lists are the same object\n",
        "print(\"list1 is list2:\", list1 is list2)\n",
        "\n",
        "# Check if \"a\" is in the string \"alphabet\"\n",
        "test_string = \"alphabet\"\n",
        "char_to_check = \"a\"\n",
        "print(f\"Is '{char_to_check}' in '{test_string}':\", char_to_check in test_string)\n"
      ]
    }
  ],
  "metadata": {
    "colab": {
      "provenance": []
    },
    "kernelspec": {
      "display_name": "Python 3",
      "name": "python3"
    },
    "language_info": {
      "name": "python"
    }
  },
  "nbformat": 4,
  "nbformat_minor": 0
}
